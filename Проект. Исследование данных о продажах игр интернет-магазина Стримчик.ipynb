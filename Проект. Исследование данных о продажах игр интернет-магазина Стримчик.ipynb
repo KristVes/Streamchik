{
 "cells": [
  {
   "cell_type": "markdown",
   "id": "c6e66414",
   "metadata": {},
   "source": [
    "# Сборный проект 1. Исследование данных о продажах игр интернет-магазина \"Стримчик\""
   ]
  },
  {
   "cell_type": "markdown",
   "id": "bc7d9d26",
   "metadata": {},
   "source": [
    "# Описание проекта\n",
    "\n",
    "Вы работаете в интернет-магазине «Стримчик», который продаёт по всему миру компьютерные игры. Из открытых источников доступны исторические данные о продажах игр, оценки пользователей и экспертов, жанры и платформы (например, Xbox или PlayStation). Вам нужно выявить определяющие успешность игры закономерности. Это позволит сделать ставку на потенциально популярный продукт и спланировать рекламные кампании.   \n",
    "\n",
    "Перед вами данные до 2016 года. Представим, что сейчас декабрь 2016 г., и вы планируете кампанию на 2017-й. Нужно отработать принцип работы с данными. Неважно, прогнозируете ли вы продажи на 2017 год по данным 2016-го или же 2027-й — по данным 2026 года.  \n",
    "\n",
    "В наборе данных попадается аббревиатура **ESRB (Entertainment Software Rating Board)** — это ассоциация, определяющая возрастной рейтинг компьютерных игр. **ESRB** оценивает игровой контент и присваивает ему подходящую возрастную категорию, например, «Для взрослых», «Для детей младшего возраста» или «Для подростков».  \n",
    "\n",
    "# Описание данных\n",
    "- **Name** — название игры\n",
    "- **Platform** — платформа\n",
    "- **Year_of_Release** — год выпуска\n",
    "- **Genre** — жанр игры\n",
    "- **NA_sales** — продажи в Северной Америке (миллионы проданных копий)\n",
    "- **EU_sales** — продажи в Европе (миллионы проданных копий)\n",
    "- **JP_sales** — продажи в Японии (миллионы проданных копий)\n",
    "- **Other_sales** — продажи в других странах (миллионы проданных копий)\n",
    "- **Critic_Score** — оценка критиков (максимум 100)\n",
    "- **User_Score** — оценка пользователей (максимум 10)\n",
    "- **Rating** — рейтинг от организации ESRB (англ. Entertainment Software Rating Board). Эта ассоциация определяет рейтинг компьютерных игр и присваивает им подходящую возрастную категорию.\n",
    "\n",
    "Данные за 2016 год могут быть неполными."
   ]
  },
  {
   "cell_type": "markdown",
   "id": "55682127",
   "metadata": {},
   "source": [
    "# Инструкция по выполнению проекта\n",
    "\n",
    "## Шаг 1. Откройте файл с данными и изучите общую информацию\n",
    "\n",
    "Путь к файлу: /datasets/games.csv."
   ]
  },
  {
   "cell_type": "markdown",
   "id": "e0ede5c1",
   "metadata": {},
   "source": [
    "Для начала импортируем все необходимые для дальнейшей работы библиотеки. "
   ]
  },
  {
   "cell_type": "code",
   "execution_count": 1,
   "id": "7b3ac4b8",
   "metadata": {},
   "outputs": [],
   "source": [
    "import pandas as pd\n",
    "import numpy as np\n",
    "import matplotlib.pyplot as plt \n",
    "import seaborn as sns\n",
    "from scipy import stats as st"
   ]
  },
  {
   "cell_type": "markdown",
   "id": "dc006590",
   "metadata": {},
   "source": [
    "Затем импортируем датасет."
   ]
  },
  {
   "cell_type": "code",
   "execution_count": 2,
   "id": "0a125a00",
   "metadata": {},
   "outputs": [],
   "source": [
    "pd.set_option('display.max_columns', None)\n",
    "\n",
    "try:\n",
    "    data_fresh = pd.read_csv('games.csv')\n",
    "except:\n",
    "    data_fresh = pd.read_csv('/datasets/games.csv')\n",
    "#загружаем данные из файла в датафрейм data"
   ]
  },
  {
   "cell_type": "code",
   "execution_count": 3,
   "id": "acb2ee8e",
   "metadata": {},
   "outputs": [],
   "source": [
    "data = data_fresh.copy() #создаем копию датасета"
   ]
  },
  {
   "cell_type": "code",
   "execution_count": 4,
   "id": "9108dcbc",
   "metadata": {},
   "outputs": [
    {
     "data": {
      "text/html": [
       "<div>\n",
       "<style scoped>\n",
       "    .dataframe tbody tr th:only-of-type {\n",
       "        vertical-align: middle;\n",
       "    }\n",
       "\n",
       "    .dataframe tbody tr th {\n",
       "        vertical-align: top;\n",
       "    }\n",
       "\n",
       "    .dataframe thead th {\n",
       "        text-align: right;\n",
       "    }\n",
       "</style>\n",
       "<table border=\"1\" class=\"dataframe\">\n",
       "  <thead>\n",
       "    <tr style=\"text-align: right;\">\n",
       "      <th></th>\n",
       "      <th>Name</th>\n",
       "      <th>Platform</th>\n",
       "      <th>Year_of_Release</th>\n",
       "      <th>Genre</th>\n",
       "      <th>NA_sales</th>\n",
       "      <th>EU_sales</th>\n",
       "      <th>JP_sales</th>\n",
       "      <th>Other_sales</th>\n",
       "      <th>Critic_Score</th>\n",
       "      <th>User_Score</th>\n",
       "      <th>Rating</th>\n",
       "    </tr>\n",
       "  </thead>\n",
       "  <tbody>\n",
       "    <tr>\n",
       "      <th>0</th>\n",
       "      <td>Wii Sports</td>\n",
       "      <td>Wii</td>\n",
       "      <td>2006.0</td>\n",
       "      <td>Sports</td>\n",
       "      <td>41.36</td>\n",
       "      <td>28.96</td>\n",
       "      <td>3.77</td>\n",
       "      <td>8.45</td>\n",
       "      <td>76.0</td>\n",
       "      <td>8</td>\n",
       "      <td>E</td>\n",
       "    </tr>\n",
       "    <tr>\n",
       "      <th>1</th>\n",
       "      <td>Super Mario Bros.</td>\n",
       "      <td>NES</td>\n",
       "      <td>1985.0</td>\n",
       "      <td>Platform</td>\n",
       "      <td>29.08</td>\n",
       "      <td>3.58</td>\n",
       "      <td>6.81</td>\n",
       "      <td>0.77</td>\n",
       "      <td>NaN</td>\n",
       "      <td>NaN</td>\n",
       "      <td>NaN</td>\n",
       "    </tr>\n",
       "    <tr>\n",
       "      <th>2</th>\n",
       "      <td>Mario Kart Wii</td>\n",
       "      <td>Wii</td>\n",
       "      <td>2008.0</td>\n",
       "      <td>Racing</td>\n",
       "      <td>15.68</td>\n",
       "      <td>12.76</td>\n",
       "      <td>3.79</td>\n",
       "      <td>3.29</td>\n",
       "      <td>82.0</td>\n",
       "      <td>8.3</td>\n",
       "      <td>E</td>\n",
       "    </tr>\n",
       "    <tr>\n",
       "      <th>3</th>\n",
       "      <td>Wii Sports Resort</td>\n",
       "      <td>Wii</td>\n",
       "      <td>2009.0</td>\n",
       "      <td>Sports</td>\n",
       "      <td>15.61</td>\n",
       "      <td>10.93</td>\n",
       "      <td>3.28</td>\n",
       "      <td>2.95</td>\n",
       "      <td>80.0</td>\n",
       "      <td>8</td>\n",
       "      <td>E</td>\n",
       "    </tr>\n",
       "    <tr>\n",
       "      <th>4</th>\n",
       "      <td>Pokemon Red/Pokemon Blue</td>\n",
       "      <td>GB</td>\n",
       "      <td>1996.0</td>\n",
       "      <td>Role-Playing</td>\n",
       "      <td>11.27</td>\n",
       "      <td>8.89</td>\n",
       "      <td>10.22</td>\n",
       "      <td>1.00</td>\n",
       "      <td>NaN</td>\n",
       "      <td>NaN</td>\n",
       "      <td>NaN</td>\n",
       "    </tr>\n",
       "  </tbody>\n",
       "</table>\n",
       "</div>"
      ],
      "text/plain": [
       "                       Name Platform  Year_of_Release         Genre  NA_sales  \\\n",
       "0                Wii Sports      Wii           2006.0        Sports     41.36   \n",
       "1         Super Mario Bros.      NES           1985.0      Platform     29.08   \n",
       "2            Mario Kart Wii      Wii           2008.0        Racing     15.68   \n",
       "3         Wii Sports Resort      Wii           2009.0        Sports     15.61   \n",
       "4  Pokemon Red/Pokemon Blue       GB           1996.0  Role-Playing     11.27   \n",
       "\n",
       "   EU_sales  JP_sales  Other_sales  Critic_Score User_Score Rating  \n",
       "0     28.96      3.77         8.45          76.0          8      E  \n",
       "1      3.58      6.81         0.77           NaN        NaN    NaN  \n",
       "2     12.76      3.79         3.29          82.0        8.3      E  \n",
       "3     10.93      3.28         2.95          80.0          8      E  \n",
       "4      8.89     10.22         1.00           NaN        NaN    NaN  "
      ]
     },
     "execution_count": 4,
     "metadata": {},
     "output_type": "execute_result"
    }
   ],
   "source": [
    "data.head()"
   ]
  },
  {
   "cell_type": "markdown",
   "id": "634ff797",
   "metadata": {},
   "source": [
    "\n",
    "## Шаг 2. Подготовьте данные\n"
   ]
  },
  {
   "cell_type": "markdown",
   "id": "26120f40",
   "metadata": {},
   "source": [
    "\n",
    "### Замените названия столбцов (приведите к нижнему регистру)"
   ]
  },
  {
   "cell_type": "code",
   "execution_count": 5,
   "id": "76e26bd5",
   "metadata": {},
   "outputs": [],
   "source": [
    "data.columns = map(str.lower, data.columns)"
   ]
  },
  {
   "cell_type": "markdown",
   "id": "61054ac1",
   "metadata": {},
   "source": [
    "Проверим, изменились ли названия столбцов. "
   ]
  },
  {
   "cell_type": "code",
   "execution_count": 6,
   "id": "94c140be",
   "metadata": {
    "scrolled": true
   },
   "outputs": [
    {
     "data": {
      "text/html": [
       "<div>\n",
       "<style scoped>\n",
       "    .dataframe tbody tr th:only-of-type {\n",
       "        vertical-align: middle;\n",
       "    }\n",
       "\n",
       "    .dataframe tbody tr th {\n",
       "        vertical-align: top;\n",
       "    }\n",
       "\n",
       "    .dataframe thead th {\n",
       "        text-align: right;\n",
       "    }\n",
       "</style>\n",
       "<table border=\"1\" class=\"dataframe\">\n",
       "  <thead>\n",
       "    <tr style=\"text-align: right;\">\n",
       "      <th></th>\n",
       "      <th>name</th>\n",
       "      <th>platform</th>\n",
       "      <th>year_of_release</th>\n",
       "      <th>genre</th>\n",
       "      <th>na_sales</th>\n",
       "      <th>eu_sales</th>\n",
       "      <th>jp_sales</th>\n",
       "      <th>other_sales</th>\n",
       "      <th>critic_score</th>\n",
       "      <th>user_score</th>\n",
       "      <th>rating</th>\n",
       "    </tr>\n",
       "  </thead>\n",
       "  <tbody>\n",
       "    <tr>\n",
       "      <th>0</th>\n",
       "      <td>Wii Sports</td>\n",
       "      <td>Wii</td>\n",
       "      <td>2006.0</td>\n",
       "      <td>Sports</td>\n",
       "      <td>41.36</td>\n",
       "      <td>28.96</td>\n",
       "      <td>3.77</td>\n",
       "      <td>8.45</td>\n",
       "      <td>76.0</td>\n",
       "      <td>8</td>\n",
       "      <td>E</td>\n",
       "    </tr>\n",
       "    <tr>\n",
       "      <th>1</th>\n",
       "      <td>Super Mario Bros.</td>\n",
       "      <td>NES</td>\n",
       "      <td>1985.0</td>\n",
       "      <td>Platform</td>\n",
       "      <td>29.08</td>\n",
       "      <td>3.58</td>\n",
       "      <td>6.81</td>\n",
       "      <td>0.77</td>\n",
       "      <td>NaN</td>\n",
       "      <td>NaN</td>\n",
       "      <td>NaN</td>\n",
       "    </tr>\n",
       "    <tr>\n",
       "      <th>2</th>\n",
       "      <td>Mario Kart Wii</td>\n",
       "      <td>Wii</td>\n",
       "      <td>2008.0</td>\n",
       "      <td>Racing</td>\n",
       "      <td>15.68</td>\n",
       "      <td>12.76</td>\n",
       "      <td>3.79</td>\n",
       "      <td>3.29</td>\n",
       "      <td>82.0</td>\n",
       "      <td>8.3</td>\n",
       "      <td>E</td>\n",
       "    </tr>\n",
       "    <tr>\n",
       "      <th>3</th>\n",
       "      <td>Wii Sports Resort</td>\n",
       "      <td>Wii</td>\n",
       "      <td>2009.0</td>\n",
       "      <td>Sports</td>\n",
       "      <td>15.61</td>\n",
       "      <td>10.93</td>\n",
       "      <td>3.28</td>\n",
       "      <td>2.95</td>\n",
       "      <td>80.0</td>\n",
       "      <td>8</td>\n",
       "      <td>E</td>\n",
       "    </tr>\n",
       "    <tr>\n",
       "      <th>4</th>\n",
       "      <td>Pokemon Red/Pokemon Blue</td>\n",
       "      <td>GB</td>\n",
       "      <td>1996.0</td>\n",
       "      <td>Role-Playing</td>\n",
       "      <td>11.27</td>\n",
       "      <td>8.89</td>\n",
       "      <td>10.22</td>\n",
       "      <td>1.00</td>\n",
       "      <td>NaN</td>\n",
       "      <td>NaN</td>\n",
       "      <td>NaN</td>\n",
       "    </tr>\n",
       "  </tbody>\n",
       "</table>\n",
       "</div>"
      ],
      "text/plain": [
       "                       name platform  year_of_release         genre  na_sales  \\\n",
       "0                Wii Sports      Wii           2006.0        Sports     41.36   \n",
       "1         Super Mario Bros.      NES           1985.0      Platform     29.08   \n",
       "2            Mario Kart Wii      Wii           2008.0        Racing     15.68   \n",
       "3         Wii Sports Resort      Wii           2009.0        Sports     15.61   \n",
       "4  Pokemon Red/Pokemon Blue       GB           1996.0  Role-Playing     11.27   \n",
       "\n",
       "   eu_sales  jp_sales  other_sales  critic_score user_score rating  \n",
       "0     28.96      3.77         8.45          76.0          8      E  \n",
       "1      3.58      6.81         0.77           NaN        NaN    NaN  \n",
       "2     12.76      3.79         3.29          82.0        8.3      E  \n",
       "3     10.93      3.28         2.95          80.0          8      E  \n",
       "4      8.89     10.22         1.00           NaN        NaN    NaN  "
      ]
     },
     "execution_count": 6,
     "metadata": {},
     "output_type": "execute_result"
    }
   ],
   "source": [
    "data.head()"
   ]
  },
  {
   "cell_type": "markdown",
   "id": "0bc8a1db",
   "metadata": {},
   "source": [
    "### Преобразуйте данные в нужные типы. Опишите, в каких столбцах заменили тип данных и почему\n"
   ]
  },
  {
   "cell_type": "markdown",
   "id": "837d869a",
   "metadata": {},
   "source": [
    "Выведем общую информацию о датасете. "
   ]
  },
  {
   "cell_type": "code",
   "execution_count": 7,
   "id": "be093f3b",
   "metadata": {},
   "outputs": [
    {
     "name": "stdout",
     "output_type": "stream",
     "text": [
      "<class 'pandas.core.frame.DataFrame'>\n",
      "RangeIndex: 16715 entries, 0 to 16714\n",
      "Data columns (total 11 columns):\n",
      " #   Column           Non-Null Count  Dtype  \n",
      "---  ------           --------------  -----  \n",
      " 0   name             16713 non-null  object \n",
      " 1   platform         16715 non-null  object \n",
      " 2   year_of_release  16446 non-null  float64\n",
      " 3   genre            16713 non-null  object \n",
      " 4   na_sales         16715 non-null  float64\n",
      " 5   eu_sales         16715 non-null  float64\n",
      " 6   jp_sales         16715 non-null  float64\n",
      " 7   other_sales      16715 non-null  float64\n",
      " 8   critic_score     8137 non-null   float64\n",
      " 9   user_score       10014 non-null  object \n",
      " 10  rating           9949 non-null   object \n",
      "dtypes: float64(6), object(5)\n",
      "memory usage: 1.4+ MB\n"
     ]
    }
   ],
   "source": [
    "data.info()"
   ]
  },
  {
   "cell_type": "code",
   "execution_count": 8,
   "id": "8e2510e7",
   "metadata": {},
   "outputs": [
    {
     "data": {
      "text/plain": [
       "array([76., nan, 82., 80., 89., 58., 87., 91., 61., 97., 95., 77., 88.,\n",
       "       83., 94., 93., 85., 86., 98., 96., 90., 84., 73., 74., 78., 92.,\n",
       "       71., 72., 68., 62., 49., 67., 81., 66., 56., 79., 70., 59., 64.,\n",
       "       75., 60., 63., 69., 50., 25., 42., 44., 55., 48., 57., 29., 47.,\n",
       "       65., 54., 20., 53., 37., 38., 33., 52., 30., 32., 43., 45., 51.,\n",
       "       40., 46., 39., 34., 35., 41., 36., 28., 31., 27., 26., 19., 23.,\n",
       "       24., 21., 17., 22., 13.])"
      ]
     },
     "execution_count": 8,
     "metadata": {},
     "output_type": "execute_result"
    }
   ],
   "source": [
    "data['critic_score'].unique()"
   ]
  },
  {
   "cell_type": "code",
   "execution_count": 9,
   "id": "ad361dea",
   "metadata": {},
   "outputs": [
    {
     "data": {
      "text/plain": [
       "array(['8', nan, '8.3', '8.5', '6.6', '8.4', '8.6', '7.7', '6.3', '7.4',\n",
       "       '8.2', '9', '7.9', '8.1', '8.7', '7.1', '3.4', '5.3', '4.8', '3.2',\n",
       "       '8.9', '6.4', '7.8', '7.5', '2.6', '7.2', '9.2', '7', '7.3', '4.3',\n",
       "       '7.6', '5.7', '5', '9.1', '6.5', 'tbd', '8.8', '6.9', '9.4', '6.8',\n",
       "       '6.1', '6.7', '5.4', '4', '4.9', '4.5', '9.3', '6.2', '4.2', '6',\n",
       "       '3.7', '4.1', '5.8', '5.6', '5.5', '4.4', '4.6', '5.9', '3.9',\n",
       "       '3.1', '2.9', '5.2', '3.3', '4.7', '5.1', '3.5', '2.5', '1.9', '3',\n",
       "       '2.7', '2.2', '2', '9.5', '2.1', '3.6', '2.8', '1.8', '3.8', '0',\n",
       "       '1.6', '9.6', '2.4', '1.7', '1.1', '0.3', '1.5', '0.7', '1.2',\n",
       "       '2.3', '0.5', '1.3', '0.2', '0.6', '1.4', '0.9', '1', '9.7'],\n",
       "      dtype=object)"
      ]
     },
     "execution_count": 9,
     "metadata": {},
     "output_type": "execute_result"
    }
   ],
   "source": [
    "data['user_score'].unique()"
   ]
  },
  {
   "cell_type": "markdown",
   "id": "08379c4f",
   "metadata": {},
   "source": [
    "Необходимо изменить тип данных в двух столбцах: год выпуска игры и оценка пользователей. \n",
    "Год выпуска необходимо преобразовать в целочисленное значение, так как год не может быть не целым. \n",
    "Оценка пользователей почему-то записана в виде строчных значений, необходимо заменить на тип float. "
   ]
  },
  {
   "cell_type": "markdown",
   "id": "73b7fe75",
   "metadata": {},
   "source": [
    "Здесь важно отметить, что в столбце с датой релиза игры есть пропущенные значения, которые могут помешать изменению типа данных. Посмотрим, много ли пропусков.  "
   ]
  },
  {
   "cell_type": "code",
   "execution_count": 10,
   "id": "22ebbacc",
   "metadata": {},
   "outputs": [
    {
     "data": {
      "text/plain": [
       "1.609332934489979"
      ]
     },
     "execution_count": 10,
     "metadata": {},
     "output_type": "execute_result"
    }
   ],
   "source": [
    "(len(data[data['year_of_release'].isna() == True])/len(data))*100"
   ]
  },
  {
   "cell_type": "markdown",
   "id": "3e09a1c1",
   "metadata": {},
   "source": [
    "Пропущенные значения в столбце с датой релиза игры составляют всего 1,6 процента от всех данных. Их можно со спокойной душой удалить. "
   ]
  },
  {
   "cell_type": "code",
   "execution_count": 11,
   "id": "f623838f",
   "metadata": {},
   "outputs": [
    {
     "data": {
      "text/plain": [
       "0"
      ]
     },
     "execution_count": 11,
     "metadata": {},
     "output_type": "execute_result"
    }
   ],
   "source": [
    "data = data[data['year_of_release'].isna() == False]\n",
    "data['year_of_release'].isna().sum()"
   ]
  },
  {
   "cell_type": "code",
   "execution_count": 12,
   "id": "7640d60c",
   "metadata": {},
   "outputs": [],
   "source": [
    "data['year_of_release'] = data['year_of_release'].astype('int')"
   ]
  },
  {
   "cell_type": "code",
   "execution_count": 13,
   "id": "db057cb9",
   "metadata": {},
   "outputs": [
    {
     "data": {
      "text/plain": [
       "array([2006, 1985, 2008, 2009, 1996, 1989, 1984, 2005, 1999, 2007, 2010,\n",
       "       2013, 2004, 1990, 1988, 2002, 2001, 2011, 1998, 2015, 2012, 2014,\n",
       "       1992, 1997, 1993, 1994, 1982, 2016, 2003, 1986, 2000, 1995, 1991,\n",
       "       1981, 1987, 1980, 1983])"
      ]
     },
     "execution_count": 13,
     "metadata": {},
     "output_type": "execute_result"
    }
   ],
   "source": [
    "data['year_of_release'].unique()"
   ]
  },
  {
   "cell_type": "markdown",
   "id": "2b72d098",
   "metadata": {},
   "source": [
    "В столбце с оценками критиков также есть пропущенные значения. "
   ]
  },
  {
   "cell_type": "code",
   "execution_count": 14,
   "id": "1a21ade6",
   "metadata": {},
   "outputs": [
    {
     "data": {
      "text/plain": [
       "51.45932141554177"
      ]
     },
     "execution_count": 14,
     "metadata": {},
     "output_type": "execute_result"
    }
   ],
   "source": [
    "(len(data[data['critic_score'].isna() == True])/len(data))*100"
   ]
  },
  {
   "cell_type": "markdown",
   "id": "c9c2fef5",
   "metadata": {},
   "source": [
    "Однако пропущенные значения составляют больше половины от всего датасета. Их нельзя удалять. Так что в этом столбце мы изменим тип данных после обработки пропусков. "
   ]
  },
  {
   "cell_type": "code",
   "execution_count": 15,
   "id": "a4d7fa59",
   "metadata": {},
   "outputs": [
    {
     "data": {
      "text/plain": [
       "40.1739024686854"
      ]
     },
     "execution_count": 15,
     "metadata": {},
     "output_type": "execute_result"
    }
   ],
   "source": [
    "(len(data[data['user_score'].isna() == True])/len(data))*100"
   ]
  },
  {
   "cell_type": "code",
   "execution_count": 16,
   "id": "3d2a099b",
   "metadata": {},
   "outputs": [
    {
     "data": {
      "text/plain": [
       "14.447282013863552"
      ]
     },
     "execution_count": 16,
     "metadata": {},
     "output_type": "execute_result"
    }
   ],
   "source": [
    "(len(data[data['user_score'] == 'tbd'])/len(data))*100"
   ]
  },
  {
   "cell_type": "markdown",
   "id": "939d969a",
   "metadata": {},
   "source": [
    "В столбце с оценками пользователей тоже очень много пропущенных значений, которые нельзя удалять. Тип данных данного столбца будет также изменен после обработки пропусков. "
   ]
  },
  {
   "cell_type": "markdown",
   "id": "f7f769d0",
   "metadata": {},
   "source": [
    "### Обработайте пропуски при необходимости:"
   ]
  },
  {
   "cell_type": "code",
   "execution_count": 17,
   "id": "41283f09",
   "metadata": {},
   "outputs": [
    {
     "data": {
      "text/html": [
       "<div>\n",
       "<style scoped>\n",
       "    .dataframe tbody tr th:only-of-type {\n",
       "        vertical-align: middle;\n",
       "    }\n",
       "\n",
       "    .dataframe tbody tr th {\n",
       "        vertical-align: top;\n",
       "    }\n",
       "\n",
       "    .dataframe thead th {\n",
       "        text-align: right;\n",
       "    }\n",
       "</style>\n",
       "<table border=\"1\" class=\"dataframe\">\n",
       "  <thead>\n",
       "    <tr style=\"text-align: right;\">\n",
       "      <th></th>\n",
       "      <th>name</th>\n",
       "      <th>platform</th>\n",
       "      <th>year_of_release</th>\n",
       "      <th>genre</th>\n",
       "      <th>na_sales</th>\n",
       "      <th>eu_sales</th>\n",
       "      <th>jp_sales</th>\n",
       "      <th>other_sales</th>\n",
       "      <th>critic_score</th>\n",
       "      <th>user_score</th>\n",
       "      <th>rating</th>\n",
       "    </tr>\n",
       "  </thead>\n",
       "  <tbody>\n",
       "    <tr>\n",
       "      <th>0</th>\n",
       "      <td>Wii Sports</td>\n",
       "      <td>Wii</td>\n",
       "      <td>2006</td>\n",
       "      <td>Sports</td>\n",
       "      <td>41.36</td>\n",
       "      <td>28.96</td>\n",
       "      <td>3.77</td>\n",
       "      <td>8.45</td>\n",
       "      <td>76.0</td>\n",
       "      <td>8</td>\n",
       "      <td>E</td>\n",
       "    </tr>\n",
       "    <tr>\n",
       "      <th>1</th>\n",
       "      <td>Super Mario Bros.</td>\n",
       "      <td>NES</td>\n",
       "      <td>1985</td>\n",
       "      <td>Platform</td>\n",
       "      <td>29.08</td>\n",
       "      <td>3.58</td>\n",
       "      <td>6.81</td>\n",
       "      <td>0.77</td>\n",
       "      <td>NaN</td>\n",
       "      <td>NaN</td>\n",
       "      <td>NaN</td>\n",
       "    </tr>\n",
       "    <tr>\n",
       "      <th>2</th>\n",
       "      <td>Mario Kart Wii</td>\n",
       "      <td>Wii</td>\n",
       "      <td>2008</td>\n",
       "      <td>Racing</td>\n",
       "      <td>15.68</td>\n",
       "      <td>12.76</td>\n",
       "      <td>3.79</td>\n",
       "      <td>3.29</td>\n",
       "      <td>82.0</td>\n",
       "      <td>8.3</td>\n",
       "      <td>E</td>\n",
       "    </tr>\n",
       "    <tr>\n",
       "      <th>3</th>\n",
       "      <td>Wii Sports Resort</td>\n",
       "      <td>Wii</td>\n",
       "      <td>2009</td>\n",
       "      <td>Sports</td>\n",
       "      <td>15.61</td>\n",
       "      <td>10.93</td>\n",
       "      <td>3.28</td>\n",
       "      <td>2.95</td>\n",
       "      <td>80.0</td>\n",
       "      <td>8</td>\n",
       "      <td>E</td>\n",
       "    </tr>\n",
       "    <tr>\n",
       "      <th>4</th>\n",
       "      <td>Pokemon Red/Pokemon Blue</td>\n",
       "      <td>GB</td>\n",
       "      <td>1996</td>\n",
       "      <td>Role-Playing</td>\n",
       "      <td>11.27</td>\n",
       "      <td>8.89</td>\n",
       "      <td>10.22</td>\n",
       "      <td>1.00</td>\n",
       "      <td>NaN</td>\n",
       "      <td>NaN</td>\n",
       "      <td>NaN</td>\n",
       "    </tr>\n",
       "  </tbody>\n",
       "</table>\n",
       "</div>"
      ],
      "text/plain": [
       "                       name platform  year_of_release         genre  na_sales  \\\n",
       "0                Wii Sports      Wii             2006        Sports     41.36   \n",
       "1         Super Mario Bros.      NES             1985      Platform     29.08   \n",
       "2            Mario Kart Wii      Wii             2008        Racing     15.68   \n",
       "3         Wii Sports Resort      Wii             2009        Sports     15.61   \n",
       "4  Pokemon Red/Pokemon Blue       GB             1996  Role-Playing     11.27   \n",
       "\n",
       "   eu_sales  jp_sales  other_sales  critic_score user_score rating  \n",
       "0     28.96      3.77         8.45          76.0          8      E  \n",
       "1      3.58      6.81         0.77           NaN        NaN    NaN  \n",
       "2     12.76      3.79         3.29          82.0        8.3      E  \n",
       "3     10.93      3.28         2.95          80.0          8      E  \n",
       "4      8.89     10.22         1.00           NaN        NaN    NaN  "
      ]
     },
     "execution_count": 17,
     "metadata": {},
     "output_type": "execute_result"
    }
   ],
   "source": [
    "data.head()"
   ]
  },
  {
   "cell_type": "markdown",
   "id": "392064f0",
   "metadata": {},
   "source": [
    "Посмотрим, сколько пропущенных значений есть в датасете по стобцам. "
   ]
  },
  {
   "cell_type": "code",
   "execution_count": 18,
   "id": "137d60a0",
   "metadata": {},
   "outputs": [
    {
     "data": {
      "text/plain": [
       "name                  2\n",
       "platform              0\n",
       "year_of_release       0\n",
       "genre                 2\n",
       "na_sales              0\n",
       "eu_sales              0\n",
       "jp_sales              0\n",
       "other_sales           0\n",
       "critic_score       8463\n",
       "user_score         6607\n",
       "rating             6678\n",
       "dtype: int64"
      ]
     },
     "execution_count": 18,
     "metadata": {},
     "output_type": "execute_result"
    }
   ],
   "source": [
    "data.isna().sum()"
   ]
  },
  {
   "cell_type": "code",
   "execution_count": 21,
   "id": "c428ee4e",
   "metadata": {
    "scrolled": true
   },
   "outputs": [
    {
     "data": {
      "text/plain": [
       "0.012161011796181443"
      ]
     },
     "execution_count": 21,
     "metadata": {},
     "output_type": "execute_result"
    }
   ],
   "source": [
    "len(data[(data['name'].isna() == True) | (data['genre'].isna() == True)])/len(data)*100"
   ]
  },
  {
   "cell_type": "markdown",
   "id": "ae88ecf4",
   "metadata": {},
   "source": [
    "Пропущенные значения в жанре и названии игры составляют меньше 1 процента от датасета. Их можно просто удалить. "
   ]
  },
  {
   "cell_type": "code",
   "execution_count": 22,
   "id": "eece72fb",
   "metadata": {},
   "outputs": [
    {
     "data": {
      "text/html": [
       "<div>\n",
       "<style scoped>\n",
       "    .dataframe tbody tr th:only-of-type {\n",
       "        vertical-align: middle;\n",
       "    }\n",
       "\n",
       "    .dataframe tbody tr th {\n",
       "        vertical-align: top;\n",
       "    }\n",
       "\n",
       "    .dataframe thead th {\n",
       "        text-align: right;\n",
       "    }\n",
       "</style>\n",
       "<table border=\"1\" class=\"dataframe\">\n",
       "  <thead>\n",
       "    <tr style=\"text-align: right;\">\n",
       "      <th></th>\n",
       "      <th>name</th>\n",
       "      <th>platform</th>\n",
       "      <th>year_of_release</th>\n",
       "      <th>genre</th>\n",
       "      <th>na_sales</th>\n",
       "      <th>eu_sales</th>\n",
       "      <th>jp_sales</th>\n",
       "      <th>other_sales</th>\n",
       "      <th>critic_score</th>\n",
       "      <th>user_score</th>\n",
       "      <th>rating</th>\n",
       "    </tr>\n",
       "  </thead>\n",
       "  <tbody>\n",
       "    <tr>\n",
       "      <th>659</th>\n",
       "      <td>NaN</td>\n",
       "      <td>GEN</td>\n",
       "      <td>1993</td>\n",
       "      <td>NaN</td>\n",
       "      <td>1.78</td>\n",
       "      <td>0.53</td>\n",
       "      <td>0.00</td>\n",
       "      <td>0.08</td>\n",
       "      <td>NaN</td>\n",
       "      <td>NaN</td>\n",
       "      <td>NaN</td>\n",
       "    </tr>\n",
       "    <tr>\n",
       "      <th>14244</th>\n",
       "      <td>NaN</td>\n",
       "      <td>GEN</td>\n",
       "      <td>1993</td>\n",
       "      <td>NaN</td>\n",
       "      <td>0.00</td>\n",
       "      <td>0.00</td>\n",
       "      <td>0.03</td>\n",
       "      <td>0.00</td>\n",
       "      <td>NaN</td>\n",
       "      <td>NaN</td>\n",
       "      <td>NaN</td>\n",
       "    </tr>\n",
       "  </tbody>\n",
       "</table>\n",
       "</div>"
      ],
      "text/plain": [
       "      name platform  year_of_release genre  na_sales  eu_sales  jp_sales  \\\n",
       "659    NaN      GEN             1993   NaN      1.78      0.53      0.00   \n",
       "14244  NaN      GEN             1993   NaN      0.00      0.00      0.03   \n",
       "\n",
       "       other_sales  critic_score user_score rating  \n",
       "659           0.08           NaN        NaN    NaN  \n",
       "14244         0.00           NaN        NaN    NaN  "
      ]
     },
     "execution_count": 22,
     "metadata": {},
     "output_type": "execute_result"
    }
   ],
   "source": [
    "data[(data['name'].isna() == True) | (data['genre'].isna() == True)]"
   ]
  },
  {
   "cell_type": "code",
   "execution_count": 23,
   "id": "7961e93c",
   "metadata": {},
   "outputs": [],
   "source": [
    "data = data[(data['name'].isna() == False) | (data['genre'].isna() == False)]"
   ]
  },
  {
   "cell_type": "code",
   "execution_count": 24,
   "id": "1d08c9a7",
   "metadata": {},
   "outputs": [
    {
     "data": {
      "text/plain": [
       "98.37870176488184"
      ]
     },
     "execution_count": 24,
     "metadata": {},
     "output_type": "execute_result"
    }
   ],
   "source": [
    "len(data)/len(data_fresh)*100"
   ]
  },
  {
   "cell_type": "markdown",
   "id": "34513ad2",
   "metadata": {},
   "source": [
    "В столбцах с оценками пользователей слишком много пропусков."
   ]
  },
  {
   "cell_type": "code",
   "execution_count": 25,
   "id": "2ef6929f",
   "metadata": {},
   "outputs": [
    {
     "data": {
      "text/html": [
       "<div>\n",
       "<style scoped>\n",
       "    .dataframe tbody tr th:only-of-type {\n",
       "        vertical-align: middle;\n",
       "    }\n",
       "\n",
       "    .dataframe tbody tr th {\n",
       "        vertical-align: top;\n",
       "    }\n",
       "\n",
       "    .dataframe thead th {\n",
       "        text-align: right;\n",
       "    }\n",
       "</style>\n",
       "<table border=\"1\" class=\"dataframe\">\n",
       "  <thead>\n",
       "    <tr style=\"text-align: right;\">\n",
       "      <th></th>\n",
       "      <th>name</th>\n",
       "      <th>platform</th>\n",
       "      <th>year_of_release</th>\n",
       "      <th>genre</th>\n",
       "      <th>na_sales</th>\n",
       "      <th>eu_sales</th>\n",
       "      <th>jp_sales</th>\n",
       "      <th>other_sales</th>\n",
       "      <th>critic_score</th>\n",
       "      <th>user_score</th>\n",
       "      <th>rating</th>\n",
       "    </tr>\n",
       "  </thead>\n",
       "  <tbody>\n",
       "    <tr>\n",
       "      <th>1</th>\n",
       "      <td>Super Mario Bros.</td>\n",
       "      <td>NES</td>\n",
       "      <td>1985</td>\n",
       "      <td>Platform</td>\n",
       "      <td>29.08</td>\n",
       "      <td>3.58</td>\n",
       "      <td>6.81</td>\n",
       "      <td>0.77</td>\n",
       "      <td>NaN</td>\n",
       "      <td>NaN</td>\n",
       "      <td>NaN</td>\n",
       "    </tr>\n",
       "    <tr>\n",
       "      <th>4</th>\n",
       "      <td>Pokemon Red/Pokemon Blue</td>\n",
       "      <td>GB</td>\n",
       "      <td>1996</td>\n",
       "      <td>Role-Playing</td>\n",
       "      <td>11.27</td>\n",
       "      <td>8.89</td>\n",
       "      <td>10.22</td>\n",
       "      <td>1.00</td>\n",
       "      <td>NaN</td>\n",
       "      <td>NaN</td>\n",
       "      <td>NaN</td>\n",
       "    </tr>\n",
       "    <tr>\n",
       "      <th>5</th>\n",
       "      <td>Tetris</td>\n",
       "      <td>GB</td>\n",
       "      <td>1989</td>\n",
       "      <td>Puzzle</td>\n",
       "      <td>23.20</td>\n",
       "      <td>2.26</td>\n",
       "      <td>4.22</td>\n",
       "      <td>0.58</td>\n",
       "      <td>NaN</td>\n",
       "      <td>NaN</td>\n",
       "      <td>NaN</td>\n",
       "    </tr>\n",
       "    <tr>\n",
       "      <th>9</th>\n",
       "      <td>Duck Hunt</td>\n",
       "      <td>NES</td>\n",
       "      <td>1984</td>\n",
       "      <td>Shooter</td>\n",
       "      <td>26.93</td>\n",
       "      <td>0.63</td>\n",
       "      <td>0.28</td>\n",
       "      <td>0.47</td>\n",
       "      <td>NaN</td>\n",
       "      <td>NaN</td>\n",
       "      <td>NaN</td>\n",
       "    </tr>\n",
       "    <tr>\n",
       "      <th>10</th>\n",
       "      <td>Nintendogs</td>\n",
       "      <td>DS</td>\n",
       "      <td>2005</td>\n",
       "      <td>Simulation</td>\n",
       "      <td>9.05</td>\n",
       "      <td>10.95</td>\n",
       "      <td>1.93</td>\n",
       "      <td>2.74</td>\n",
       "      <td>NaN</td>\n",
       "      <td>NaN</td>\n",
       "      <td>NaN</td>\n",
       "    </tr>\n",
       "    <tr>\n",
       "      <th>...</th>\n",
       "      <td>...</td>\n",
       "      <td>...</td>\n",
       "      <td>...</td>\n",
       "      <td>...</td>\n",
       "      <td>...</td>\n",
       "      <td>...</td>\n",
       "      <td>...</td>\n",
       "      <td>...</td>\n",
       "      <td>...</td>\n",
       "      <td>...</td>\n",
       "      <td>...</td>\n",
       "    </tr>\n",
       "    <tr>\n",
       "      <th>16710</th>\n",
       "      <td>Samurai Warriors: Sanada Maru</td>\n",
       "      <td>PS3</td>\n",
       "      <td>2016</td>\n",
       "      <td>Action</td>\n",
       "      <td>0.00</td>\n",
       "      <td>0.00</td>\n",
       "      <td>0.01</td>\n",
       "      <td>0.00</td>\n",
       "      <td>NaN</td>\n",
       "      <td>NaN</td>\n",
       "      <td>NaN</td>\n",
       "    </tr>\n",
       "    <tr>\n",
       "      <th>16711</th>\n",
       "      <td>LMA Manager 2007</td>\n",
       "      <td>X360</td>\n",
       "      <td>2006</td>\n",
       "      <td>Sports</td>\n",
       "      <td>0.00</td>\n",
       "      <td>0.01</td>\n",
       "      <td>0.00</td>\n",
       "      <td>0.00</td>\n",
       "      <td>NaN</td>\n",
       "      <td>NaN</td>\n",
       "      <td>NaN</td>\n",
       "    </tr>\n",
       "    <tr>\n",
       "      <th>16712</th>\n",
       "      <td>Haitaka no Psychedelica</td>\n",
       "      <td>PSV</td>\n",
       "      <td>2016</td>\n",
       "      <td>Adventure</td>\n",
       "      <td>0.00</td>\n",
       "      <td>0.00</td>\n",
       "      <td>0.01</td>\n",
       "      <td>0.00</td>\n",
       "      <td>NaN</td>\n",
       "      <td>NaN</td>\n",
       "      <td>NaN</td>\n",
       "    </tr>\n",
       "    <tr>\n",
       "      <th>16713</th>\n",
       "      <td>Spirits &amp; Spells</td>\n",
       "      <td>GBA</td>\n",
       "      <td>2003</td>\n",
       "      <td>Platform</td>\n",
       "      <td>0.01</td>\n",
       "      <td>0.00</td>\n",
       "      <td>0.00</td>\n",
       "      <td>0.00</td>\n",
       "      <td>NaN</td>\n",
       "      <td>NaN</td>\n",
       "      <td>NaN</td>\n",
       "    </tr>\n",
       "    <tr>\n",
       "      <th>16714</th>\n",
       "      <td>Winning Post 8 2016</td>\n",
       "      <td>PSV</td>\n",
       "      <td>2016</td>\n",
       "      <td>Simulation</td>\n",
       "      <td>0.00</td>\n",
       "      <td>0.00</td>\n",
       "      <td>0.01</td>\n",
       "      <td>0.00</td>\n",
       "      <td>NaN</td>\n",
       "      <td>NaN</td>\n",
       "      <td>NaN</td>\n",
       "    </tr>\n",
       "  </tbody>\n",
       "</table>\n",
       "<p>6534 rows × 11 columns</p>\n",
       "</div>"
      ],
      "text/plain": [
       "                                name platform  year_of_release         genre  \\\n",
       "1                  Super Mario Bros.      NES             1985      Platform   \n",
       "4           Pokemon Red/Pokemon Blue       GB             1996  Role-Playing   \n",
       "5                             Tetris       GB             1989        Puzzle   \n",
       "9                          Duck Hunt      NES             1984       Shooter   \n",
       "10                        Nintendogs       DS             2005    Simulation   \n",
       "...                              ...      ...              ...           ...   \n",
       "16710  Samurai Warriors: Sanada Maru      PS3             2016        Action   \n",
       "16711               LMA Manager 2007     X360             2006        Sports   \n",
       "16712        Haitaka no Psychedelica      PSV             2016     Adventure   \n",
       "16713               Spirits & Spells      GBA             2003      Platform   \n",
       "16714            Winning Post 8 2016      PSV             2016    Simulation   \n",
       "\n",
       "       na_sales  eu_sales  jp_sales  other_sales  critic_score user_score  \\\n",
       "1         29.08      3.58      6.81         0.77           NaN        NaN   \n",
       "4         11.27      8.89     10.22         1.00           NaN        NaN   \n",
       "5         23.20      2.26      4.22         0.58           NaN        NaN   \n",
       "9         26.93      0.63      0.28         0.47           NaN        NaN   \n",
       "10         9.05     10.95      1.93         2.74           NaN        NaN   \n",
       "...         ...       ...       ...          ...           ...        ...   \n",
       "16710      0.00      0.00      0.01         0.00           NaN        NaN   \n",
       "16711      0.00      0.01      0.00         0.00           NaN        NaN   \n",
       "16712      0.00      0.00      0.01         0.00           NaN        NaN   \n",
       "16713      0.01      0.00      0.00         0.00           NaN        NaN   \n",
       "16714      0.00      0.00      0.01         0.00           NaN        NaN   \n",
       "\n",
       "      rating  \n",
       "1        NaN  \n",
       "4        NaN  \n",
       "5        NaN  \n",
       "9        NaN  \n",
       "10       NaN  \n",
       "...      ...  \n",
       "16710    NaN  \n",
       "16711    NaN  \n",
       "16712    NaN  \n",
       "16713    NaN  \n",
       "16714    NaN  \n",
       "\n",
       "[6534 rows x 11 columns]"
      ]
     },
     "execution_count": 25,
     "metadata": {},
     "output_type": "execute_result"
    }
   ],
   "source": [
    "data[(data['critic_score'].isna() == True) & (data['user_score'].isna() == True) & (data['rating'].isna() == True)]"
   ]
  },
  {
   "cell_type": "markdown",
   "id": "6ad703ba",
   "metadata": {},
   "source": [
    "Отметим на будущее, что больше 6000 пропусков приходится одновременно на столбцы с оценками критиков и пользователей, а также на столбец с рейтингом. "
   ]
  },
  {
   "cell_type": "code",
   "execution_count": 26,
   "id": "ed95f872",
   "metadata": {},
   "outputs": [],
   "source": [
    "data['rating'] = data['rating'].fillna('undefined')"
   ]
  },
  {
   "cell_type": "code",
   "execution_count": 27,
   "id": "284cc9cd",
   "metadata": {},
   "outputs": [
    {
     "data": {
      "text/plain": [
       "array(['E', 'undefined', 'M', 'T', 'E10+', 'K-A', 'AO', 'EC', 'RP'],\n",
       "      dtype=object)"
      ]
     },
     "execution_count": 27,
     "metadata": {},
     "output_type": "execute_result"
    }
   ],
   "source": [
    "data['rating'].unique()"
   ]
  },
  {
   "cell_type": "markdown",
   "id": "d65d10ef",
   "metadata": {},
   "source": [
    "Здесь также важно отметить, что рейтинг RP означает, что рейтинг еще не проставлен. Не будем его мешать с undefined, но запомним на будущее. "
   ]
  },
  {
   "cell_type": "code",
   "execution_count": 28,
   "id": "c7ab5ae6",
   "metadata": {},
   "outputs": [
    {
     "data": {
      "text/plain": [
       "array(['8', nan, '8.3', '8.5', '6.6', '8.4', '8.6', '7.7', '6.3', '7.4',\n",
       "       '8.2', '9', '7.9', '8.1', '8.7', '7.1', '3.4', '5.3', '4.8', '3.2',\n",
       "       '8.9', '6.4', '7.8', '7.5', '2.6', '7.2', '9.2', '7', '7.3', '4.3',\n",
       "       '7.6', '5.7', '5', '9.1', '6.5', 'tbd', '8.8', '6.9', '9.4', '6.8',\n",
       "       '6.1', '6.7', '5.4', '4', '4.9', '4.5', '9.3', '6.2', '4.2', '6',\n",
       "       '3.7', '4.1', '5.8', '5.6', '5.5', '4.4', '4.6', '5.9', '3.9',\n",
       "       '3.1', '2.9', '5.2', '3.3', '4.7', '5.1', '3.5', '2.5', '1.9', '3',\n",
       "       '2.7', '2.2', '2', '9.5', '2.1', '3.6', '2.8', '1.8', '3.8', '0',\n",
       "       '1.6', '9.6', '2.4', '1.7', '1.1', '0.3', '1.5', '0.7', '1.2',\n",
       "       '2.3', '0.5', '1.3', '0.2', '0.6', '1.4', '0.9', '1', '9.7'],\n",
       "      dtype=object)"
      ]
     },
     "execution_count": 28,
     "metadata": {},
     "output_type": "execute_result"
    }
   ],
   "source": [
    "data['user_score'].unique()"
   ]
  },
  {
   "cell_type": "markdown",
   "id": "80070a93",
   "metadata": {},
   "source": [
    "Выведем строки со значением \"tbd\". "
   ]
  },
  {
   "cell_type": "code",
   "execution_count": 29,
   "id": "386c505c",
   "metadata": {},
   "outputs": [
    {
     "data": {
      "text/html": [
       "<div>\n",
       "<style scoped>\n",
       "    .dataframe tbody tr th:only-of-type {\n",
       "        vertical-align: middle;\n",
       "    }\n",
       "\n",
       "    .dataframe tbody tr th {\n",
       "        vertical-align: top;\n",
       "    }\n",
       "\n",
       "    .dataframe thead th {\n",
       "        text-align: right;\n",
       "    }\n",
       "</style>\n",
       "<table border=\"1\" class=\"dataframe\">\n",
       "  <thead>\n",
       "    <tr style=\"text-align: right;\">\n",
       "      <th></th>\n",
       "      <th>name</th>\n",
       "      <th>platform</th>\n",
       "      <th>year_of_release</th>\n",
       "      <th>genre</th>\n",
       "      <th>na_sales</th>\n",
       "      <th>eu_sales</th>\n",
       "      <th>jp_sales</th>\n",
       "      <th>other_sales</th>\n",
       "      <th>critic_score</th>\n",
       "      <th>user_score</th>\n",
       "      <th>rating</th>\n",
       "    </tr>\n",
       "  </thead>\n",
       "  <tbody>\n",
       "    <tr>\n",
       "      <th>119</th>\n",
       "      <td>Zumba Fitness</td>\n",
       "      <td>Wii</td>\n",
       "      <td>2010</td>\n",
       "      <td>Sports</td>\n",
       "      <td>3.45</td>\n",
       "      <td>2.59</td>\n",
       "      <td>0.0</td>\n",
       "      <td>0.66</td>\n",
       "      <td>NaN</td>\n",
       "      <td>tbd</td>\n",
       "      <td>E</td>\n",
       "    </tr>\n",
       "    <tr>\n",
       "      <th>301</th>\n",
       "      <td>Namco Museum: 50th Anniversary</td>\n",
       "      <td>PS2</td>\n",
       "      <td>2005</td>\n",
       "      <td>Misc</td>\n",
       "      <td>2.08</td>\n",
       "      <td>1.35</td>\n",
       "      <td>0.0</td>\n",
       "      <td>0.54</td>\n",
       "      <td>61.0</td>\n",
       "      <td>tbd</td>\n",
       "      <td>E10+</td>\n",
       "    </tr>\n",
       "    <tr>\n",
       "      <th>520</th>\n",
       "      <td>Zumba Fitness 2</td>\n",
       "      <td>Wii</td>\n",
       "      <td>2011</td>\n",
       "      <td>Sports</td>\n",
       "      <td>1.51</td>\n",
       "      <td>1.03</td>\n",
       "      <td>0.0</td>\n",
       "      <td>0.27</td>\n",
       "      <td>NaN</td>\n",
       "      <td>tbd</td>\n",
       "      <td>T</td>\n",
       "    </tr>\n",
       "    <tr>\n",
       "      <th>645</th>\n",
       "      <td>uDraw Studio</td>\n",
       "      <td>Wii</td>\n",
       "      <td>2010</td>\n",
       "      <td>Misc</td>\n",
       "      <td>1.65</td>\n",
       "      <td>0.57</td>\n",
       "      <td>0.0</td>\n",
       "      <td>0.20</td>\n",
       "      <td>71.0</td>\n",
       "      <td>tbd</td>\n",
       "      <td>E</td>\n",
       "    </tr>\n",
       "    <tr>\n",
       "      <th>718</th>\n",
       "      <td>Just Dance Kids</td>\n",
       "      <td>Wii</td>\n",
       "      <td>2010</td>\n",
       "      <td>Misc</td>\n",
       "      <td>1.52</td>\n",
       "      <td>0.54</td>\n",
       "      <td>0.0</td>\n",
       "      <td>0.18</td>\n",
       "      <td>NaN</td>\n",
       "      <td>tbd</td>\n",
       "      <td>E</td>\n",
       "    </tr>\n",
       "    <tr>\n",
       "      <th>...</th>\n",
       "      <td>...</td>\n",
       "      <td>...</td>\n",
       "      <td>...</td>\n",
       "      <td>...</td>\n",
       "      <td>...</td>\n",
       "      <td>...</td>\n",
       "      <td>...</td>\n",
       "      <td>...</td>\n",
       "      <td>...</td>\n",
       "      <td>...</td>\n",
       "      <td>...</td>\n",
       "    </tr>\n",
       "    <tr>\n",
       "      <th>16695</th>\n",
       "      <td>Planet Monsters</td>\n",
       "      <td>GBA</td>\n",
       "      <td>2001</td>\n",
       "      <td>Action</td>\n",
       "      <td>0.01</td>\n",
       "      <td>0.00</td>\n",
       "      <td>0.0</td>\n",
       "      <td>0.00</td>\n",
       "      <td>67.0</td>\n",
       "      <td>tbd</td>\n",
       "      <td>E</td>\n",
       "    </tr>\n",
       "    <tr>\n",
       "      <th>16697</th>\n",
       "      <td>Bust-A-Move 3000</td>\n",
       "      <td>GC</td>\n",
       "      <td>2003</td>\n",
       "      <td>Puzzle</td>\n",
       "      <td>0.01</td>\n",
       "      <td>0.00</td>\n",
       "      <td>0.0</td>\n",
       "      <td>0.00</td>\n",
       "      <td>53.0</td>\n",
       "      <td>tbd</td>\n",
       "      <td>E</td>\n",
       "    </tr>\n",
       "    <tr>\n",
       "      <th>16698</th>\n",
       "      <td>Mega Brain Boost</td>\n",
       "      <td>DS</td>\n",
       "      <td>2008</td>\n",
       "      <td>Puzzle</td>\n",
       "      <td>0.01</td>\n",
       "      <td>0.00</td>\n",
       "      <td>0.0</td>\n",
       "      <td>0.00</td>\n",
       "      <td>48.0</td>\n",
       "      <td>tbd</td>\n",
       "      <td>E</td>\n",
       "    </tr>\n",
       "    <tr>\n",
       "      <th>16704</th>\n",
       "      <td>Plushees</td>\n",
       "      <td>DS</td>\n",
       "      <td>2008</td>\n",
       "      <td>Simulation</td>\n",
       "      <td>0.01</td>\n",
       "      <td>0.00</td>\n",
       "      <td>0.0</td>\n",
       "      <td>0.00</td>\n",
       "      <td>NaN</td>\n",
       "      <td>tbd</td>\n",
       "      <td>E</td>\n",
       "    </tr>\n",
       "    <tr>\n",
       "      <th>16706</th>\n",
       "      <td>Men in Black II: Alien Escape</td>\n",
       "      <td>GC</td>\n",
       "      <td>2003</td>\n",
       "      <td>Shooter</td>\n",
       "      <td>0.01</td>\n",
       "      <td>0.00</td>\n",
       "      <td>0.0</td>\n",
       "      <td>0.00</td>\n",
       "      <td>NaN</td>\n",
       "      <td>tbd</td>\n",
       "      <td>T</td>\n",
       "    </tr>\n",
       "  </tbody>\n",
       "</table>\n",
       "<p>2376 rows × 11 columns</p>\n",
       "</div>"
      ],
      "text/plain": [
       "                                 name platform  year_of_release       genre  \\\n",
       "119                     Zumba Fitness      Wii             2010      Sports   \n",
       "301    Namco Museum: 50th Anniversary      PS2             2005        Misc   \n",
       "520                   Zumba Fitness 2      Wii             2011      Sports   \n",
       "645                      uDraw Studio      Wii             2010        Misc   \n",
       "718                   Just Dance Kids      Wii             2010        Misc   \n",
       "...                               ...      ...              ...         ...   \n",
       "16695                 Planet Monsters      GBA             2001      Action   \n",
       "16697                Bust-A-Move 3000       GC             2003      Puzzle   \n",
       "16698                Mega Brain Boost       DS             2008      Puzzle   \n",
       "16704                        Plushees       DS             2008  Simulation   \n",
       "16706   Men in Black II: Alien Escape       GC             2003     Shooter   \n",
       "\n",
       "       na_sales  eu_sales  jp_sales  other_sales  critic_score user_score  \\\n",
       "119        3.45      2.59       0.0         0.66           NaN        tbd   \n",
       "301        2.08      1.35       0.0         0.54          61.0        tbd   \n",
       "520        1.51      1.03       0.0         0.27           NaN        tbd   \n",
       "645        1.65      0.57       0.0         0.20          71.0        tbd   \n",
       "718        1.52      0.54       0.0         0.18           NaN        tbd   \n",
       "...         ...       ...       ...          ...           ...        ...   \n",
       "16695      0.01      0.00       0.0         0.00          67.0        tbd   \n",
       "16697      0.01      0.00       0.0         0.00          53.0        tbd   \n",
       "16698      0.01      0.00       0.0         0.00          48.0        tbd   \n",
       "16704      0.01      0.00       0.0         0.00           NaN        tbd   \n",
       "16706      0.01      0.00       0.0         0.00           NaN        tbd   \n",
       "\n",
       "      rating  \n",
       "119        E  \n",
       "301     E10+  \n",
       "520        T  \n",
       "645        E  \n",
       "718        E  \n",
       "...      ...  \n",
       "16695      E  \n",
       "16697      E  \n",
       "16698      E  \n",
       "16704      E  \n",
       "16706      T  \n",
       "\n",
       "[2376 rows x 11 columns]"
      ]
     },
     "execution_count": 29,
     "metadata": {},
     "output_type": "execute_result"
    }
   ],
   "source": [
    "data[data['user_score'] == 'tbd']"
   ]
  },
  {
   "cell_type": "markdown",
   "id": "c1a654d0",
   "metadata": {},
   "source": [
    "Изменим тип данных в столбцах, меняя все неккоректные значения на Nan. "
   ]
  },
  {
   "cell_type": "code",
   "execution_count": 30,
   "id": "5d1c7053",
   "metadata": {},
   "outputs": [],
   "source": [
    "data['user_score'] = pd.to_numeric(data['user_score'], errors='coerce')"
   ]
  },
  {
   "cell_type": "code",
   "execution_count": 31,
   "id": "db057881",
   "metadata": {},
   "outputs": [
    {
     "data": {
      "text/plain": [
       "array([8. , nan, 8.3, 8.5, 6.6, 8.4, 8.6, 7.7, 6.3, 7.4, 8.2, 9. , 7.9,\n",
       "       8.1, 8.7, 7.1, 3.4, 5.3, 4.8, 3.2, 8.9, 6.4, 7.8, 7.5, 2.6, 7.2,\n",
       "       9.2, 7. , 7.3, 4.3, 7.6, 5.7, 5. , 9.1, 6.5, 8.8, 6.9, 9.4, 6.8,\n",
       "       6.1, 6.7, 5.4, 4. , 4.9, 4.5, 9.3, 6.2, 4.2, 6. , 3.7, 4.1, 5.8,\n",
       "       5.6, 5.5, 4.4, 4.6, 5.9, 3.9, 3.1, 2.9, 5.2, 3.3, 4.7, 5.1, 3.5,\n",
       "       2.5, 1.9, 3. , 2.7, 2.2, 2. , 9.5, 2.1, 3.6, 2.8, 1.8, 3.8, 0. ,\n",
       "       1.6, 9.6, 2.4, 1.7, 1.1, 0.3, 1.5, 0.7, 1.2, 2.3, 0.5, 1.3, 0.2,\n",
       "       0.6, 1.4, 0.9, 1. , 9.7])"
      ]
     },
     "execution_count": 31,
     "metadata": {},
     "output_type": "execute_result"
    }
   ],
   "source": [
    "data['user_score'].unique()"
   ]
  },
  {
   "cell_type": "code",
   "execution_count": 32,
   "id": "c481f723",
   "metadata": {},
   "outputs": [
    {
     "data": {
      "text/html": [
       "<div>\n",
       "<style scoped>\n",
       "    .dataframe tbody tr th:only-of-type {\n",
       "        vertical-align: middle;\n",
       "    }\n",
       "\n",
       "    .dataframe tbody tr th {\n",
       "        vertical-align: top;\n",
       "    }\n",
       "\n",
       "    .dataframe thead th {\n",
       "        text-align: right;\n",
       "    }\n",
       "</style>\n",
       "<table border=\"1\" class=\"dataframe\">\n",
       "  <thead>\n",
       "    <tr style=\"text-align: right;\">\n",
       "      <th></th>\n",
       "      <th>name</th>\n",
       "      <th>platform</th>\n",
       "      <th>year_of_release</th>\n",
       "      <th>genre</th>\n",
       "      <th>na_sales</th>\n",
       "      <th>eu_sales</th>\n",
       "      <th>jp_sales</th>\n",
       "      <th>other_sales</th>\n",
       "      <th>critic_score</th>\n",
       "      <th>user_score</th>\n",
       "      <th>rating</th>\n",
       "    </tr>\n",
       "  </thead>\n",
       "  <tbody>\n",
       "    <tr>\n",
       "      <th>0</th>\n",
       "      <td>Wii Sports</td>\n",
       "      <td>Wii</td>\n",
       "      <td>2006</td>\n",
       "      <td>Sports</td>\n",
       "      <td>41.36</td>\n",
       "      <td>28.96</td>\n",
       "      <td>3.77</td>\n",
       "      <td>8.45</td>\n",
       "      <td>76.0</td>\n",
       "      <td>8.0</td>\n",
       "      <td>E</td>\n",
       "    </tr>\n",
       "    <tr>\n",
       "      <th>1</th>\n",
       "      <td>Super Mario Bros.</td>\n",
       "      <td>NES</td>\n",
       "      <td>1985</td>\n",
       "      <td>Platform</td>\n",
       "      <td>29.08</td>\n",
       "      <td>3.58</td>\n",
       "      <td>6.81</td>\n",
       "      <td>0.77</td>\n",
       "      <td>NaN</td>\n",
       "      <td>NaN</td>\n",
       "      <td>undefined</td>\n",
       "    </tr>\n",
       "    <tr>\n",
       "      <th>2</th>\n",
       "      <td>Mario Kart Wii</td>\n",
       "      <td>Wii</td>\n",
       "      <td>2008</td>\n",
       "      <td>Racing</td>\n",
       "      <td>15.68</td>\n",
       "      <td>12.76</td>\n",
       "      <td>3.79</td>\n",
       "      <td>3.29</td>\n",
       "      <td>82.0</td>\n",
       "      <td>8.3</td>\n",
       "      <td>E</td>\n",
       "    </tr>\n",
       "    <tr>\n",
       "      <th>3</th>\n",
       "      <td>Wii Sports Resort</td>\n",
       "      <td>Wii</td>\n",
       "      <td>2009</td>\n",
       "      <td>Sports</td>\n",
       "      <td>15.61</td>\n",
       "      <td>10.93</td>\n",
       "      <td>3.28</td>\n",
       "      <td>2.95</td>\n",
       "      <td>80.0</td>\n",
       "      <td>8.0</td>\n",
       "      <td>E</td>\n",
       "    </tr>\n",
       "    <tr>\n",
       "      <th>4</th>\n",
       "      <td>Pokemon Red/Pokemon Blue</td>\n",
       "      <td>GB</td>\n",
       "      <td>1996</td>\n",
       "      <td>Role-Playing</td>\n",
       "      <td>11.27</td>\n",
       "      <td>8.89</td>\n",
       "      <td>10.22</td>\n",
       "      <td>1.00</td>\n",
       "      <td>NaN</td>\n",
       "      <td>NaN</td>\n",
       "      <td>undefined</td>\n",
       "    </tr>\n",
       "  </tbody>\n",
       "</table>\n",
       "</div>"
      ],
      "text/plain": [
       "                       name platform  year_of_release         genre  na_sales  \\\n",
       "0                Wii Sports      Wii             2006        Sports     41.36   \n",
       "1         Super Mario Bros.      NES             1985      Platform     29.08   \n",
       "2            Mario Kart Wii      Wii             2008        Racing     15.68   \n",
       "3         Wii Sports Resort      Wii             2009        Sports     15.61   \n",
       "4  Pokemon Red/Pokemon Blue       GB             1996  Role-Playing     11.27   \n",
       "\n",
       "   eu_sales  jp_sales  other_sales  critic_score  user_score     rating  \n",
       "0     28.96      3.77         8.45          76.0         8.0          E  \n",
       "1      3.58      6.81         0.77           NaN         NaN  undefined  \n",
       "2     12.76      3.79         3.29          82.0         8.3          E  \n",
       "3     10.93      3.28         2.95          80.0         8.0          E  \n",
       "4      8.89     10.22         1.00           NaN         NaN  undefined  "
      ]
     },
     "execution_count": 32,
     "metadata": {},
     "output_type": "execute_result"
    }
   ],
   "source": [
    "data.head()"
   ]
  },
  {
   "cell_type": "code",
   "execution_count": 33,
   "id": "ec3f8958",
   "metadata": {},
   "outputs": [
    {
     "name": "stdout",
     "output_type": "stream",
     "text": [
      "<class 'pandas.core.frame.DataFrame'>\n",
      "Int64Index: 16444 entries, 0 to 16714\n",
      "Data columns (total 11 columns):\n",
      " #   Column           Non-Null Count  Dtype  \n",
      "---  ------           --------------  -----  \n",
      " 0   name             16444 non-null  object \n",
      " 1   platform         16444 non-null  object \n",
      " 2   year_of_release  16444 non-null  int64  \n",
      " 3   genre            16444 non-null  object \n",
      " 4   na_sales         16444 non-null  float64\n",
      " 5   eu_sales         16444 non-null  float64\n",
      " 6   jp_sales         16444 non-null  float64\n",
      " 7   other_sales      16444 non-null  float64\n",
      " 8   critic_score     7983 non-null   float64\n",
      " 9   user_score       7463 non-null   float64\n",
      " 10  rating           16444 non-null  object \n",
      "dtypes: float64(6), int64(1), object(4)\n",
      "memory usage: 1.5+ MB\n"
     ]
    }
   ],
   "source": [
    "data.info()"
   ]
  },
  {
   "cell_type": "code",
   "execution_count": 34,
   "id": "742d53bb",
   "metadata": {},
   "outputs": [
    {
     "data": {
      "text/plain": [
       "name                  0\n",
       "platform              0\n",
       "year_of_release       0\n",
       "genre                 0\n",
       "na_sales              0\n",
       "eu_sales              0\n",
       "jp_sales              0\n",
       "other_sales           0\n",
       "critic_score       8461\n",
       "user_score         8981\n",
       "rating                0\n",
       "dtype: int64"
      ]
     },
     "execution_count": 34,
     "metadata": {},
     "output_type": "execute_result"
    }
   ],
   "source": [
    "data.isna().sum()"
   ]
  },
  {
   "cell_type": "markdown",
   "id": "cbe891ab",
   "metadata": {},
   "source": [
    "#### Объясните, почему заполнили пропуски определённым образом или почему не стали это делать"
   ]
  },
  {
   "cell_type": "markdown",
   "id": "a80a9c02",
   "metadata": {},
   "source": [
    "Строки с пропусками в столбце с информацией о годе релиза игры были удалены, так как составляли меньше 1 процента от общего датасета, по той же причине были удалены строки с пропущенными значениями в столбце с жанром игры и названием. Пропущенные значения в рейтинге игры были заменены на 'undefined', пропущенные значения в оценказ критиков и пользователей были оставлены, так как они могут также предоставить какую-то полезную для анализа информацию. "
   ]
  },
  {
   "cell_type": "markdown",
   "id": "37c4169a",
   "metadata": {},
   "source": [
    "#### Опишите причины, которые могли привести к пропускам"
   ]
  },
  {
   "cell_type": "code",
   "execution_count": 35,
   "id": "4872c9fd",
   "metadata": {},
   "outputs": [
    {
     "data": {
      "text/html": [
       "<div>\n",
       "<style scoped>\n",
       "    .dataframe tbody tr th:only-of-type {\n",
       "        vertical-align: middle;\n",
       "    }\n",
       "\n",
       "    .dataframe tbody tr th {\n",
       "        vertical-align: top;\n",
       "    }\n",
       "\n",
       "    .dataframe thead th {\n",
       "        text-align: right;\n",
       "    }\n",
       "</style>\n",
       "<table border=\"1\" class=\"dataframe\">\n",
       "  <thead>\n",
       "    <tr style=\"text-align: right;\">\n",
       "      <th></th>\n",
       "      <th>Name</th>\n",
       "      <th>Platform</th>\n",
       "      <th>Year_of_Release</th>\n",
       "      <th>Genre</th>\n",
       "      <th>NA_sales</th>\n",
       "      <th>EU_sales</th>\n",
       "      <th>JP_sales</th>\n",
       "      <th>Other_sales</th>\n",
       "      <th>Critic_Score</th>\n",
       "      <th>User_Score</th>\n",
       "      <th>Rating</th>\n",
       "    </tr>\n",
       "  </thead>\n",
       "  <tbody>\n",
       "    <tr>\n",
       "      <th>659</th>\n",
       "      <td>NaN</td>\n",
       "      <td>GEN</td>\n",
       "      <td>1993.0</td>\n",
       "      <td>NaN</td>\n",
       "      <td>1.78</td>\n",
       "      <td>0.53</td>\n",
       "      <td>0.00</td>\n",
       "      <td>0.08</td>\n",
       "      <td>NaN</td>\n",
       "      <td>NaN</td>\n",
       "      <td>NaN</td>\n",
       "    </tr>\n",
       "    <tr>\n",
       "      <th>14244</th>\n",
       "      <td>NaN</td>\n",
       "      <td>GEN</td>\n",
       "      <td>1993.0</td>\n",
       "      <td>NaN</td>\n",
       "      <td>0.00</td>\n",
       "      <td>0.00</td>\n",
       "      <td>0.03</td>\n",
       "      <td>0.00</td>\n",
       "      <td>NaN</td>\n",
       "      <td>NaN</td>\n",
       "      <td>NaN</td>\n",
       "    </tr>\n",
       "  </tbody>\n",
       "</table>\n",
       "</div>"
      ],
      "text/plain": [
       "      Name Platform  Year_of_Release Genre  NA_sales  EU_sales  JP_sales  \\\n",
       "659    NaN      GEN           1993.0   NaN      1.78      0.53      0.00   \n",
       "14244  NaN      GEN           1993.0   NaN      0.00      0.00      0.03   \n",
       "\n",
       "       Other_sales  Critic_Score User_Score Rating  \n",
       "659           0.08           NaN        NaN    NaN  \n",
       "14244         0.00           NaN        NaN    NaN  "
      ]
     },
     "execution_count": 35,
     "metadata": {},
     "output_type": "execute_result"
    }
   ],
   "source": [
    "data_fresh[(data_fresh['Genre'].isna() == True) | (data_fresh['Name'].isna() == True)]"
   ]
  },
  {
   "cell_type": "markdown",
   "id": "f0936fb0",
   "metadata": {},
   "source": [
    "Пропуски в названии и жанре были допущены в одних и тех же строках. Данные игры были выпущены в 1993 году, названия игры не сохранились. Скорее всего, просто данные тогда не были заполнены до конца. Игра была выпущена давно. Данные могли не сохраниться. "
   ]
  },
  {
   "cell_type": "code",
   "execution_count": 36,
   "id": "c04ca56f",
   "metadata": {
    "scrolled": true
   },
   "outputs": [
    {
     "data": {
      "text/html": [
       "<div>\n",
       "<style scoped>\n",
       "    .dataframe tbody tr th:only-of-type {\n",
       "        vertical-align: middle;\n",
       "    }\n",
       "\n",
       "    .dataframe tbody tr th {\n",
       "        vertical-align: top;\n",
       "    }\n",
       "\n",
       "    .dataframe thead th {\n",
       "        text-align: right;\n",
       "    }\n",
       "</style>\n",
       "<table border=\"1\" class=\"dataframe\">\n",
       "  <thead>\n",
       "    <tr style=\"text-align: right;\">\n",
       "      <th></th>\n",
       "      <th>Name</th>\n",
       "      <th>Platform</th>\n",
       "      <th>Year_of_Release</th>\n",
       "      <th>Genre</th>\n",
       "      <th>NA_sales</th>\n",
       "      <th>EU_sales</th>\n",
       "      <th>JP_sales</th>\n",
       "      <th>Other_sales</th>\n",
       "      <th>Critic_Score</th>\n",
       "      <th>User_Score</th>\n",
       "      <th>Rating</th>\n",
       "    </tr>\n",
       "  </thead>\n",
       "  <tbody>\n",
       "    <tr>\n",
       "      <th>183</th>\n",
       "      <td>Madden NFL 2004</td>\n",
       "      <td>PS2</td>\n",
       "      <td>NaN</td>\n",
       "      <td>Sports</td>\n",
       "      <td>4.26</td>\n",
       "      <td>0.26</td>\n",
       "      <td>0.01</td>\n",
       "      <td>0.71</td>\n",
       "      <td>94.0</td>\n",
       "      <td>8.5</td>\n",
       "      <td>E</td>\n",
       "    </tr>\n",
       "    <tr>\n",
       "      <th>377</th>\n",
       "      <td>FIFA Soccer 2004</td>\n",
       "      <td>PS2</td>\n",
       "      <td>NaN</td>\n",
       "      <td>Sports</td>\n",
       "      <td>0.59</td>\n",
       "      <td>2.36</td>\n",
       "      <td>0.04</td>\n",
       "      <td>0.51</td>\n",
       "      <td>84.0</td>\n",
       "      <td>6.4</td>\n",
       "      <td>E</td>\n",
       "    </tr>\n",
       "    <tr>\n",
       "      <th>456</th>\n",
       "      <td>LEGO Batman: The Videogame</td>\n",
       "      <td>Wii</td>\n",
       "      <td>NaN</td>\n",
       "      <td>Action</td>\n",
       "      <td>1.80</td>\n",
       "      <td>0.97</td>\n",
       "      <td>0.00</td>\n",
       "      <td>0.29</td>\n",
       "      <td>74.0</td>\n",
       "      <td>7.9</td>\n",
       "      <td>E10+</td>\n",
       "    </tr>\n",
       "    <tr>\n",
       "      <th>475</th>\n",
       "      <td>wwe Smackdown vs. Raw 2006</td>\n",
       "      <td>PS2</td>\n",
       "      <td>NaN</td>\n",
       "      <td>Fighting</td>\n",
       "      <td>1.57</td>\n",
       "      <td>1.02</td>\n",
       "      <td>0.00</td>\n",
       "      <td>0.41</td>\n",
       "      <td>NaN</td>\n",
       "      <td>NaN</td>\n",
       "      <td>NaN</td>\n",
       "    </tr>\n",
       "    <tr>\n",
       "      <th>609</th>\n",
       "      <td>Space Invaders</td>\n",
       "      <td>2600</td>\n",
       "      <td>NaN</td>\n",
       "      <td>Shooter</td>\n",
       "      <td>2.36</td>\n",
       "      <td>0.14</td>\n",
       "      <td>0.00</td>\n",
       "      <td>0.03</td>\n",
       "      <td>NaN</td>\n",
       "      <td>NaN</td>\n",
       "      <td>NaN</td>\n",
       "    </tr>\n",
       "    <tr>\n",
       "      <th>...</th>\n",
       "      <td>...</td>\n",
       "      <td>...</td>\n",
       "      <td>...</td>\n",
       "      <td>...</td>\n",
       "      <td>...</td>\n",
       "      <td>...</td>\n",
       "      <td>...</td>\n",
       "      <td>...</td>\n",
       "      <td>...</td>\n",
       "      <td>...</td>\n",
       "      <td>...</td>\n",
       "    </tr>\n",
       "    <tr>\n",
       "      <th>16373</th>\n",
       "      <td>PDC World Championship Darts 2008</td>\n",
       "      <td>PSP</td>\n",
       "      <td>NaN</td>\n",
       "      <td>Sports</td>\n",
       "      <td>0.01</td>\n",
       "      <td>0.00</td>\n",
       "      <td>0.00</td>\n",
       "      <td>0.00</td>\n",
       "      <td>43.0</td>\n",
       "      <td>tbd</td>\n",
       "      <td>E10+</td>\n",
       "    </tr>\n",
       "    <tr>\n",
       "      <th>16405</th>\n",
       "      <td>Freaky Flyers</td>\n",
       "      <td>GC</td>\n",
       "      <td>NaN</td>\n",
       "      <td>Racing</td>\n",
       "      <td>0.01</td>\n",
       "      <td>0.00</td>\n",
       "      <td>0.00</td>\n",
       "      <td>0.00</td>\n",
       "      <td>69.0</td>\n",
       "      <td>6.5</td>\n",
       "      <td>T</td>\n",
       "    </tr>\n",
       "    <tr>\n",
       "      <th>16448</th>\n",
       "      <td>Inversion</td>\n",
       "      <td>PC</td>\n",
       "      <td>NaN</td>\n",
       "      <td>Shooter</td>\n",
       "      <td>0.01</td>\n",
       "      <td>0.00</td>\n",
       "      <td>0.00</td>\n",
       "      <td>0.00</td>\n",
       "      <td>59.0</td>\n",
       "      <td>6.7</td>\n",
       "      <td>M</td>\n",
       "    </tr>\n",
       "    <tr>\n",
       "      <th>16458</th>\n",
       "      <td>Hakuouki: Shinsengumi Kitan</td>\n",
       "      <td>PS3</td>\n",
       "      <td>NaN</td>\n",
       "      <td>Adventure</td>\n",
       "      <td>0.01</td>\n",
       "      <td>0.00</td>\n",
       "      <td>0.00</td>\n",
       "      <td>0.00</td>\n",
       "      <td>NaN</td>\n",
       "      <td>NaN</td>\n",
       "      <td>NaN</td>\n",
       "    </tr>\n",
       "    <tr>\n",
       "      <th>16522</th>\n",
       "      <td>Virtua Quest</td>\n",
       "      <td>GC</td>\n",
       "      <td>NaN</td>\n",
       "      <td>Role-Playing</td>\n",
       "      <td>0.01</td>\n",
       "      <td>0.00</td>\n",
       "      <td>0.00</td>\n",
       "      <td>0.00</td>\n",
       "      <td>55.0</td>\n",
       "      <td>5.5</td>\n",
       "      <td>T</td>\n",
       "    </tr>\n",
       "  </tbody>\n",
       "</table>\n",
       "<p>271 rows × 11 columns</p>\n",
       "</div>"
      ],
      "text/plain": [
       "                                    Name Platform  Year_of_Release  \\\n",
       "183                      Madden NFL 2004      PS2              NaN   \n",
       "377                     FIFA Soccer 2004      PS2              NaN   \n",
       "456           LEGO Batman: The Videogame      Wii              NaN   \n",
       "475           wwe Smackdown vs. Raw 2006      PS2              NaN   \n",
       "609                       Space Invaders     2600              NaN   \n",
       "...                                  ...      ...              ...   \n",
       "16373  PDC World Championship Darts 2008      PSP              NaN   \n",
       "16405                      Freaky Flyers       GC              NaN   \n",
       "16448                          Inversion       PC              NaN   \n",
       "16458        Hakuouki: Shinsengumi Kitan      PS3              NaN   \n",
       "16522                       Virtua Quest       GC              NaN   \n",
       "\n",
       "              Genre  NA_sales  EU_sales  JP_sales  Other_sales  Critic_Score  \\\n",
       "183          Sports      4.26      0.26      0.01         0.71          94.0   \n",
       "377          Sports      0.59      2.36      0.04         0.51          84.0   \n",
       "456          Action      1.80      0.97      0.00         0.29          74.0   \n",
       "475        Fighting      1.57      1.02      0.00         0.41           NaN   \n",
       "609         Shooter      2.36      0.14      0.00         0.03           NaN   \n",
       "...             ...       ...       ...       ...          ...           ...   \n",
       "16373        Sports      0.01      0.00      0.00         0.00          43.0   \n",
       "16405        Racing      0.01      0.00      0.00         0.00          69.0   \n",
       "16448       Shooter      0.01      0.00      0.00         0.00          59.0   \n",
       "16458     Adventure      0.01      0.00      0.00         0.00           NaN   \n",
       "16522  Role-Playing      0.01      0.00      0.00         0.00          55.0   \n",
       "\n",
       "      User_Score Rating  \n",
       "183          8.5      E  \n",
       "377          6.4      E  \n",
       "456          7.9   E10+  \n",
       "475          NaN    NaN  \n",
       "609          NaN    NaN  \n",
       "...          ...    ...  \n",
       "16373        tbd   E10+  \n",
       "16405        6.5      T  \n",
       "16448        6.7      M  \n",
       "16458        NaN    NaN  \n",
       "16522        5.5      T  \n",
       "\n",
       "[271 rows x 11 columns]"
      ]
     },
     "execution_count": 36,
     "metadata": {},
     "output_type": "execute_result"
    }
   ],
   "source": [
    "data_fresh[(data_fresh['Genre'].isna() == True) | (data_fresh['Name'].isna() == True) | (data_fresh['Year_of_Release'].isna() == True)]"
   ]
  },
  {
   "cell_type": "markdown",
   "id": "b453ccbb",
   "metadata": {},
   "source": [
    "Данные для датасета брались из открытых источников, поэтому данные в столбце с годом релиза могли быть допущены либо из-за отсутствия информации в источнике, либо из-за неточной или непонятной информации в источнике. "
   ]
  },
  {
   "cell_type": "markdown",
   "id": "141f08fe",
   "metadata": {},
   "source": [
    "#### Обратите внимание на аббревиатуру 'tbd' в столбце с оценкой пользователей. Отдельно разберите это значение и опишите, как его обработать"
   ]
  },
  {
   "cell_type": "markdown",
   "id": "cb3ad443",
   "metadata": {},
   "source": [
    "Как уже говорилось выше, значение 'tbd' в столбце с оценкой пользователей обозначает, что оценка все еще формируется. Данное значение было заменено на Nan, так как по сути также представляет собой \"отсутствие информации\". "
   ]
  },
  {
   "cell_type": "markdown",
   "id": "5710c4d9",
   "metadata": {},
   "source": [
    "### Посчитайте суммарные продажи во всех регионах и запишите их в отдельный столбец"
   ]
  },
  {
   "cell_type": "code",
   "execution_count": 37,
   "id": "698919ac",
   "metadata": {},
   "outputs": [],
   "source": [
    "df['total_sales'] = df[['na_sales','eu_sales','jp_sales', 'other_sales']].sum(axis = 1)"
   ]
  },
  {
   "cell_type": "code",
   "execution_count": 38,
   "id": "466532fc",
   "metadata": {},
   "outputs": [
    {
     "data": {
      "text/html": [
       "<div>\n",
       "<style scoped>\n",
       "    .dataframe tbody tr th:only-of-type {\n",
       "        vertical-align: middle;\n",
       "    }\n",
       "\n",
       "    .dataframe tbody tr th {\n",
       "        vertical-align: top;\n",
       "    }\n",
       "\n",
       "    .dataframe thead th {\n",
       "        text-align: right;\n",
       "    }\n",
       "</style>\n",
       "<table border=\"1\" class=\"dataframe\">\n",
       "  <thead>\n",
       "    <tr style=\"text-align: right;\">\n",
       "      <th></th>\n",
       "      <th>name</th>\n",
       "      <th>platform</th>\n",
       "      <th>year_of_release</th>\n",
       "      <th>genre</th>\n",
       "      <th>na_sales</th>\n",
       "      <th>eu_sales</th>\n",
       "      <th>jp_sales</th>\n",
       "      <th>other_sales</th>\n",
       "      <th>critic_score</th>\n",
       "      <th>user_score</th>\n",
       "      <th>rating</th>\n",
       "      <th>total_sales</th>\n",
       "    </tr>\n",
       "  </thead>\n",
       "  <tbody>\n",
       "    <tr>\n",
       "      <th>0</th>\n",
       "      <td>Wii Sports</td>\n",
       "      <td>Wii</td>\n",
       "      <td>2006</td>\n",
       "      <td>Sports</td>\n",
       "      <td>41.36</td>\n",
       "      <td>28.96</td>\n",
       "      <td>3.77</td>\n",
       "      <td>8.45</td>\n",
       "      <td>76.0</td>\n",
       "      <td>8.0</td>\n",
       "      <td>E</td>\n",
       "      <td>82.54</td>\n",
       "    </tr>\n",
       "    <tr>\n",
       "      <th>1</th>\n",
       "      <td>Super Mario Bros.</td>\n",
       "      <td>NES</td>\n",
       "      <td>1985</td>\n",
       "      <td>Platform</td>\n",
       "      <td>29.08</td>\n",
       "      <td>3.58</td>\n",
       "      <td>6.81</td>\n",
       "      <td>0.77</td>\n",
       "      <td>NaN</td>\n",
       "      <td>NaN</td>\n",
       "      <td>undefined</td>\n",
       "      <td>40.24</td>\n",
       "    </tr>\n",
       "    <tr>\n",
       "      <th>2</th>\n",
       "      <td>Mario Kart Wii</td>\n",
       "      <td>Wii</td>\n",
       "      <td>2008</td>\n",
       "      <td>Racing</td>\n",
       "      <td>15.68</td>\n",
       "      <td>12.76</td>\n",
       "      <td>3.79</td>\n",
       "      <td>3.29</td>\n",
       "      <td>82.0</td>\n",
       "      <td>8.3</td>\n",
       "      <td>E</td>\n",
       "      <td>35.52</td>\n",
       "    </tr>\n",
       "    <tr>\n",
       "      <th>3</th>\n",
       "      <td>Wii Sports Resort</td>\n",
       "      <td>Wii</td>\n",
       "      <td>2009</td>\n",
       "      <td>Sports</td>\n",
       "      <td>15.61</td>\n",
       "      <td>10.93</td>\n",
       "      <td>3.28</td>\n",
       "      <td>2.95</td>\n",
       "      <td>80.0</td>\n",
       "      <td>8.0</td>\n",
       "      <td>E</td>\n",
       "      <td>32.77</td>\n",
       "    </tr>\n",
       "    <tr>\n",
       "      <th>4</th>\n",
       "      <td>Pokemon Red/Pokemon Blue</td>\n",
       "      <td>GB</td>\n",
       "      <td>1996</td>\n",
       "      <td>Role-Playing</td>\n",
       "      <td>11.27</td>\n",
       "      <td>8.89</td>\n",
       "      <td>10.22</td>\n",
       "      <td>1.00</td>\n",
       "      <td>NaN</td>\n",
       "      <td>NaN</td>\n",
       "      <td>undefined</td>\n",
       "      <td>31.38</td>\n",
       "    </tr>\n",
       "  </tbody>\n",
       "</table>\n",
       "</div>"
      ],
      "text/plain": [
       "                       name platform  year_of_release         genre  na_sales  \\\n",
       "0                Wii Sports      Wii             2006        Sports     41.36   \n",
       "1         Super Mario Bros.      NES             1985      Platform     29.08   \n",
       "2            Mario Kart Wii      Wii             2008        Racing     15.68   \n",
       "3         Wii Sports Resort      Wii             2009        Sports     15.61   \n",
       "4  Pokemon Red/Pokemon Blue       GB             1996  Role-Playing     11.27   \n",
       "\n",
       "   eu_sales  jp_sales  other_sales  critic_score  user_score     rating  \\\n",
       "0     28.96      3.77         8.45          76.0         8.0          E   \n",
       "1      3.58      6.81         0.77           NaN         NaN  undefined   \n",
       "2     12.76      3.79         3.29          82.0         8.3          E   \n",
       "3     10.93      3.28         2.95          80.0         8.0          E   \n",
       "4      8.89     10.22         1.00           NaN         NaN  undefined   \n",
       "\n",
       "   total_sales  \n",
       "0        82.54  \n",
       "1        40.24  \n",
       "2        35.52  \n",
       "3        32.77  \n",
       "4        31.38  "
      ]
     },
     "execution_count": 38,
     "metadata": {},
     "output_type": "execute_result"
    }
   ],
   "source": [
    "data.head()"
   ]
  },
  {
   "cell_type": "code",
   "execution_count": 39,
   "id": "970f3c2e",
   "metadata": {},
   "outputs": [
    {
     "data": {
      "text/plain": [
       "array(['Wii Sports', 'Super Mario Bros.', 'Mario Kart Wii', ...,\n",
       "       'Woody Woodpecker in Crazy Castle 5', 'LMA Manager 2007',\n",
       "       'Haitaka no Psychedelica'], dtype=object)"
      ]
     },
     "execution_count": 39,
     "metadata": {},
     "output_type": "execute_result"
    }
   ],
   "source": [
    "data['name'].unique()"
   ]
  },
  {
   "cell_type": "code",
   "execution_count": 40,
   "id": "79ec981c",
   "metadata": {},
   "outputs": [
    {
     "data": {
      "text/plain": [
       "array(['Wii', 'NES', 'GB', 'DS', 'X360', 'PS3', 'PS2', 'SNES', 'GBA',\n",
       "       'PS4', '3DS', 'N64', 'PS', 'XB', 'PC', '2600', 'PSP', 'XOne',\n",
       "       'WiiU', 'GC', 'GEN', 'DC', 'PSV', 'SAT', 'SCD', 'WS', 'NG', 'TG16',\n",
       "       '3DO', 'GG', 'PCFX'], dtype=object)"
      ]
     },
     "execution_count": 40,
     "metadata": {},
     "output_type": "execute_result"
    }
   ],
   "source": [
    "data['platform'].unique()"
   ]
  },
  {
   "cell_type": "code",
   "execution_count": 41,
   "id": "1ee1ee0c",
   "metadata": {},
   "outputs": [
    {
     "data": {
      "text/plain": [
       "array(['Sports', 'Platform', 'Racing', 'Role-Playing', 'Puzzle', 'Misc',\n",
       "       'Shooter', 'Simulation', 'Action', 'Fighting', 'Adventure',\n",
       "       'Strategy'], dtype=object)"
      ]
     },
     "execution_count": 41,
     "metadata": {},
     "output_type": "execute_result"
    }
   ],
   "source": [
    "data['genre'].unique()"
   ]
  },
  {
   "cell_type": "code",
   "execution_count": 42,
   "id": "c6aa4caa",
   "metadata": {},
   "outputs": [
    {
     "data": {
      "text/plain": [
       "array(['E', 'undefined', 'M', 'T', 'E10+', 'K-A', 'AO', 'EC', 'RP'],\n",
       "      dtype=object)"
      ]
     },
     "execution_count": 42,
     "metadata": {},
     "output_type": "execute_result"
    }
   ],
   "source": [
    "data['rating'].unique()"
   ]
  },
  {
   "cell_type": "markdown",
   "id": "d7e26dea",
   "metadata": {},
   "source": [
    "В данном случае уникальных значений в некоторых из столбцов не так много, поэтому не все из них буду приводить к нижнему регистру. Мне удобнее будет привести к нижнему регистру лишь столбцы 'name' и 'genre'. "
   ]
  },
  {
   "cell_type": "code",
   "execution_count": 43,
   "id": "1a1ee39a",
   "metadata": {},
   "outputs": [],
   "source": [
    "data['name'] = data['name'].str.lower()"
   ]
  },
  {
   "cell_type": "code",
   "execution_count": 44,
   "id": "110b6440",
   "metadata": {},
   "outputs": [],
   "source": [
    "data['genre'] = data['genre'].str.lower()"
   ]
  },
  {
   "cell_type": "markdown",
   "id": "031b5965",
   "metadata": {},
   "source": [
    "Перейдем непосредственно к поиску дубликатов. "
   ]
  },
  {
   "cell_type": "code",
   "execution_count": 45,
   "id": "8dcbfa54",
   "metadata": {},
   "outputs": [
    {
     "data": {
      "text/plain": [
       "0"
      ]
     },
     "execution_count": 45,
     "metadata": {},
     "output_type": "execute_result"
    }
   ],
   "source": [
    "data.duplicated().sum()"
   ]
  },
  {
   "cell_type": "markdown",
   "id": "8cdb7b8d",
   "metadata": {},
   "source": [
    "Явных дубликатов нет. "
   ]
  },
  {
   "cell_type": "code",
   "execution_count": 46,
   "id": "c80fa388",
   "metadata": {},
   "outputs": [
    {
     "name": "stdout",
     "output_type": "stream",
     "text": [
      "<class 'pandas.core.frame.DataFrame'>\n",
      "Int64Index: 16444 entries, 0 to 16714\n",
      "Data columns (total 12 columns):\n",
      " #   Column           Non-Null Count  Dtype  \n",
      "---  ------           --------------  -----  \n",
      " 0   name             16444 non-null  object \n",
      " 1   platform         16444 non-null  object \n",
      " 2   year_of_release  16444 non-null  int64  \n",
      " 3   genre            16444 non-null  object \n",
      " 4   na_sales         16444 non-null  float64\n",
      " 5   eu_sales         16444 non-null  float64\n",
      " 6   jp_sales         16444 non-null  float64\n",
      " 7   other_sales      16444 non-null  float64\n",
      " 8   critic_score     7983 non-null   float64\n",
      " 9   user_score       7463 non-null   float64\n",
      " 10  rating           16444 non-null  object \n",
      " 11  total_sales      16444 non-null  float64\n",
      "dtypes: float64(7), int64(1), object(4)\n",
      "memory usage: 1.6+ MB\n"
     ]
    }
   ],
   "source": [
    "# check\n",
    "data.info()"
   ]
  },
  {
   "cell_type": "markdown",
   "id": "565db9f2",
   "metadata": {},
   "source": [
    "\n",
    "## Шаг 3. Проведите исследовательский анализ данных\n"
   ]
  },
  {
   "cell_type": "markdown",
   "id": "5ba5ca6f",
   "metadata": {},
   "source": [
    "### Посмотрите, сколько игр выпускалось в разные годы. \n",
    "Важны ли данные за все периоды?"
   ]
  },
  {
   "cell_type": "code",
   "execution_count": 47,
   "id": "17717a83",
   "metadata": {},
   "outputs": [
    {
     "data": {
      "text/plain": [
       "year_of_release\n",
       "1980       9\n",
       "1981      46\n",
       "1982      36\n",
       "1983      17\n",
       "1984      14\n",
       "1985      14\n",
       "1986      21\n",
       "1987      16\n",
       "1988      15\n",
       "1989      17\n",
       "1990      16\n",
       "1991      41\n",
       "1992      43\n",
       "1993      60\n",
       "1994     121\n",
       "1995     219\n",
       "1996     263\n",
       "1997     289\n",
       "1998     379\n",
       "1999     338\n",
       "2000     350\n",
       "2001     482\n",
       "2002     829\n",
       "2003     775\n",
       "2004     762\n",
       "2005     939\n",
       "2006    1006\n",
       "2007    1197\n",
       "2008    1427\n",
       "2009    1426\n",
       "2010    1255\n",
       "2011    1136\n",
       "2012     653\n",
       "2013     544\n",
       "2014     581\n",
       "2015     606\n",
       "2016     502\n",
       "Name: name, dtype: int64"
      ]
     },
     "execution_count": 47,
     "metadata": {},
     "output_type": "execute_result"
    }
   ],
   "source": [
    "games_by_year = data.groupby('year_of_release')['name'].count()\n",
    "games_by_year"
   ]
  },
  {
   "cell_type": "markdown",
   "id": "39bc8eb9",
   "metadata": {},
   "source": [
    "Целесообразнее взять период примерно с 2000-го года, во-первых, чтобы учитывать несколько циклов мировых экономических кризисов. Во-вторых, некоторые платформы для игр появились лишь в 90-е - 20-е, например, популярные сейчас Xbox и PS.   \n",
    "Но если рассматривать весь период, то после 1994 года количество выпущенных игр начало увеличиваться в несколько раз ежегодно, после 2005 года количество выпущенных игр в год достигло значения в тысячу (по сравнению с 121 игрой за 1994 год). Хотя здесь все же также следует учитывать тот факт, что в 90-е могли не вести запись всех выпущенных игр или информация могла затеряться. Тем не менее с 2011 года наметился спад количества выпущенных игр.    \n",
    "\n",
    "Для упрощения дальнейшего анализа создадим датасет, где период времени ограничен 1999-2016 годами. "
   ]
  },
  {
   "cell_type": "code",
   "execution_count": 48,
   "id": "d0d11785",
   "metadata": {},
   "outputs": [
    {
     "data": {
      "image/png": "[encoded data removed]",
      "text/plain": [
       "<Figure size 360x360 with 1 Axes>"
      ]
     },
     "metadata": {
      "needs_background": "light"
     },
     "output_type": "display_data"
    }
   ],
   "source": [
    "data['year_of_release'].hist(figsize=(5, 5));"
   ]
  },
  {
   "cell_type": "code",
   "execution_count": 49,
   "id": "e564f2a2",
   "metadata": {},
   "outputs": [],
   "source": [
    "data_1999 = data[data['year_of_release'] >= 1999]"
   ]
  },
  {
   "cell_type": "code",
   "execution_count": 50,
   "id": "c9bf70f1",
   "metadata": {},
   "outputs": [
    {
     "data": {
      "text/plain": [
       "88.591085851032"
      ]
     },
     "execution_count": 50,
     "metadata": {},
     "output_type": "execute_result"
    }
   ],
   "source": [
    "len(data_1999)/len(data_fresh)*100"
   ]
  },
  {
   "cell_type": "markdown",
   "id": "667a1efd",
   "metadata": {},
   "source": [
    "Новый датасет составляет 89% от изначального, так что на данных не сильно отразится данное изменение. "
   ]
  },
  {
   "cell_type": "markdown",
   "id": "0d8afe2d",
   "metadata": {},
   "source": [
    "### Посмотрите, как менялись продажи по платформам\n",
    "Выберите платформы с наибольшими суммарными продажами и постройте распределение по годам. За какой характерный срок появляются новые и исчезают старые платформы?\n"
   ]
  },
  {
   "cell_type": "code",
   "execution_count": 51,
   "id": "5f532734",
   "metadata": {},
   "outputs": [
    {
     "data": {
      "text/plain": [
       "array([2006, 1985, 2008, 2009, 1996, 1989, 1984, 2005, 1999, 2007, 2010,\n",
       "       2013, 2004, 1990, 1988, 2002, 2001, 2011, 1998, 2015, 2012, 2014,\n",
       "       1992, 1997, 1993, 1994, 1982, 2016, 2003, 1986, 2000, 1995, 1991,\n",
       "       1981, 1987, 1980, 1983])"
      ]
     },
     "execution_count": 51,
     "metadata": {},
     "output_type": "execute_result"
    }
   ],
   "source": [
    "data['year_of_release'].unique()"
   ]
  },
  {
   "cell_type": "code",
   "execution_count": 52,
   "id": "ae6624ff",
   "metadata": {},
   "outputs": [],
   "source": [
    "sales_per_platform_top = data.pivot_table(index='platform', values='total_sales', aggfunc='sum').sort_values(by='total_sales', ascending=False)"
   ]
  },
  {
   "cell_type": "code",
   "execution_count": 53,
   "id": "8d8af619",
   "metadata": {},
   "outputs": [
    {
     "data": {
      "text/html": [
       "<div>\n",
       "<style scoped>\n",
       "    .dataframe tbody tr th:only-of-type {\n",
       "        vertical-align: middle;\n",
       "    }\n",
       "\n",
       "    .dataframe tbody tr th {\n",
       "        vertical-align: top;\n",
       "    }\n",
       "\n",
       "    .dataframe thead th {\n",
       "        text-align: right;\n",
       "    }\n",
       "</style>\n",
       "<table border=\"1\" class=\"dataframe\">\n",
       "  <thead>\n",
       "    <tr style=\"text-align: right;\">\n",
       "      <th></th>\n",
       "      <th>total_sales</th>\n",
       "    </tr>\n",
       "    <tr>\n",
       "      <th>platform</th>\n",
       "      <th></th>\n",
       "    </tr>\n",
       "  </thead>\n",
       "  <tbody>\n",
       "    <tr>\n",
       "      <th>PS2</th>\n",
       "      <td>1233.56</td>\n",
       "    </tr>\n",
       "    <tr>\n",
       "      <th>X360</th>\n",
       "      <td>961.24</td>\n",
       "    </tr>\n",
       "    <tr>\n",
       "      <th>PS3</th>\n",
       "      <td>931.34</td>\n",
       "    </tr>\n",
       "    <tr>\n",
       "      <th>Wii</th>\n",
       "      <td>891.18</td>\n",
       "    </tr>\n",
       "    <tr>\n",
       "      <th>DS</th>\n",
       "      <td>802.78</td>\n",
       "    </tr>\n",
       "    <tr>\n",
       "      <th>PS</th>\n",
       "      <td>727.58</td>\n",
       "    </tr>\n",
       "    <tr>\n",
       "      <th>PS4</th>\n",
       "      <td>314.14</td>\n",
       "    </tr>\n",
       "    <tr>\n",
       "      <th>GBA</th>\n",
       "      <td>312.88</td>\n",
       "    </tr>\n",
       "    <tr>\n",
       "      <th>PSP</th>\n",
       "      <td>289.53</td>\n",
       "    </tr>\n",
       "    <tr>\n",
       "      <th>3DS</th>\n",
       "      <td>257.81</td>\n",
       "    </tr>\n",
       "    <tr>\n",
       "      <th>PC</th>\n",
       "      <td>255.76</td>\n",
       "    </tr>\n",
       "    <tr>\n",
       "      <th>GB</th>\n",
       "      <td>254.43</td>\n",
       "    </tr>\n",
       "    <tr>\n",
       "      <th>XB</th>\n",
       "      <td>251.57</td>\n",
       "    </tr>\n",
       "    <tr>\n",
       "      <th>NES</th>\n",
       "      <td>251.05</td>\n",
       "    </tr>\n",
       "    <tr>\n",
       "      <th>N64</th>\n",
       "      <td>218.01</td>\n",
       "    </tr>\n",
       "    <tr>\n",
       "      <th>SNES</th>\n",
       "      <td>200.04</td>\n",
       "    </tr>\n",
       "    <tr>\n",
       "      <th>GC</th>\n",
       "      <td>196.73</td>\n",
       "    </tr>\n",
       "    <tr>\n",
       "      <th>XOne</th>\n",
       "      <td>159.32</td>\n",
       "    </tr>\n",
       "    <tr>\n",
       "      <th>2600</th>\n",
       "      <td>86.48</td>\n",
       "    </tr>\n",
       "    <tr>\n",
       "      <th>WiiU</th>\n",
       "      <td>82.19</td>\n",
       "    </tr>\n",
       "    <tr>\n",
       "      <th>PSV</th>\n",
       "      <td>53.81</td>\n",
       "    </tr>\n",
       "    <tr>\n",
       "      <th>SAT</th>\n",
       "      <td>33.59</td>\n",
       "    </tr>\n",
       "    <tr>\n",
       "      <th>GEN</th>\n",
       "      <td>28.35</td>\n",
       "    </tr>\n",
       "    <tr>\n",
       "      <th>DC</th>\n",
       "      <td>15.95</td>\n",
       "    </tr>\n",
       "    <tr>\n",
       "      <th>SCD</th>\n",
       "      <td>1.86</td>\n",
       "    </tr>\n",
       "    <tr>\n",
       "      <th>NG</th>\n",
       "      <td>1.44</td>\n",
       "    </tr>\n",
       "    <tr>\n",
       "      <th>WS</th>\n",
       "      <td>1.42</td>\n",
       "    </tr>\n",
       "    <tr>\n",
       "      <th>TG16</th>\n",
       "      <td>0.16</td>\n",
       "    </tr>\n",
       "    <tr>\n",
       "      <th>3DO</th>\n",
       "      <td>0.10</td>\n",
       "    </tr>\n",
       "    <tr>\n",
       "      <th>GG</th>\n",
       "      <td>0.04</td>\n",
       "    </tr>\n",
       "    <tr>\n",
       "      <th>PCFX</th>\n",
       "      <td>0.03</td>\n",
       "    </tr>\n",
       "  </tbody>\n",
       "</table>\n",
       "</div>"
      ],
      "text/plain": [
       "          total_sales\n",
       "platform             \n",
       "PS2           1233.56\n",
       "X360           961.24\n",
       "PS3            931.34\n",
       "Wii            891.18\n",
       "DS             802.78\n",
       "PS             727.58\n",
       "PS4            314.14\n",
       "GBA            312.88\n",
       "PSP            289.53\n",
       "3DS            257.81\n",
       "PC             255.76\n",
       "GB             254.43\n",
       "XB             251.57\n",
       "NES            251.05\n",
       "N64            218.01\n",
       "SNES           200.04\n",
       "GC             196.73\n",
       "XOne           159.32\n",
       "2600            86.48\n",
       "WiiU            82.19\n",
       "PSV             53.81\n",
       "SAT             33.59\n",
       "GEN             28.35\n",
       "DC              15.95\n",
       "SCD              1.86\n",
       "NG               1.44\n",
       "WS               1.42\n",
       "TG16             0.16\n",
       "3DO              0.10\n",
       "GG               0.04\n",
       "PCFX             0.03"
      ]
     },
     "execution_count": 53,
     "metadata": {},
     "output_type": "execute_result"
    }
   ],
   "source": [
    "sales_per_platform_top"
   ]
  },
  {
   "cell_type": "code",
   "execution_count": 54,
   "id": "0ae66d58",
   "metadata": {},
   "outputs": [
    {
     "data": {
      "text/plain": [
       "301.20499999999674"
      ]
     },
     "execution_count": 54,
     "metadata": {},
     "output_type": "execute_result"
    }
   ],
   "source": [
    "sales_per_platform_top['total_sales'].quantile(0.75)"
   ]
  },
  {
   "cell_type": "markdown",
   "id": "bbc3806b",
   "metadata": {},
   "source": [
    "Рассмотрим топ 10 платформ. "
   ]
  },
  {
   "cell_type": "code",
   "execution_count": 55,
   "id": "f6831f0c",
   "metadata": {},
   "outputs": [],
   "source": [
    "sales_per_platform = (data.pivot_table(index=['year_of_release', 'platform'], values='total_sales', aggfunc='sum') \\\n",
    "                      .reset_index())"
   ]
  },
  {
   "cell_type": "code",
   "execution_count": 56,
   "id": "4b811669",
   "metadata": {},
   "outputs": [
    {
     "data": {
      "text/html": [
       "<div>\n",
       "<style scoped>\n",
       "    .dataframe tbody tr th:only-of-type {\n",
       "        vertical-align: middle;\n",
       "    }\n",
       "\n",
       "    .dataframe tbody tr th {\n",
       "        vertical-align: top;\n",
       "    }\n",
       "\n",
       "    .dataframe thead th {\n",
       "        text-align: right;\n",
       "    }\n",
       "</style>\n",
       "<table border=\"1\" class=\"dataframe\">\n",
       "  <thead>\n",
       "    <tr style=\"text-align: right;\">\n",
       "      <th></th>\n",
       "      <th>year_of_release</th>\n",
       "      <th>platform</th>\n",
       "      <th>total_sales</th>\n",
       "    </tr>\n",
       "  </thead>\n",
       "  <tbody>\n",
       "    <tr>\n",
       "      <th>0</th>\n",
       "      <td>1980</td>\n",
       "      <td>2600</td>\n",
       "      <td>11.38</td>\n",
       "    </tr>\n",
       "    <tr>\n",
       "      <th>1</th>\n",
       "      <td>1981</td>\n",
       "      <td>2600</td>\n",
       "      <td>35.68</td>\n",
       "    </tr>\n",
       "    <tr>\n",
       "      <th>2</th>\n",
       "      <td>1982</td>\n",
       "      <td>2600</td>\n",
       "      <td>28.88</td>\n",
       "    </tr>\n",
       "    <tr>\n",
       "      <th>3</th>\n",
       "      <td>1983</td>\n",
       "      <td>2600</td>\n",
       "      <td>5.84</td>\n",
       "    </tr>\n",
       "    <tr>\n",
       "      <th>4</th>\n",
       "      <td>1983</td>\n",
       "      <td>NES</td>\n",
       "      <td>10.96</td>\n",
       "    </tr>\n",
       "    <tr>\n",
       "      <th>...</th>\n",
       "      <td>...</td>\n",
       "      <td>...</td>\n",
       "      <td>...</td>\n",
       "    </tr>\n",
       "    <tr>\n",
       "      <th>233</th>\n",
       "      <td>2016</td>\n",
       "      <td>PSV</td>\n",
       "      <td>4.25</td>\n",
       "    </tr>\n",
       "    <tr>\n",
       "      <th>234</th>\n",
       "      <td>2016</td>\n",
       "      <td>Wii</td>\n",
       "      <td>0.18</td>\n",
       "    </tr>\n",
       "    <tr>\n",
       "      <th>235</th>\n",
       "      <td>2016</td>\n",
       "      <td>WiiU</td>\n",
       "      <td>4.60</td>\n",
       "    </tr>\n",
       "    <tr>\n",
       "      <th>236</th>\n",
       "      <td>2016</td>\n",
       "      <td>X360</td>\n",
       "      <td>1.52</td>\n",
       "    </tr>\n",
       "    <tr>\n",
       "      <th>237</th>\n",
       "      <td>2016</td>\n",
       "      <td>XOne</td>\n",
       "      <td>26.15</td>\n",
       "    </tr>\n",
       "  </tbody>\n",
       "</table>\n",
       "<p>238 rows × 3 columns</p>\n",
       "</div>"
      ],
      "text/plain": [
       "     year_of_release platform  total_sales\n",
       "0               1980     2600        11.38\n",
       "1               1981     2600        35.68\n",
       "2               1982     2600        28.88\n",
       "3               1983     2600         5.84\n",
       "4               1983      NES        10.96\n",
       "..               ...      ...          ...\n",
       "233             2016      PSV         4.25\n",
       "234             2016      Wii         0.18\n",
       "235             2016     WiiU         4.60\n",
       "236             2016     X360         1.52\n",
       "237             2016     XOne        26.15\n",
       "\n",
       "[238 rows x 3 columns]"
      ]
     },
     "execution_count": 56,
     "metadata": {},
     "output_type": "execute_result"
    }
   ],
   "source": [
    "sales_per_platform"
   ]
  },
  {
   "cell_type": "code",
   "execution_count": 57,
   "id": "61b9ca71",
   "metadata": {},
   "outputs": [],
   "source": [
    "sales_per_platform_top = sales_per_platform[(sales_per_platform['platform'] == 'PS2') | (sales_per_platform['platform'] == 'X360') | (sales_per_platform['platform'] == 'PS3') | (sales_per_platform['platform'] == 'Wii') | (sales_per_platform['platform'] == 'DS') | (sales_per_platform['platform'] == 'PS') | (sales_per_platform['platform'] == 'PS4') | (sales_per_platform['platform'] == 'GBA') | (sales_per_platform['platform'] == 'PSP') | (sales_per_platform['platform'] == '3DC')]"
   ]
  },
  {
   "cell_type": "code",
   "execution_count": 58,
   "id": "c0378f0d",
   "metadata": {},
   "outputs": [
    {
     "data": {
      "text/html": [
       "<div>\n",
       "<style scoped>\n",
       "    .dataframe tbody tr th:only-of-type {\n",
       "        vertical-align: middle;\n",
       "    }\n",
       "\n",
       "    .dataframe tbody tr th {\n",
       "        vertical-align: top;\n",
       "    }\n",
       "\n",
       "    .dataframe thead th {\n",
       "        text-align: right;\n",
       "    }\n",
       "</style>\n",
       "<table border=\"1\" class=\"dataframe\">\n",
       "  <thead>\n",
       "    <tr style=\"text-align: right;\">\n",
       "      <th></th>\n",
       "      <th>year_of_release</th>\n",
       "      <th>platform</th>\n",
       "      <th>total_sales</th>\n",
       "    </tr>\n",
       "  </thead>\n",
       "  <tbody>\n",
       "    <tr>\n",
       "      <th>8</th>\n",
       "      <td>1985</td>\n",
       "      <td>DS</td>\n",
       "      <td>0.02</td>\n",
       "    </tr>\n",
       "    <tr>\n",
       "      <th>47</th>\n",
       "      <td>1994</td>\n",
       "      <td>PS</td>\n",
       "      <td>6.03</td>\n",
       "    </tr>\n",
       "    <tr>\n",
       "      <th>55</th>\n",
       "      <td>1995</td>\n",
       "      <td>PS</td>\n",
       "      <td>35.96</td>\n",
       "    </tr>\n",
       "    <tr>\n",
       "      <th>64</th>\n",
       "      <td>1996</td>\n",
       "      <td>PS</td>\n",
       "      <td>94.70</td>\n",
       "    </tr>\n",
       "    <tr>\n",
       "      <th>70</th>\n",
       "      <td>1997</td>\n",
       "      <td>PS</td>\n",
       "      <td>136.17</td>\n",
       "    </tr>\n",
       "    <tr>\n",
       "      <th>...</th>\n",
       "      <td>...</td>\n",
       "      <td>...</td>\n",
       "      <td>...</td>\n",
       "    </tr>\n",
       "    <tr>\n",
       "      <th>227</th>\n",
       "      <td>2015</td>\n",
       "      <td>X360</td>\n",
       "      <td>11.96</td>\n",
       "    </tr>\n",
       "    <tr>\n",
       "      <th>231</th>\n",
       "      <td>2016</td>\n",
       "      <td>PS3</td>\n",
       "      <td>3.60</td>\n",
       "    </tr>\n",
       "    <tr>\n",
       "      <th>232</th>\n",
       "      <td>2016</td>\n",
       "      <td>PS4</td>\n",
       "      <td>69.25</td>\n",
       "    </tr>\n",
       "    <tr>\n",
       "      <th>234</th>\n",
       "      <td>2016</td>\n",
       "      <td>Wii</td>\n",
       "      <td>0.18</td>\n",
       "    </tr>\n",
       "    <tr>\n",
       "      <th>236</th>\n",
       "      <td>2016</td>\n",
       "      <td>X360</td>\n",
       "      <td>1.52</td>\n",
       "    </tr>\n",
       "  </tbody>\n",
       "</table>\n",
       "<p>91 rows × 3 columns</p>\n",
       "</div>"
      ],
      "text/plain": [
       "     year_of_release platform  total_sales\n",
       "8               1985       DS         0.02\n",
       "47              1994       PS         6.03\n",
       "55              1995       PS        35.96\n",
       "64              1996       PS        94.70\n",
       "70              1997       PS       136.17\n",
       "..               ...      ...          ...\n",
       "227             2015     X360        11.96\n",
       "231             2016      PS3         3.60\n",
       "232             2016      PS4        69.25\n",
       "234             2016      Wii         0.18\n",
       "236             2016     X360         1.52\n",
       "\n",
       "[91 rows x 3 columns]"
      ]
     },
     "execution_count": 58,
     "metadata": {},
     "output_type": "execute_result"
    }
   ],
   "source": [
    "sales_per_platform_top"
   ]
  },
  {
   "cell_type": "code",
   "execution_count": 59,
   "id": "49bb2a72",
   "metadata": {},
   "outputs": [
    {
     "data": {
      "text/plain": [
       "<AxesSubplot:xlabel='year_of_release', ylabel='total_sales'>"
      ]
     },
     "execution_count": 59,
     "metadata": {},
     "output_type": "execute_result"
    },
    {
     "data": {
      "image/png": "[encoded data removed]",
      "text/plain": [
       "<Figure size 432x288 with 1 Axes>"
      ]
     },
     "metadata": {
      "needs_background": "light"
     },
     "output_type": "display_data"
    }
   ],
   "source": [
    "sns.lineplot(data = sales_per_platform_top, x = 'year_of_release', y = 'total_sales', hue = 'platform')"
   ]
  },
  {
   "cell_type": "markdown",
   "id": "25f1a2f1",
   "metadata": {},
   "source": [
    "Исходя из графика, построенного выше, можно сделать вывод о том, что большинство новых платформ крайне быстро набирают популярность, но в течение 6-10 лет их популярность так же быстро снижается при выходе новой платформы. "
   ]
  },
  {
   "cell_type": "code",
   "execution_count": 60,
   "id": "7dbedf99",
   "metadata": {},
   "outputs": [
    {
     "data": {
      "text/html": [
       "<div>\n",
       "<style scoped>\n",
       "    .dataframe tbody tr th:only-of-type {\n",
       "        vertical-align: middle;\n",
       "    }\n",
       "\n",
       "    .dataframe tbody tr th {\n",
       "        vertical-align: top;\n",
       "    }\n",
       "\n",
       "    .dataframe thead th {\n",
       "        text-align: right;\n",
       "    }\n",
       "</style>\n",
       "<table border=\"1\" class=\"dataframe\">\n",
       "  <thead>\n",
       "    <tr style=\"text-align: right;\">\n",
       "      <th></th>\n",
       "      <th>year_of_release</th>\n",
       "      <th>platform</th>\n",
       "      <th>total_sales</th>\n",
       "    </tr>\n",
       "  </thead>\n",
       "  <tbody>\n",
       "    <tr>\n",
       "      <th>8</th>\n",
       "      <td>1985</td>\n",
       "      <td>DS</td>\n",
       "      <td>0.02</td>\n",
       "    </tr>\n",
       "    <tr>\n",
       "      <th>121</th>\n",
       "      <td>2004</td>\n",
       "      <td>DS</td>\n",
       "      <td>17.27</td>\n",
       "    </tr>\n",
       "    <tr>\n",
       "      <th>128</th>\n",
       "      <td>2005</td>\n",
       "      <td>DS</td>\n",
       "      <td>130.14</td>\n",
       "    </tr>\n",
       "    <tr>\n",
       "      <th>136</th>\n",
       "      <td>2006</td>\n",
       "      <td>DS</td>\n",
       "      <td>119.81</td>\n",
       "    </tr>\n",
       "    <tr>\n",
       "      <th>147</th>\n",
       "      <td>2007</td>\n",
       "      <td>DS</td>\n",
       "      <td>146.94</td>\n",
       "    </tr>\n",
       "    <tr>\n",
       "      <th>158</th>\n",
       "      <td>2008</td>\n",
       "      <td>DS</td>\n",
       "      <td>145.31</td>\n",
       "    </tr>\n",
       "    <tr>\n",
       "      <th>166</th>\n",
       "      <td>2009</td>\n",
       "      <td>DS</td>\n",
       "      <td>119.54</td>\n",
       "    </tr>\n",
       "    <tr>\n",
       "      <th>173</th>\n",
       "      <td>2010</td>\n",
       "      <td>DS</td>\n",
       "      <td>85.02</td>\n",
       "    </tr>\n",
       "    <tr>\n",
       "      <th>181</th>\n",
       "      <td>2011</td>\n",
       "      <td>DS</td>\n",
       "      <td>26.18</td>\n",
       "    </tr>\n",
       "    <tr>\n",
       "      <th>190</th>\n",
       "      <td>2012</td>\n",
       "      <td>DS</td>\n",
       "      <td>11.01</td>\n",
       "    </tr>\n",
       "    <tr>\n",
       "      <th>199</th>\n",
       "      <td>2013</td>\n",
       "      <td>DS</td>\n",
       "      <td>1.54</td>\n",
       "    </tr>\n",
       "  </tbody>\n",
       "</table>\n",
       "</div>"
      ],
      "text/plain": [
       "     year_of_release platform  total_sales\n",
       "8               1985       DS         0.02\n",
       "121             2004       DS        17.27\n",
       "128             2005       DS       130.14\n",
       "136             2006       DS       119.81\n",
       "147             2007       DS       146.94\n",
       "158             2008       DS       145.31\n",
       "166             2009       DS       119.54\n",
       "173             2010       DS        85.02\n",
       "181             2011       DS        26.18\n",
       "190             2012       DS        11.01\n",
       "199             2013       DS         1.54"
      ]
     },
     "execution_count": 60,
     "metadata": {},
     "output_type": "execute_result"
    }
   ],
   "source": [
    "sales_per_platform_top[sales_per_platform_top['platform'] == 'DS']"
   ]
  },
  {
   "cell_type": "code",
   "execution_count": 61,
   "id": "974ac127",
   "metadata": {},
   "outputs": [
    {
     "data": {
      "text/html": [
       "<div>\n",
       "<style scoped>\n",
       "    .dataframe tbody tr th:only-of-type {\n",
       "        vertical-align: middle;\n",
       "    }\n",
       "\n",
       "    .dataframe tbody tr th {\n",
       "        vertical-align: top;\n",
       "    }\n",
       "\n",
       "    .dataframe thead th {\n",
       "        text-align: right;\n",
       "    }\n",
       "</style>\n",
       "<table border=\"1\" class=\"dataframe\">\n",
       "  <thead>\n",
       "    <tr style=\"text-align: right;\">\n",
       "      <th></th>\n",
       "      <th>name</th>\n",
       "      <th>platform</th>\n",
       "      <th>year_of_release</th>\n",
       "      <th>genre</th>\n",
       "      <th>na_sales</th>\n",
       "      <th>eu_sales</th>\n",
       "      <th>jp_sales</th>\n",
       "      <th>other_sales</th>\n",
       "      <th>critic_score</th>\n",
       "      <th>user_score</th>\n",
       "      <th>rating</th>\n",
       "      <th>total_sales</th>\n",
       "    </tr>\n",
       "  </thead>\n",
       "  <tbody>\n",
       "    <tr>\n",
       "      <th>15957</th>\n",
       "      <td>strongest tokyo university shogi ds</td>\n",
       "      <td>DS</td>\n",
       "      <td>1985</td>\n",
       "      <td>action</td>\n",
       "      <td>0.0</td>\n",
       "      <td>0.0</td>\n",
       "      <td>0.02</td>\n",
       "      <td>0.0</td>\n",
       "      <td>NaN</td>\n",
       "      <td>NaN</td>\n",
       "      <td>undefined</td>\n",
       "      <td>0.02</td>\n",
       "    </tr>\n",
       "  </tbody>\n",
       "</table>\n",
       "</div>"
      ],
      "text/plain": [
       "                                      name platform  year_of_release   genre  \\\n",
       "15957  strongest tokyo university shogi ds       DS             1985  action   \n",
       "\n",
       "       na_sales  eu_sales  jp_sales  other_sales  critic_score  user_score  \\\n",
       "15957       0.0       0.0      0.02          0.0           NaN         NaN   \n",
       "\n",
       "          rating  total_sales  \n",
       "15957  undefined         0.02  "
      ]
     },
     "execution_count": 61,
     "metadata": {},
     "output_type": "execute_result"
    }
   ],
   "source": [
    "data[(data['platform'] == 'DS') & (data['year_of_release'] == 1985)]"
   ]
  },
  {
   "cell_type": "code",
   "execution_count": 62,
   "id": "e67ce188",
   "metadata": {},
   "outputs": [
    {
     "data": {
      "text/html": [
       "<div>\n",
       "<style scoped>\n",
       "    .dataframe tbody tr th:only-of-type {\n",
       "        vertical-align: middle;\n",
       "    }\n",
       "\n",
       "    .dataframe tbody tr th {\n",
       "        vertical-align: top;\n",
       "    }\n",
       "\n",
       "    .dataframe thead th {\n",
       "        text-align: right;\n",
       "    }\n",
       "</style>\n",
       "<table border=\"1\" class=\"dataframe\">\n",
       "  <thead>\n",
       "    <tr style=\"text-align: right;\">\n",
       "      <th></th>\n",
       "      <th>name</th>\n",
       "      <th>platform</th>\n",
       "      <th>year_of_release</th>\n",
       "      <th>genre</th>\n",
       "      <th>na_sales</th>\n",
       "      <th>eu_sales</th>\n",
       "      <th>jp_sales</th>\n",
       "      <th>other_sales</th>\n",
       "      <th>critic_score</th>\n",
       "      <th>user_score</th>\n",
       "      <th>rating</th>\n",
       "      <th>total_sales</th>\n",
       "    </tr>\n",
       "  </thead>\n",
       "  <tbody>\n",
       "    <tr>\n",
       "      <th>0</th>\n",
       "      <td>wii sports</td>\n",
       "      <td>Wii</td>\n",
       "      <td>2006</td>\n",
       "      <td>sports</td>\n",
       "      <td>41.36</td>\n",
       "      <td>28.96</td>\n",
       "      <td>3.77</td>\n",
       "      <td>8.45</td>\n",
       "      <td>76.0</td>\n",
       "      <td>8.0</td>\n",
       "      <td>E</td>\n",
       "      <td>82.54</td>\n",
       "    </tr>\n",
       "    <tr>\n",
       "      <th>1</th>\n",
       "      <td>super mario bros.</td>\n",
       "      <td>NES</td>\n",
       "      <td>1985</td>\n",
       "      <td>platform</td>\n",
       "      <td>29.08</td>\n",
       "      <td>3.58</td>\n",
       "      <td>6.81</td>\n",
       "      <td>0.77</td>\n",
       "      <td>NaN</td>\n",
       "      <td>NaN</td>\n",
       "      <td>undefined</td>\n",
       "      <td>40.24</td>\n",
       "    </tr>\n",
       "    <tr>\n",
       "      <th>2</th>\n",
       "      <td>mario kart wii</td>\n",
       "      <td>Wii</td>\n",
       "      <td>2008</td>\n",
       "      <td>racing</td>\n",
       "      <td>15.68</td>\n",
       "      <td>12.76</td>\n",
       "      <td>3.79</td>\n",
       "      <td>3.29</td>\n",
       "      <td>82.0</td>\n",
       "      <td>8.3</td>\n",
       "      <td>E</td>\n",
       "      <td>35.52</td>\n",
       "    </tr>\n",
       "    <tr>\n",
       "      <th>3</th>\n",
       "      <td>wii sports resort</td>\n",
       "      <td>Wii</td>\n",
       "      <td>2009</td>\n",
       "      <td>sports</td>\n",
       "      <td>15.61</td>\n",
       "      <td>10.93</td>\n",
       "      <td>3.28</td>\n",
       "      <td>2.95</td>\n",
       "      <td>80.0</td>\n",
       "      <td>8.0</td>\n",
       "      <td>E</td>\n",
       "      <td>32.77</td>\n",
       "    </tr>\n",
       "    <tr>\n",
       "      <th>4</th>\n",
       "      <td>pokemon red/pokemon blue</td>\n",
       "      <td>GB</td>\n",
       "      <td>1996</td>\n",
       "      <td>role-playing</td>\n",
       "      <td>11.27</td>\n",
       "      <td>8.89</td>\n",
       "      <td>10.22</td>\n",
       "      <td>1.00</td>\n",
       "      <td>NaN</td>\n",
       "      <td>NaN</td>\n",
       "      <td>undefined</td>\n",
       "      <td>31.38</td>\n",
       "    </tr>\n",
       "    <tr>\n",
       "      <th>...</th>\n",
       "      <td>...</td>\n",
       "      <td>...</td>\n",
       "      <td>...</td>\n",
       "      <td>...</td>\n",
       "      <td>...</td>\n",
       "      <td>...</td>\n",
       "      <td>...</td>\n",
       "      <td>...</td>\n",
       "      <td>...</td>\n",
       "      <td>...</td>\n",
       "      <td>...</td>\n",
       "      <td>...</td>\n",
       "    </tr>\n",
       "    <tr>\n",
       "      <th>16710</th>\n",
       "      <td>samurai warriors: sanada maru</td>\n",
       "      <td>PS3</td>\n",
       "      <td>2016</td>\n",
       "      <td>action</td>\n",
       "      <td>0.00</td>\n",
       "      <td>0.00</td>\n",
       "      <td>0.01</td>\n",
       "      <td>0.00</td>\n",
       "      <td>NaN</td>\n",
       "      <td>NaN</td>\n",
       "      <td>undefined</td>\n",
       "      <td>0.01</td>\n",
       "    </tr>\n",
       "    <tr>\n",
       "      <th>16711</th>\n",
       "      <td>lma manager 2007</td>\n",
       "      <td>X360</td>\n",
       "      <td>2006</td>\n",
       "      <td>sports</td>\n",
       "      <td>0.00</td>\n",
       "      <td>0.01</td>\n",
       "      <td>0.00</td>\n",
       "      <td>0.00</td>\n",
       "      <td>NaN</td>\n",
       "      <td>NaN</td>\n",
       "      <td>undefined</td>\n",
       "      <td>0.01</td>\n",
       "    </tr>\n",
       "    <tr>\n",
       "      <th>16712</th>\n",
       "      <td>haitaka no psychedelica</td>\n",
       "      <td>PSV</td>\n",
       "      <td>2016</td>\n",
       "      <td>adventure</td>\n",
       "      <td>0.00</td>\n",
       "      <td>0.00</td>\n",
       "      <td>0.01</td>\n",
       "      <td>0.00</td>\n",
       "      <td>NaN</td>\n",
       "      <td>NaN</td>\n",
       "      <td>undefined</td>\n",
       "      <td>0.01</td>\n",
       "    </tr>\n",
       "    <tr>\n",
       "      <th>16713</th>\n",
       "      <td>spirits &amp; spells</td>\n",
       "      <td>GBA</td>\n",
       "      <td>2003</td>\n",
       "      <td>platform</td>\n",
       "      <td>0.01</td>\n",
       "      <td>0.00</td>\n",
       "      <td>0.00</td>\n",
       "      <td>0.00</td>\n",
       "      <td>NaN</td>\n",
       "      <td>NaN</td>\n",
       "      <td>undefined</td>\n",
       "      <td>0.01</td>\n",
       "    </tr>\n",
       "    <tr>\n",
       "      <th>16714</th>\n",
       "      <td>winning post 8 2016</td>\n",
       "      <td>PSV</td>\n",
       "      <td>2016</td>\n",
       "      <td>simulation</td>\n",
       "      <td>0.00</td>\n",
       "      <td>0.00</td>\n",
       "      <td>0.01</td>\n",
       "      <td>0.00</td>\n",
       "      <td>NaN</td>\n",
       "      <td>NaN</td>\n",
       "      <td>undefined</td>\n",
       "      <td>0.01</td>\n",
       "    </tr>\n",
       "  </tbody>\n",
       "</table>\n",
       "<p>16443 rows × 12 columns</p>\n",
       "</div>"
      ],
      "text/plain": [
       "                                name platform  year_of_release         genre  \\\n",
       "0                         wii sports      Wii             2006        sports   \n",
       "1                  super mario bros.      NES             1985      platform   \n",
       "2                     mario kart wii      Wii             2008        racing   \n",
       "3                  wii sports resort      Wii             2009        sports   \n",
       "4           pokemon red/pokemon blue       GB             1996  role-playing   \n",
       "...                              ...      ...              ...           ...   \n",
       "16710  samurai warriors: sanada maru      PS3             2016        action   \n",
       "16711               lma manager 2007     X360             2006        sports   \n",
       "16712        haitaka no psychedelica      PSV             2016     adventure   \n",
       "16713               spirits & spells      GBA             2003      platform   \n",
       "16714            winning post 8 2016      PSV             2016    simulation   \n",
       "\n",
       "       na_sales  eu_sales  jp_sales  other_sales  critic_score  user_score  \\\n",
       "0         41.36     28.96      3.77         8.45          76.0         8.0   \n",
       "1         29.08      3.58      6.81         0.77           NaN         NaN   \n",
       "2         15.68     12.76      3.79         3.29          82.0         8.3   \n",
       "3         15.61     10.93      3.28         2.95          80.0         8.0   \n",
       "4         11.27      8.89     10.22         1.00           NaN         NaN   \n",
       "...         ...       ...       ...          ...           ...         ...   \n",
       "16710      0.00      0.00      0.01         0.00           NaN         NaN   \n",
       "16711      0.00      0.01      0.00         0.00           NaN         NaN   \n",
       "16712      0.00      0.00      0.01         0.00           NaN         NaN   \n",
       "16713      0.01      0.00      0.00         0.00           NaN         NaN   \n",
       "16714      0.00      0.00      0.01         0.00           NaN         NaN   \n",
       "\n",
       "          rating  total_sales  \n",
       "0              E        82.54  \n",
       "1      undefined        40.24  \n",
       "2              E        35.52  \n",
       "3              E        32.77  \n",
       "4      undefined        31.38  \n",
       "...          ...          ...  \n",
       "16710  undefined         0.01  \n",
       "16711  undefined         0.01  \n",
       "16712  undefined         0.01  \n",
       "16713  undefined         0.01  \n",
       "16714  undefined         0.01  \n",
       "\n",
       "[16443 rows x 12 columns]"
      ]
     },
     "execution_count": 62,
     "metadata": {},
     "output_type": "execute_result"
    }
   ],
   "source": [
    "data[(data['platform'] != 'DS') | ((data['platform'] == 'DS') & (data['year_of_release'] != 1985))]"
   ]
  },
  {
   "cell_type": "markdown",
   "id": "f1d7c346",
   "metadata": {},
   "source": [
    "Удалим строчку с платформой DS  в 1985 году. Суммарные продажи не такие большие, на анализ сильно не повлияет. "
   ]
  },
  {
   "cell_type": "code",
   "execution_count": 63,
   "id": "68fdb287",
   "metadata": {},
   "outputs": [],
   "source": [
    "data = data[(data['platform'] != 'DS') | ((data['platform'] == 'DS') & (data['year_of_release'] != 1985))]"
   ]
  },
  {
   "cell_type": "markdown",
   "id": "995de6ca",
   "metadata": {},
   "source": [
    "### Возьмите данные за соответствующий актуальный период. \n",
    "Актуальный период определите самостоятельно в результате исследования предыдущих вопросов. Основной фактор — эти данные помогут построить прогноз на 2017 год. Не учитывайте в работе данные за предыдущие годы.\n"
   ]
  },
  {
   "cell_type": "markdown",
   "id": "6821f607",
   "metadata": {},
   "source": [
    "В дальнейшем в работе будет рассматриваться период с 2014 года. "
   ]
  },
  {
   "cell_type": "code",
   "execution_count": 65,
   "id": "9037d536",
   "metadata": {},
   "outputs": [],
   "source": [
    "data = data[data['year_of_release'] >= 2014]"
   ]
  },
  {
   "cell_type": "markdown",
   "id": "1428cfd9",
   "metadata": {},
   "source": [
    "### Какие платформы лидируют по продажам, растут или падают? \n",
    "Выберите несколько потенциально прибыльных платформ."
   ]
  },
  {
   "cell_type": "markdown",
   "id": "d191da2e",
   "metadata": {},
   "source": [
    "Тремя самыми прибыльными платформами являются: PlayStation, Wii, и Xbox. Важно отметить, что у них не только самые высокие продажи, но также у PS И Xbox новые, улучшенные модели выходят довольно часто. "
   ]
  },
  {
   "cell_type": "markdown",
   "id": "88180934",
   "metadata": {},
   "source": [
    "### Постройте график «ящик с усами» по глобальным продажам игр в разбивке по платформам. \n",
    "Опишите результат."
   ]
  },
  {
   "cell_type": "code",
   "execution_count": 70,
   "id": "8bf74ac6",
   "metadata": {},
   "outputs": [
    {
     "data": {
      "image/png": "[encoded data removed]",
      "text/plain": [
       "<Figure size 432x288 with 1 Axes>"
      ]
     },
     "metadata": {
      "needs_background": "light"
     },
     "output_type": "display_data"
    }
   ],
   "source": [
    "sns.boxplot(x=data['platform'], y=data['total_sales'])\n",
    "plt.grid()"
   ]
  },
  {
   "cell_type": "markdown",
   "id": "23a1be85",
   "metadata": {},
   "source": [
    "Ограничим графики по оси ординат, чтобы было лучше видно сами боксплоты. "
   ]
  },
  {
   "cell_type": "code",
   "execution_count": 71,
   "id": "10f02e3d",
   "metadata": {},
   "outputs": [
    {
     "data": {
      "image/png": "[encoded data removed]",
      "text/plain": [
       "<Figure size 432x288 with 1 Axes>"
      ]
     },
     "metadata": {
      "needs_background": "light"
     },
     "output_type": "display_data"
    }
   ],
   "source": [
    "sns.boxplot(x=data['platform'], y=data['total_sales'])\n",
    "plt.ylim([0,1.6])\n",
    "plt.grid()"
   ]
  },
  {
   "cell_type": "markdown",
   "id": "06687f5a",
   "metadata": {},
   "source": [
    "Из графика выше видно, что у 5 платформ самое высокое медианное значение по суммарным продажам за последние три года: PS4 (199 000 проданных копий), XOne (210 000 проданных копий), WiiU (200 000 проданных копий), X360(199 000 п.к.) и Wii (200 000 п.к.). Тем не менее размах значений у 5 платформ разный. У PS4 и XOne самый большой размах значений, причем датасет скошен вправо, то есть в сторону б**о**льших значений. В то же время у данных платформ крайне больших выбросов (в особенности у PS4). Однако у Wii межквартильный размах больше межквартильного размаха PS4 и XOne, что говорит о том, что 50% продаж у Wii было приблизительно от 30 000 до 750 000 проданных копий, в то время как межквартильные размахи PS4 и XOne ограничены 700 000 и 640 000 проданных копий соответственно.  \n",
    "\n",
    "**Исходя из графика выше, можно сделать вывод о том, что наиболее прибыльной и выгодной платформой является PS4.** "
   ]
  },
  {
   "cell_type": "markdown",
   "id": "ae82eba6",
   "metadata": {},
   "source": [
    "### Посмотрите, как влияют на продажи внутри одной популярной платформы отзывы пользователей и критиков\n",
    "Постройте диаграмму рассеяния и посчитайте корреляцию между отзывами и продажами. Сформулируйте выводы. Соотнесите выводы с продажами игр на других платформах."
   ]
  },
  {
   "cell_type": "code",
   "execution_count": 72,
   "id": "9bb768eb",
   "metadata": {},
   "outputs": [
    {
     "data": {
      "text/plain": [
       "array(['PS4', '3DS', 'XOne', 'WiiU', 'PS3', 'X360', 'PC', 'Wii', 'PSV',\n",
       "       'PSP'], dtype=object)"
      ]
     },
     "execution_count": 72,
     "metadata": {},
     "output_type": "execute_result"
    }
   ],
   "source": [
    "data['platform'].unique()"
   ]
  },
  {
   "cell_type": "markdown",
   "id": "930ee287",
   "metadata": {},
   "source": [
    "Возьмем три самые популярные платформы и две не популярную для сравнения. "
   ]
  },
  {
   "cell_type": "code",
   "execution_count": 73,
   "id": "d5ad6a5a",
   "metadata": {},
   "outputs": [],
   "source": [
    "corr_platforms = ['PS4', 'Wii', 'XOne', 'PC', '3DS']"
   ]
  },
  {
   "cell_type": "code",
   "execution_count": 74,
   "id": "9ad5939e",
   "metadata": {},
   "outputs": [
    {
     "name": "stdout",
     "output_type": "stream",
     "text": [
      "PS4\n",
      "critic_score\n",
      "0.40266141068104083\n",
      "user_score\n",
      "-0.040131589472697356\n",
      " \n",
      "Wii\n",
      "critic_score\n",
      "nan\n",
      "user_score\n",
      "1.0\n",
      " \n",
      "XOne\n",
      "critic_score\n",
      "0.42867694370333226\n",
      "user_score\n",
      "-0.0703839280647581\n",
      " \n",
      "PC\n",
      "critic_score\n",
      "0.17463413769350036\n",
      "user_score\n",
      "-0.07159665703472452\n",
      " \n",
      "3DS\n",
      "critic_score\n",
      "0.31411749286905105\n",
      "user_score\n",
      "0.2151932718527028\n",
      " \n"
     ]
    }
   ],
   "source": [
    "for pl in corr_platforms:\n",
    "    print(pl)\n",
    "    print('critic_score')\n",
    "    print(data.query('platform == @pl')['total_sales'].corr(data.query('platform == @pl')['critic_score']))\n",
    "    print('user_score')\n",
    "    print(data.query('platform == @pl')['total_sales'].corr(data.query('platform == @pl')['user_score']))\n",
    "    print(' ')"
   ]
  },
  {
   "cell_type": "code",
   "execution_count": 75,
   "id": "280574a6",
   "metadata": {
    "scrolled": true
   },
   "outputs": [
    {
     "data": {
      "image/png": "[encoded data removed]",
      "text/plain": [
       "<Figure size 1080x360 with 2 Axes>"
      ]
     },
     "metadata": {
      "needs_background": "light"
     },
     "output_type": "display_data"
    },
    {
     "data": {
      "image/png": "[encoded data removed]",
      "text/plain": [
       "<Figure size 1080x360 with 2 Axes>"
      ]
     },
     "metadata": {
      "needs_background": "light"
     },
     "output_type": "display_data"
    },
    {
     "data": {
      "image/png": "[encoded data removed]",
      "text/plain": [
       "<Figure size 1080x360 with 2 Axes>"
      ]
     },
     "metadata": {
      "needs_background": "light"
     },
     "output_type": "display_data"
    },
    {
     "data": {
      "image/png": "[encoded data removed]",
      "text/plain": [
       "<Figure size 1080x360 with 2 Axes>"
      ]
     },
     "metadata": {
      "needs_background": "light"
     },
     "output_type": "display_data"
    },
    {
     "data": {
      "image/png": "[encoded data removed]",
      "text/plain": [
       "<Figure size 1080x360 with 2 Axes>"
      ]
     },
     "metadata": {
      "needs_background": "light"
     },
     "output_type": "display_data"
    }
   ],
   "source": [
    "for pl in corr_platforms:\n",
    "    fig, ax = plt.subplots(1,2, figsize = (15,5))\n",
    "    ax = ax.ravel()\n",
    "    data.query('platform == @pl').plot(kind='scatter', x='critic_score', y='total_sales', ax = ax[1])\n",
    "    data.query('platform == @pl').plot(kind='scatter', x='user_score', y='total_sales', ax = ax[0])\n",
    "    fig.suptitle(pl)"
   ]
  },
  {
   "cell_type": "markdown",
   "id": "dc8f6bb9",
   "metadata": {},
   "source": [
    "У суммарных продаж и оценок пользователей сравнительно небольшой коэффициент корреляции, не больше 0.01 у большинства платформ. Однако важно отметить, что коэффициент отрицательный. То есть, чем больше выше пользовательская оценка, тем больше суммарные продажи, и наоборот. Зависимость суммарных продаж от оценки критиков немного выше (до 0.4). Но если смотреть на графики, то можно увидеть, что у большинства платформ корреляция суммарных продаж с оценками критиков становится тем сильнее, чем выше оценка.То есть высокие оценки вполне могут повлиять на продажи, но утверждать наверняка в данном случае нельзя. \n",
    "Если сравнивать популярные и не популярные платформы, то коэффициент корреляции у них отличается, но не настолько сильно, чтобы можно было выявить какую-либо значимую закономерность. "
   ]
  },
  {
   "cell_type": "markdown",
   "id": "b0e3580f",
   "metadata": {},
   "source": [
    "### Посмотрите на общее распределение игр по жанрам. \n",
    "Что можно сказать о самых прибыльных жанрах? Выделяются ли жанры с высокими и низкими продажами?"
   ]
  },
  {
   "cell_type": "code",
   "execution_count": 76,
   "id": "4a127c8b",
   "metadata": {},
   "outputs": [
    {
     "data": {
      "text/plain": [
       "genre\n",
       "puzzle           14\n",
       "strategy         37\n",
       "platform         38\n",
       "simulation       44\n",
       "fighting         60\n",
       "racing           69\n",
       "misc            113\n",
       "shooter         128\n",
       "sports          161\n",
       "adventure       185\n",
       "role-playing    221\n",
       "action          619\n",
       "Name: name, dtype: int64"
      ]
     },
     "execution_count": 76,
     "metadata": {},
     "output_type": "execute_result"
    }
   ],
   "source": [
    "data.groupby('genre')['name'].count().sort_values()"
   ]
  },
  {
   "cell_type": "markdown",
   "id": "166443c7",
   "metadata": {},
   "source": [
    "Самый популярный жанр: action, спортивные, игры вне категории (misc), ролевые, приключенческие и шутеры. "
   ]
  },
  {
   "cell_type": "code",
   "execution_count": 77,
   "id": "43a73df8",
   "metadata": {},
   "outputs": [
    {
     "data": {
      "text/html": [
       "<div>\n",
       "<style scoped>\n",
       "    .dataframe tbody tr th:only-of-type {\n",
       "        vertical-align: middle;\n",
       "    }\n",
       "\n",
       "    .dataframe tbody tr th {\n",
       "        vertical-align: top;\n",
       "    }\n",
       "\n",
       "    .dataframe thead tr th {\n",
       "        text-align: left;\n",
       "    }\n",
       "\n",
       "    .dataframe thead tr:last-of-type th {\n",
       "        text-align: right;\n",
       "    }\n",
       "</style>\n",
       "<table border=\"1\" class=\"dataframe\">\n",
       "  <thead>\n",
       "    <tr>\n",
       "      <th></th>\n",
       "      <th colspan=\"2\" halign=\"left\">total_sales</th>\n",
       "    </tr>\n",
       "    <tr>\n",
       "      <th></th>\n",
       "      <th>sum</th>\n",
       "      <th>count</th>\n",
       "    </tr>\n",
       "    <tr>\n",
       "      <th>genre</th>\n",
       "      <th></th>\n",
       "      <th></th>\n",
       "    </tr>\n",
       "  </thead>\n",
       "  <tbody>\n",
       "    <tr>\n",
       "      <th>action</th>\n",
       "      <td>199.36</td>\n",
       "      <td>619</td>\n",
       "    </tr>\n",
       "    <tr>\n",
       "      <th>adventure</th>\n",
       "      <td>17.55</td>\n",
       "      <td>185</td>\n",
       "    </tr>\n",
       "    <tr>\n",
       "      <th>fighting</th>\n",
       "      <td>28.22</td>\n",
       "      <td>60</td>\n",
       "    </tr>\n",
       "    <tr>\n",
       "      <th>misc</th>\n",
       "      <td>37.55</td>\n",
       "      <td>113</td>\n",
       "    </tr>\n",
       "    <tr>\n",
       "      <th>platform</th>\n",
       "      <td>18.09</td>\n",
       "      <td>38</td>\n",
       "    </tr>\n",
       "    <tr>\n",
       "      <th>puzzle</th>\n",
       "      <td>2.21</td>\n",
       "      <td>14</td>\n",
       "    </tr>\n",
       "    <tr>\n",
       "      <th>racing</th>\n",
       "      <td>27.52</td>\n",
       "      <td>69</td>\n",
       "    </tr>\n",
       "    <tr>\n",
       "      <th>role-playing</th>\n",
       "      <td>101.44</td>\n",
       "      <td>221</td>\n",
       "    </tr>\n",
       "    <tr>\n",
       "      <th>shooter</th>\n",
       "      <td>170.94</td>\n",
       "      <td>128</td>\n",
       "    </tr>\n",
       "    <tr>\n",
       "      <th>simulation</th>\n",
       "      <td>13.13</td>\n",
       "      <td>44</td>\n",
       "    </tr>\n",
       "    <tr>\n",
       "      <th>sports</th>\n",
       "      <td>109.48</td>\n",
       "      <td>161</td>\n",
       "    </tr>\n",
       "    <tr>\n",
       "      <th>strategy</th>\n",
       "      <td>3.96</td>\n",
       "      <td>37</td>\n",
       "    </tr>\n",
       "  </tbody>\n",
       "</table>\n",
       "</div>"
      ],
      "text/plain": [
       "             total_sales      \n",
       "                     sum count\n",
       "genre                         \n",
       "action            199.36   619\n",
       "adventure          17.55   185\n",
       "fighting           28.22    60\n",
       "misc               37.55   113\n",
       "platform           18.09    38\n",
       "puzzle              2.21    14\n",
       "racing             27.52    69\n",
       "role-playing      101.44   221\n",
       "shooter           170.94   128\n",
       "simulation         13.13    44\n",
       "sports            109.48   161\n",
       "strategy            3.96    37"
      ]
     },
     "execution_count": 77,
     "metadata": {},
     "output_type": "execute_result"
    }
   ],
   "source": [
    "data_by_genre = data.groupby('genre').agg({'total_sales':['sum', 'count']})\n",
    "data_by_genre"
   ]
  },
  {
   "cell_type": "code",
   "execution_count": 78,
   "id": "dbd8ac00",
   "metadata": {},
   "outputs": [
    {
     "data": {
      "text/html": [
       "<div>\n",
       "<style scoped>\n",
       "    .dataframe tbody tr th:only-of-type {\n",
       "        vertical-align: middle;\n",
       "    }\n",
       "\n",
       "    .dataframe tbody tr th {\n",
       "        vertical-align: top;\n",
       "    }\n",
       "\n",
       "    .dataframe thead tr th {\n",
       "        text-align: left;\n",
       "    }\n",
       "\n",
       "    .dataframe thead tr:last-of-type th {\n",
       "        text-align: right;\n",
       "    }\n",
       "</style>\n",
       "<table border=\"1\" class=\"dataframe\">\n",
       "  <thead>\n",
       "    <tr>\n",
       "      <th></th>\n",
       "      <th colspan=\"2\" halign=\"left\">total_sales</th>\n",
       "      <th>share</th>\n",
       "    </tr>\n",
       "    <tr>\n",
       "      <th></th>\n",
       "      <th>sum</th>\n",
       "      <th>count</th>\n",
       "      <th></th>\n",
       "    </tr>\n",
       "    <tr>\n",
       "      <th>genre</th>\n",
       "      <th></th>\n",
       "      <th></th>\n",
       "      <th></th>\n",
       "    </tr>\n",
       "  </thead>\n",
       "  <tbody>\n",
       "    <tr>\n",
       "      <th>adventure</th>\n",
       "      <td>17.55</td>\n",
       "      <td>185</td>\n",
       "      <td>9.486486</td>\n",
       "    </tr>\n",
       "    <tr>\n",
       "      <th>strategy</th>\n",
       "      <td>3.96</td>\n",
       "      <td>37</td>\n",
       "      <td>10.702703</td>\n",
       "    </tr>\n",
       "    <tr>\n",
       "      <th>puzzle</th>\n",
       "      <td>2.21</td>\n",
       "      <td>14</td>\n",
       "      <td>15.785714</td>\n",
       "    </tr>\n",
       "    <tr>\n",
       "      <th>simulation</th>\n",
       "      <td>13.13</td>\n",
       "      <td>44</td>\n",
       "      <td>29.840909</td>\n",
       "    </tr>\n",
       "    <tr>\n",
       "      <th>action</th>\n",
       "      <td>199.36</td>\n",
       "      <td>619</td>\n",
       "      <td>32.206785</td>\n",
       "    </tr>\n",
       "    <tr>\n",
       "      <th>misc</th>\n",
       "      <td>37.55</td>\n",
       "      <td>113</td>\n",
       "      <td>33.230088</td>\n",
       "    </tr>\n",
       "    <tr>\n",
       "      <th>racing</th>\n",
       "      <td>27.52</td>\n",
       "      <td>69</td>\n",
       "      <td>39.884058</td>\n",
       "    </tr>\n",
       "    <tr>\n",
       "      <th>role-playing</th>\n",
       "      <td>101.44</td>\n",
       "      <td>221</td>\n",
       "      <td>45.900452</td>\n",
       "    </tr>\n",
       "    <tr>\n",
       "      <th>fighting</th>\n",
       "      <td>28.22</td>\n",
       "      <td>60</td>\n",
       "      <td>47.033333</td>\n",
       "    </tr>\n",
       "    <tr>\n",
       "      <th>platform</th>\n",
       "      <td>18.09</td>\n",
       "      <td>38</td>\n",
       "      <td>47.605263</td>\n",
       "    </tr>\n",
       "    <tr>\n",
       "      <th>sports</th>\n",
       "      <td>109.48</td>\n",
       "      <td>161</td>\n",
       "      <td>68.000000</td>\n",
       "    </tr>\n",
       "    <tr>\n",
       "      <th>shooter</th>\n",
       "      <td>170.94</td>\n",
       "      <td>128</td>\n",
       "      <td>133.546875</td>\n",
       "    </tr>\n",
       "  </tbody>\n",
       "</table>\n",
       "</div>"
      ],
      "text/plain": [
       "             total_sales             share\n",
       "                     sum count            \n",
       "genre                                     \n",
       "adventure          17.55   185    9.486486\n",
       "strategy            3.96    37   10.702703\n",
       "puzzle              2.21    14   15.785714\n",
       "simulation         13.13    44   29.840909\n",
       "action            199.36   619   32.206785\n",
       "misc               37.55   113   33.230088\n",
       "racing             27.52    69   39.884058\n",
       "role-playing      101.44   221   45.900452\n",
       "fighting           28.22    60   47.033333\n",
       "platform           18.09    38   47.605263\n",
       "sports            109.48   161   68.000000\n",
       "shooter           170.94   128  133.546875"
      ]
     },
     "execution_count": 78,
     "metadata": {},
     "output_type": "execute_result"
    }
   ],
   "source": [
    "data_by_genre['share'] = (data_by_genre['total_sales']['sum'] / data_by_genre['total_sales']['count'])*100\n",
    "data_by_genre.sort_values(by='share')"
   ]
  },
  {
   "cell_type": "markdown",
   "id": "bd9349ff",
   "metadata": {},
   "source": [
    "Наиболее прибыльными жанрами являются шутер, платформер, ролевой и спортивный. Наименее прибыльные: приключенческий, стратегия и головоломка. "
   ]
  },
  {
   "cell_type": "code",
   "execution_count": 79,
   "id": "3d9fe4fb",
   "metadata": {},
   "outputs": [
    {
     "data": {
      "image/png": "[encoded data removed]",
      "text/plain": [
       "<Figure size 432x288 with 1 Axes>"
      ]
     },
     "metadata": {
      "needs_background": "light"
     },
     "output_type": "display_data"
    }
   ],
   "source": [
    "sns.boxplot(x=data['genre'], y=data['total_sales'])\n",
    "plt.xticks(rotation=90)\n",
    "plt.grid()"
   ]
  },
  {
   "cell_type": "code",
   "execution_count": 80,
   "id": "924ce2b2",
   "metadata": {},
   "outputs": [
    {
     "data": {
      "image/png": "[encoded data removed]",
      "text/plain": [
       "<Figure size 432x288 with 1 Axes>"
      ]
     },
     "metadata": {
      "needs_background": "light"
     },
     "output_type": "display_data"
    }
   ],
   "source": [
    "sns.boxplot(x=data['genre'], y=data['total_sales'])\n",
    "plt.xticks(rotation=90)\n",
    "plt.ylim([0,3.7])\n",
    "plt.grid()"
   ]
  },
  {
   "cell_type": "markdown",
   "id": "d27f319d",
   "metadata": {},
   "source": [
    "Самое высокое медианное значение суммарных продаж у такого жанра, как шутер. Кроме того, именно у этого жанра самый большой размах (и межквартильный размах). Значение третьего квартиля достигает приблизительно 1.7 млн. проданных копий. Более того, у шутера также немалое количество выбросов больших значений и датасет скошен впарво. \n",
    "Намного меньше по размеру межквартильного размаха суммарные продажи спортивного жанра, третий квартиль которого достигает лишь 650 000 проданных копий. Однако у спортивного жанра большой ус больших значений, датасет скошен вправо и есть большое количество выбросов больших значений, что говорит о том, что довольно часто продажи спортивных игр выше медианного значения. \n",
    "Третьим самым прибыльным жанром является платформер с медианным значением в 150-200 тыс. проданных копий. Однако у данного жанра также довольно большой правый ус, датасет скошен вправо и есть некоторые выбросы больших значений. \n",
    "Интересно также рассмотреть такой жанр, как экшн, у которого довольно маленьких межквартильный размах, в сравнении с топ-3 жанрами, однако у этого жанра огромное количество выбросов больших значений. "
   ]
  },
  {
   "cell_type": "markdown",
   "id": "9035a5f1",
   "metadata": {},
   "source": [
    "## Шаг 4. Составьте портрет пользователя каждого региона\n",
    "\n",
    "### Определите для пользователя каждого региона (NA, EU, JP):\n",
    "\n"
   ]
  },
  {
   "cell_type": "markdown",
   "id": "05590079",
   "metadata": {},
   "source": [
    "#### - Самые популярные платформы (топ-5). Опишите различия в долях продаж.\n"
   ]
  },
  {
   "cell_type": "code",
   "execution_count": 81,
   "id": "c6418069",
   "metadata": {},
   "outputs": [
    {
     "name": "stderr",
     "output_type": "stream",
     "text": [
      "/tmp/ipykernel_608/1830277117.py:3: SettingWithCopyWarning: \n",
      "A value is trying to be set on a copy of a slice from a DataFrame\n",
      "\n",
      "See the caveats in the documentation: https://pandas.pydata.org/pandas-docs/stable/user_guide/indexing.html#returning-a-view-versus-a-copy\n",
      "  plat_na_top.loc['Other', 'na_sales'] = plat_na.iloc[5:].sum()[0]\n"
     ]
    }
   ],
   "source": [
    "plat_na = data.groupby('platform').agg({'na_sales':'sum'}).sort_values(by='na_sales', ascending=False)\n",
    "plat_na_top = plat_na.head()\n",
    "plat_na_top.loc['Other', 'na_sales'] = plat_na.iloc[5:].sum()[0]"
   ]
  },
  {
   "cell_type": "code",
   "execution_count": 82,
   "id": "d113c3c7",
   "metadata": {},
   "outputs": [
    {
     "name": "stderr",
     "output_type": "stream",
     "text": [
      "/tmp/ipykernel_608/1505109696.py:3: SettingWithCopyWarning: \n",
      "A value is trying to be set on a copy of a slice from a DataFrame\n",
      "\n",
      "See the caveats in the documentation: https://pandas.pydata.org/pandas-docs/stable/user_guide/indexing.html#returning-a-view-versus-a-copy\n",
      "  plat_eu_top.loc['Other', 'eu_sales'] = plat_eu.iloc[5:].sum()[0]\n"
     ]
    }
   ],
   "source": [
    "plat_eu = data.groupby('platform').agg({'eu_sales':'sum'}).sort_values(by='eu_sales', ascending=False)\n",
    "plat_eu_top = plat_eu.head()\n",
    "plat_eu_top.loc['Other', 'eu_sales'] = plat_eu.iloc[5:].sum()[0]"
   ]
  },
  {
   "cell_type": "code",
   "execution_count": 83,
   "id": "48830225",
   "metadata": {},
   "outputs": [
    {
     "name": "stderr",
     "output_type": "stream",
     "text": [
      "/tmp/ipykernel_608/1240090075.py:3: SettingWithCopyWarning: \n",
      "A value is trying to be set on a copy of a slice from a DataFrame\n",
      "\n",
      "See the caveats in the documentation: https://pandas.pydata.org/pandas-docs/stable/user_guide/indexing.html#returning-a-view-versus-a-copy\n",
      "  plat_jp_top.loc['Other', 'jp_sales'] = plat_jp.iloc[5:].sum()[0]\n"
     ]
    }
   ],
   "source": [
    "plat_jp = data.groupby('platform').agg({'jp_sales':'sum'}).sort_values(by='jp_sales', ascending=False)\n",
    "plat_jp_top = plat_jp.head()\n",
    "plat_jp_top.loc['Other', 'jp_sales'] = plat_jp.iloc[5:].sum()[0]"
   ]
  },
  {
   "cell_type": "code",
   "execution_count": 84,
   "id": "0c7e0125",
   "metadata": {
    "scrolled": true
   },
   "outputs": [
    {
     "data": {
      "text/plain": [
       "Text(0.5, 0.98, 'Доли продаж по платформам в регионах')"
      ]
     },
     "execution_count": 84,
     "metadata": {},
     "output_type": "execute_result"
    },
    {
     "data": {
      "image/png": "[encoded data removed]",
      "text/plain": [
       "<Figure size 1080x360 with 3 Axes>"
      ]
     },
     "metadata": {},
     "output_type": "display_data"
    }
   ],
   "source": [
    "fig, ax = plt.subplots(1,3, figsize = (15,5))\n",
    "ax = ax.ravel()\n",
    "plat_na_top.plot(kind='pie', y='na_sales', legend=False, autopct='%.0f%%', ax = ax[0])\n",
    "plat_eu_top.plot(kind='pie', y='eu_sales', legend=False, autopct='%.0f%%', ax = ax[1])\n",
    "plat_jp_top.plot(kind='pie', y='jp_sales', legend=False, autopct='%.0f%%', ax = ax[2])\n",
    "fig.suptitle('Доли продаж по платформам в регионах')"
   ]
  },
  {
   "cell_type": "markdown",
   "id": "05bd6602",
   "metadata": {},
   "source": [
    "Наибольшая доля продаж в Северной Америке приходится на такие платформы, как: PS4, XOne, X360, 3DS и PS3 составляя 35%, 29%, 10%, 8% и 8% соответственно. Наиболее популярной платформой является PS4. В Европе также самой популярной платформой является PS4 (48%), после нее XOne (17%), PS3 (9%), PC (7%), затем 3DS (6%). Лидеры платформ в Европе не сильно отличаются от лидеров в Северной Америке, но в Северной Америке X360 популярнее PS3. В Японии лидером является 3DS, доля продаж с которой составляет 48%. После нее идут PS4(16%), PSV (16%), PS3 (12%) и WiiU (8%). В Японии бесспорным лидером является 3DS, в отличие от СА и Европы, где лидером является PS4. "
   ]
  },
  {
   "cell_type": "markdown",
   "id": "37fa20e2",
   "metadata": {},
   "source": [
    "Рассмотрим также популярные платформы в других регионах. "
   ]
  },
  {
   "cell_type": "code",
   "execution_count": 85,
   "id": "bf7f09e8",
   "metadata": {},
   "outputs": [
    {
     "name": "stderr",
     "output_type": "stream",
     "text": [
      "/tmp/ipykernel_608/942079031.py:3: SettingWithCopyWarning: \n",
      "A value is trying to be set on a copy of a slice from a DataFrame\n",
      "\n",
      "See the caveats in the documentation: https://pandas.pydata.org/pandas-docs/stable/user_guide/indexing.html#returning-a-view-versus-a-copy\n",
      "  plat_ot_top.loc['Other', 'other_sales'] = plat_ot.iloc[5:].sum()[0]\n"
     ]
    },
    {
     "data": {
      "image/png": "[encoded data removed]",
      "text/plain": [
       "<Figure size 360x360 with 1 Axes>"
      ]
     },
     "metadata": {},
     "output_type": "display_data"
    }
   ],
   "source": [
    "plat_ot = data.groupby('platform').agg({'other_sales':'sum'}).sort_values(by='other_sales', ascending=False)\n",
    "plat_ot_top = plat_ot.head()\n",
    "plat_ot_top.loc['Other', 'other_sales'] = plat_ot.iloc[5:].sum()[0]\n",
    "plat_ot_top.plot(kind='pie', y='other_sales', legend=False, figsize=(5,5), autopct='%.0f%%')\n",
    "plt.title('Топ-5 платформ в других регионах')\n",
    "plt.ylabel('Доля продаж')\n",
    "plt.show()"
   ]
  },
  {
   "cell_type": "markdown",
   "id": "4c02b379",
   "metadata": {},
   "source": [
    "В других регионах PS4 также является одной из наиболее популярных платформ (54%). В топ-5 платформ также входит XOne, PS3, X360 и 3DS. "
   ]
  },
  {
   "cell_type": "markdown",
   "id": "9fddefc2",
   "metadata": {},
   "source": [
    "#### - Самые популярные жанры (топ-5). Поясните разницу."
   ]
  },
  {
   "cell_type": "code",
   "execution_count": 86,
   "id": "bb2b3527",
   "metadata": {},
   "outputs": [
    {
     "name": "stderr",
     "output_type": "stream",
     "text": [
      "/tmp/ipykernel_608/1369137559.py:3: SettingWithCopyWarning: \n",
      "A value is trying to be set on a copy of a slice from a DataFrame\n",
      "\n",
      "See the caveats in the documentation: https://pandas.pydata.org/pandas-docs/stable/user_guide/indexing.html#returning-a-view-versus-a-copy\n",
      "  genre_na_top.loc['Other', 'na_sales'] = genre_na.iloc[5:].sum()[0]\n"
     ]
    }
   ],
   "source": [
    "genre_na = data.groupby('genre').agg({'na_sales':'sum'}).sort_values(by='na_sales', ascending=False)\n",
    "genre_na_top = genre_na.head()\n",
    "genre_na_top.loc['Other', 'na_sales'] = genre_na.iloc[5:].sum()[0]"
   ]
  },
  {
   "cell_type": "code",
   "execution_count": 87,
   "id": "5cb7c7d8",
   "metadata": {},
   "outputs": [
    {
     "name": "stderr",
     "output_type": "stream",
     "text": [
      "/tmp/ipykernel_608/591665369.py:3: SettingWithCopyWarning: \n",
      "A value is trying to be set on a copy of a slice from a DataFrame\n",
      "\n",
      "See the caveats in the documentation: https://pandas.pydata.org/pandas-docs/stable/user_guide/indexing.html#returning-a-view-versus-a-copy\n",
      "  genre_eu_top.loc['Other', 'eu_sales'] = genre_eu.iloc[5:].sum()[0]\n"
     ]
    }
   ],
   "source": [
    "genre_eu = data.groupby('genre').agg({'eu_sales':'sum'}).sort_values(by='eu_sales', ascending=False)\n",
    "genre_eu_top = genre_eu.head()\n",
    "genre_eu_top.loc['Other', 'eu_sales'] = genre_eu.iloc[5:].sum()[0]"
   ]
  },
  {
   "cell_type": "code",
   "execution_count": 88,
   "id": "9f8c3590",
   "metadata": {},
   "outputs": [
    {
     "name": "stderr",
     "output_type": "stream",
     "text": [
      "/tmp/ipykernel_608/2612775722.py:3: SettingWithCopyWarning: \n",
      "A value is trying to be set on a copy of a slice from a DataFrame\n",
      "\n",
      "See the caveats in the documentation: https://pandas.pydata.org/pandas-docs/stable/user_guide/indexing.html#returning-a-view-versus-a-copy\n",
      "  genre_jp_top.loc['Other', 'jp_sales'] = genre_jp.iloc[5:].sum()[0]\n"
     ]
    }
   ],
   "source": [
    "genre_jp = data.groupby('genre').agg({'jp_sales':'sum'}).sort_values(by='jp_sales', ascending=False)\n",
    "genre_jp_top = genre_jp.head()\n",
    "genre_jp_top.loc['Other', 'jp_sales'] = genre_jp.iloc[5:].sum()[0]"
   ]
  },
  {
   "cell_type": "code",
   "execution_count": 89,
   "id": "350e1bb0",
   "metadata": {},
   "outputs": [
    {
     "data": {
      "text/plain": [
       "Text(0.5, 0.98, 'Доли продаж игр по жанрам в регионах')"
      ]
     },
     "execution_count": 89,
     "metadata": {},
     "output_type": "execute_result"
    },
    {
     "data": {
      "image/png": "[encoded data removed]",
      "text/plain": [
       "<Figure size 1080x360 with 3 Axes>"
      ]
     },
     "metadata": {},
     "output_type": "display_data"
    }
   ],
   "source": [
    "fig, ax = plt.subplots(1,3, figsize = (15,5))\n",
    "ax = ax.ravel()\n",
    "genre_na_top.plot(kind='pie', y='na_sales', legend=False, autopct='%.0f%%', ax = ax[0])\n",
    "genre_eu_top.plot(kind='pie', y='eu_sales', legend=False, autopct='%.0f%%', ax = ax[1])\n",
    "genre_jp_top.plot(kind='pie', y='jp_sales', legend=False, autopct='%.0f%%', ax = ax[2])\n",
    "ax[0].set_xlabel('Доля продаж в Северной Америке', rotation=0, labelpad=25)\n",
    "ax[1].set_xlabel('Доля продаж в Европе', rotation=0, labelpad=25)\n",
    "ax[2].set_xlabel('Доля продаж в Японии', rotation=0, labelpad=25)\n",
    "fig.suptitle('Доли продаж игр по жанрам в регионах')"
   ]
  },
  {
   "cell_type": "markdown",
   "id": "ac6df3b5",
   "metadata": {},
   "source": [
    "В Северной Америке наиболее популярными жанрами являются шутер (28%), экшн (26%), спортивный жанр (16%), ролевой жанр (12%) и игры вне категории (5%). В Европе пятью наиболее популярными жанрами являются экшн, шутер, спортивный жанр, ролевой жанр и гоночный жанр; составляя 28%, 24%, 17%, 10% и 5% соответственно. Лидеры по жанрам в Европе практическисовпадают с лидерами в СА, однако в СА шутеры популярнее экшн, тогда как в Европе все наоборот. В Японии самым популярным жанром является ролевой жанр, который составляя 33%, практически вровень с ним идет жанр экшн - 32%. После него идут файтинг, игры вне категориии шутер, составляя 7%, 6% и 5% соответственно."
   ]
  },
  {
   "cell_type": "code",
   "execution_count": 92,
   "id": "058c6d74",
   "metadata": {},
   "outputs": [
    {
     "name": "stderr",
     "output_type": "stream",
     "text": [
      "/tmp/ipykernel_608/3779387645.py:5: SettingWithCopyWarning: \n",
      "A value is trying to be set on a copy of a slice from a DataFrame\n",
      "\n",
      "See the caveats in the documentation: https://pandas.pydata.org/pandas-docs/stable/user_guide/indexing.html#returning-a-view-versus-a-copy\n",
      "  genre_ot_top.loc['Other', 'other_sales'] = genre_ot.iloc[5:].sum()[0]\n"
     ]
    },
    {
     "data": {
      "image/png": "[encoded data removed]",
      "text/plain": [
       "<Figure size 360x360 with 1 Axes>"
      ]
     },
     "metadata": {},
     "output_type": "display_data"
    }
   ],
   "source": [
    "fig,ax=plt.subplots()\n",
    "\n",
    "genre_ot = data.groupby('genre').agg({'other_sales':'sum'}).sort_values(by='other_sales', ascending=False)\n",
    "genre_ot_top = genre_ot.head()\n",
    "genre_ot_top.loc['Other', 'other_sales'] = genre_ot.iloc[5:].sum()[0]\n",
    "genre_ot_top.plot(kind='pie', y='other_sales', legend=False, figsize=(5,5), autopct='%.0f%%', ax=ax)\n",
    "plt.title('Топ-5 жанров в других регионах')\n",
    "\n",
    "ax.set_ylabel('Доля продаж', rotation=0, labelpad=100);"
   ]
  },
  {
   "cell_type": "markdown",
   "id": "e2d860dd",
   "metadata": {},
   "source": [
    "В других регионах такая же тенденция, что и на Западе, наиболее популярные игры: шутер, экшн, спортивный жанр, ролевой жанр и игры вне категории."
   ]
  },
  {
   "cell_type": "markdown",
   "id": "509c7e3a",
   "metadata": {},
   "source": [
    "#### - Влияет ли рейтинг ESRB на продажи в отдельном регионе?"
   ]
  },
  {
   "cell_type": "code",
   "execution_count": 93,
   "id": "5697b4ef",
   "metadata": {},
   "outputs": [
    {
     "data": {
      "text/html": [
       "<div>\n",
       "<style scoped>\n",
       "    .dataframe tbody tr th:only-of-type {\n",
       "        vertical-align: middle;\n",
       "    }\n",
       "\n",
       "    .dataframe tbody tr th {\n",
       "        vertical-align: top;\n",
       "    }\n",
       "\n",
       "    .dataframe thead th {\n",
       "        text-align: right;\n",
       "    }\n",
       "</style>\n",
       "<table border=\"1\" class=\"dataframe\">\n",
       "  <thead>\n",
       "    <tr style=\"text-align: right;\">\n",
       "      <th></th>\n",
       "      <th>na_sales</th>\n",
       "    </tr>\n",
       "    <tr>\n",
       "      <th>rating</th>\n",
       "      <th></th>\n",
       "    </tr>\n",
       "  </thead>\n",
       "  <tbody>\n",
       "  </tbody>\n",
       "</table>\n",
       "</div>"
      ],
      "text/plain": [
       "Empty DataFrame\n",
       "Columns: [na_sales]\n",
       "Index: []"
      ]
     },
     "execution_count": 93,
     "metadata": {},
     "output_type": "execute_result"
    }
   ],
   "source": [
    "# check\n",
    "rating_na = data.groupby('rating').agg({'na_sales':'sum'})\n",
    "rating_na.iloc[5:]"
   ]
  },
  {
   "cell_type": "code",
   "execution_count": 94,
   "id": "1827f926",
   "metadata": {},
   "outputs": [
    {
     "data": {
      "text/html": [
       "<div>\n",
       "<style scoped>\n",
       "    .dataframe tbody tr th:only-of-type {\n",
       "        vertical-align: middle;\n",
       "    }\n",
       "\n",
       "    .dataframe tbody tr th {\n",
       "        vertical-align: top;\n",
       "    }\n",
       "\n",
       "    .dataframe thead th {\n",
       "        text-align: right;\n",
       "    }\n",
       "</style>\n",
       "<table border=\"1\" class=\"dataframe\">\n",
       "  <thead>\n",
       "    <tr style=\"text-align: right;\">\n",
       "      <th></th>\n",
       "      <th>other_sales</th>\n",
       "    </tr>\n",
       "    <tr>\n",
       "      <th>genre</th>\n",
       "      <th></th>\n",
       "    </tr>\n",
       "  </thead>\n",
       "  <tbody>\n",
       "    <tr>\n",
       "      <th>racing</th>\n",
       "      <td>2.89</td>\n",
       "    </tr>\n",
       "    <tr>\n",
       "      <th>fighting</th>\n",
       "      <td>2.73</td>\n",
       "    </tr>\n",
       "    <tr>\n",
       "      <th>adventure</th>\n",
       "      <td>1.82</td>\n",
       "    </tr>\n",
       "    <tr>\n",
       "      <th>platform</th>\n",
       "      <td>1.81</td>\n",
       "    </tr>\n",
       "    <tr>\n",
       "      <th>simulation</th>\n",
       "      <td>0.89</td>\n",
       "    </tr>\n",
       "    <tr>\n",
       "      <th>strategy</th>\n",
       "      <td>0.24</td>\n",
       "    </tr>\n",
       "    <tr>\n",
       "      <th>puzzle</th>\n",
       "      <td>0.11</td>\n",
       "    </tr>\n",
       "  </tbody>\n",
       "</table>\n",
       "</div>"
      ],
      "text/plain": [
       "            other_sales\n",
       "genre                  \n",
       "racing             2.89\n",
       "fighting           2.73\n",
       "adventure          1.82\n",
       "platform           1.81\n",
       "simulation         0.89\n",
       "strategy           0.24\n",
       "puzzle             0.11"
      ]
     },
     "execution_count": 94,
     "metadata": {},
     "output_type": "execute_result"
    }
   ],
   "source": [
    "# check\n",
    "genre_ot.iloc[5:]"
   ]
  },
  {
   "cell_type": "code",
   "execution_count": 95,
   "id": "8ec33248",
   "metadata": {},
   "outputs": [
    {
     "data": {
      "text/html": [
       "<div>\n",
       "<style scoped>\n",
       "    .dataframe tbody tr th:only-of-type {\n",
       "        vertical-align: middle;\n",
       "    }\n",
       "\n",
       "    .dataframe tbody tr th {\n",
       "        vertical-align: top;\n",
       "    }\n",
       "\n",
       "    .dataframe thead th {\n",
       "        text-align: right;\n",
       "    }\n",
       "</style>\n",
       "<table border=\"1\" class=\"dataframe\">\n",
       "  <thead>\n",
       "    <tr style=\"text-align: right;\">\n",
       "      <th></th>\n",
       "      <th>other_sales</th>\n",
       "    </tr>\n",
       "    <tr>\n",
       "      <th>genre</th>\n",
       "      <th></th>\n",
       "    </tr>\n",
       "  </thead>\n",
       "  <tbody>\n",
       "    <tr>\n",
       "      <th>action</th>\n",
       "      <td>22.57</td>\n",
       "    </tr>\n",
       "    <tr>\n",
       "      <th>shooter</th>\n",
       "      <td>21.53</td>\n",
       "    </tr>\n",
       "    <tr>\n",
       "      <th>sports</th>\n",
       "      <td>14.36</td>\n",
       "    </tr>\n",
       "    <tr>\n",
       "      <th>role-playing</th>\n",
       "      <td>8.64</td>\n",
       "    </tr>\n",
       "    <tr>\n",
       "      <th>misc</th>\n",
       "      <td>4.03</td>\n",
       "    </tr>\n",
       "    <tr>\n",
       "      <th>racing</th>\n",
       "      <td>2.89</td>\n",
       "    </tr>\n",
       "    <tr>\n",
       "      <th>fighting</th>\n",
       "      <td>2.73</td>\n",
       "    </tr>\n",
       "    <tr>\n",
       "      <th>adventure</th>\n",
       "      <td>1.82</td>\n",
       "    </tr>\n",
       "    <tr>\n",
       "      <th>platform</th>\n",
       "      <td>1.81</td>\n",
       "    </tr>\n",
       "    <tr>\n",
       "      <th>simulation</th>\n",
       "      <td>0.89</td>\n",
       "    </tr>\n",
       "    <tr>\n",
       "      <th>strategy</th>\n",
       "      <td>0.24</td>\n",
       "    </tr>\n",
       "    <tr>\n",
       "      <th>puzzle</th>\n",
       "      <td>0.11</td>\n",
       "    </tr>\n",
       "  </tbody>\n",
       "</table>\n",
       "</div>"
      ],
      "text/plain": [
       "              other_sales\n",
       "genre                    \n",
       "action              22.57\n",
       "shooter             21.53\n",
       "sports              14.36\n",
       "role-playing         8.64\n",
       "misc                 4.03\n",
       "racing               2.89\n",
       "fighting             2.73\n",
       "adventure            1.82\n",
       "platform             1.81\n",
       "simulation           0.89\n",
       "strategy             0.24\n",
       "puzzle               0.11"
      ]
     },
     "execution_count": 95,
     "metadata": {},
     "output_type": "execute_result"
    }
   ],
   "source": [
    "# check\n",
    "genre_ot"
   ]
  },
  {
   "cell_type": "code",
   "execution_count": 96,
   "id": "8683b73a",
   "metadata": {},
   "outputs": [],
   "source": [
    "rating_na = data.groupby('rating').agg({'na_sales':'sum'}).sort_values(by='na_sales', ascending=False)\n",
    "rating_na_top = rating_na.head()"
   ]
  },
  {
   "cell_type": "code",
   "execution_count": 97,
   "id": "dbb20dfa",
   "metadata": {},
   "outputs": [],
   "source": [
    "rating_eu = data.groupby('rating').agg({'eu_sales':'sum'}).sort_values(by='eu_sales', ascending=False)\n",
    "rating_eu_top = rating_eu.head()"
   ]
  },
  {
   "cell_type": "code",
   "execution_count": 98,
   "id": "f83352c1",
   "metadata": {},
   "outputs": [],
   "source": [
    "rating_jp = data.groupby('rating').agg({'jp_sales':'sum'}).sort_values(by='jp_sales', ascending=False)\n",
    "rating_jp_top = rating_jp.head()"
   ]
  },
  {
   "cell_type": "code",
   "execution_count": 99,
   "id": "032e4f5e",
   "metadata": {},
   "outputs": [
    {
     "data": {
      "text/plain": [
       "Text(0.5, 0.98, 'Доли продаж игр по рейтингу в регионах')"
      ]
     },
     "execution_count": 99,
     "metadata": {},
     "output_type": "execute_result"
    },
    {
     "data": {
      "image/png": "[encoded data removed]",
      "text/plain": [
       "<Figure size 1080x360 with 3 Axes>"
      ]
     },
     "metadata": {},
     "output_type": "display_data"
    }
   ],
   "source": [
    "fig, ax = plt.subplots(1,3, figsize = (15,5))\n",
    "ax = ax.ravel()\n",
    "rating_na_top.plot(kind='pie', y='na_sales', legend=False, autopct='%.0f%%', ax = ax[0])\n",
    "rating_eu_top.plot(kind='pie', y='eu_sales', legend=False, autopct='%.0f%%', ax = ax[1])\n",
    "rating_jp_top.plot(kind='pie', y='jp_sales', legend=False, autopct='%.0f%%', ax = ax[2])\n",
    "ax[0].set_xlabel('Доля продаж в Северной Америке по рейтингу', rotation=0, labelpad=25)\n",
    "ax[1].set_xlabel('Доля продаж в Европе по рейтингу', rotation=0, labelpad=25)\n",
    "ax[2].set_xlabel('Доля продаж в Японии по рейтингу', rotation=0, labelpad=25)\n",
    "fig.suptitle('Доли продаж игр по рейтингу в регионах')"
   ]
  },
  {
   "cell_type": "markdown",
   "id": "a7c79f3e",
   "metadata": {},
   "source": [
    "Наибольшая доля продаж в СА приходится на игры с рейтингом 17+ (34%), довольно большая доля приходится на игры, рейтинг которых не определен. 18% приходится на игры для всех возрастов, 14% на игры 13+ и 12% на игры 10+. В Европе также самая большая доля продаж приходится на игры с рейтингом 17+. И точно также, как и в СА, в Европе довольно много игр было продано с неопределенным рейтингом (22%). Затем идет такой же порядок рейтинга игр, как и в Северной Америке: игры для всех (21%), игры 13+ (13%)  и игры 10+ (10%). В Японии совсем другая картина. Тут 61% продаж приходится на игры без рейтинга. Это может быть связано с тем, что в Японии своя система оценок от Computer Entertainment Rating Organization (CERO). Далее идут игры 13+ (16%), игры для всех возрастов (10%), игры 17+ (9%) и игры 10+ (5%). "
   ]
  },
  {
   "cell_type": "code",
   "execution_count": 100,
   "id": "b0e34f4b",
   "metadata": {},
   "outputs": [
    {
     "data": {
      "image/png": "[encoded data removed]",
      "text/plain": [
       "<Figure size 360x360 with 1 Axes>"
      ]
     },
     "metadata": {},
     "output_type": "display_data"
    }
   ],
   "source": [
    "rating_ot = data.groupby('rating').agg({'other_sales':'sum'}).sort_values(by='other_sales', ascending=False)\n",
    "rating_ot_top = rating_ot.head()\n",
    "rating_ot_top.plot(kind='pie', y='other_sales', legend=False, figsize=(5,5), autopct='%.0f%%')\n",
    "plt.title('Рейтинг в других регионах')\n",
    "plt.ylabel('Доля продаж', labelpad=35)\n",
    "plt.show()"
   ]
  },
  {
   "cell_type": "markdown",
   "id": "2b88b14e",
   "metadata": {},
   "source": [
    "В других регионах тенденция схожа с тенденцией на Западе. Самые популярные игры с рейтингов 17+, потом игры без рейтинга, игры для всех возрастов, игры 13+ и 10+. "
   ]
  },
  {
   "cell_type": "markdown",
   "id": "bcde8bf6",
   "metadata": {},
   "source": [
    "## Шаг 5. Проверьте гипотезы\n",
    "\n",
    "### - Средние пользовательские рейтинги платформ Xbox One и PC одинаковые. Задайте самостоятельно пороговое значение alpha.\n",
    "#### Поясните:\n",
    "###### - Как вы сформулировали нулевую и альтернативную гипотезы?\n",
    "###### - Какой критерий применили для проверки гипотез и почему?\n"
   ]
  },
  {
   "cell_type": "code",
   "execution_count": 101,
   "id": "a39fbe6a",
   "metadata": {},
   "outputs": [
    {
     "data": {
      "text/html": [
       "<div>\n",
       "<style scoped>\n",
       "    .dataframe tbody tr th:only-of-type {\n",
       "        vertical-align: middle;\n",
       "    }\n",
       "\n",
       "    .dataframe tbody tr th {\n",
       "        vertical-align: top;\n",
       "    }\n",
       "\n",
       "    .dataframe thead th {\n",
       "        text-align: right;\n",
       "    }\n",
       "</style>\n",
       "<table border=\"1\" class=\"dataframe\">\n",
       "  <thead>\n",
       "    <tr style=\"text-align: right;\">\n",
       "      <th></th>\n",
       "      <th>name</th>\n",
       "      <th>platform</th>\n",
       "      <th>year_of_release</th>\n",
       "      <th>genre</th>\n",
       "      <th>na_sales</th>\n",
       "      <th>eu_sales</th>\n",
       "      <th>jp_sales</th>\n",
       "      <th>other_sales</th>\n",
       "      <th>critic_score</th>\n",
       "      <th>user_score</th>\n",
       "      <th>rating</th>\n",
       "      <th>total_sales</th>\n",
       "    </tr>\n",
       "  </thead>\n",
       "  <tbody>\n",
       "    <tr>\n",
       "      <th>31</th>\n",
       "      <td>call of duty: black ops 3</td>\n",
       "      <td>PS4</td>\n",
       "      <td>2015</td>\n",
       "      <td>shooter</td>\n",
       "      <td>6.03</td>\n",
       "      <td>5.86</td>\n",
       "      <td>0.36</td>\n",
       "      <td>2.38</td>\n",
       "      <td>NaN</td>\n",
       "      <td>NaN</td>\n",
       "      <td>undefined</td>\n",
       "      <td>14.63</td>\n",
       "    </tr>\n",
       "    <tr>\n",
       "      <th>42</th>\n",
       "      <td>grand theft auto v</td>\n",
       "      <td>PS4</td>\n",
       "      <td>2014</td>\n",
       "      <td>action</td>\n",
       "      <td>3.96</td>\n",
       "      <td>6.31</td>\n",
       "      <td>0.38</td>\n",
       "      <td>1.97</td>\n",
       "      <td>97.0</td>\n",
       "      <td>8.3</td>\n",
       "      <td>M</td>\n",
       "      <td>12.62</td>\n",
       "    </tr>\n",
       "    <tr>\n",
       "      <th>47</th>\n",
       "      <td>pokemon omega ruby/pokemon alpha sapphire</td>\n",
       "      <td>3DS</td>\n",
       "      <td>2014</td>\n",
       "      <td>role-playing</td>\n",
       "      <td>4.35</td>\n",
       "      <td>3.49</td>\n",
       "      <td>3.10</td>\n",
       "      <td>0.74</td>\n",
       "      <td>NaN</td>\n",
       "      <td>NaN</td>\n",
       "      <td>undefined</td>\n",
       "      <td>11.68</td>\n",
       "    </tr>\n",
       "    <tr>\n",
       "      <th>77</th>\n",
       "      <td>fifa 16</td>\n",
       "      <td>PS4</td>\n",
       "      <td>2015</td>\n",
       "      <td>sports</td>\n",
       "      <td>1.12</td>\n",
       "      <td>6.12</td>\n",
       "      <td>0.06</td>\n",
       "      <td>1.28</td>\n",
       "      <td>82.0</td>\n",
       "      <td>4.3</td>\n",
       "      <td>E</td>\n",
       "      <td>8.58</td>\n",
       "    </tr>\n",
       "    <tr>\n",
       "      <th>87</th>\n",
       "      <td>star wars battlefront (2015)</td>\n",
       "      <td>PS4</td>\n",
       "      <td>2015</td>\n",
       "      <td>shooter</td>\n",
       "      <td>2.99</td>\n",
       "      <td>3.49</td>\n",
       "      <td>0.22</td>\n",
       "      <td>1.28</td>\n",
       "      <td>NaN</td>\n",
       "      <td>NaN</td>\n",
       "      <td>undefined</td>\n",
       "      <td>7.98</td>\n",
       "    </tr>\n",
       "  </tbody>\n",
       "</table>\n",
       "</div>"
      ],
      "text/plain": [
       "                                         name platform  year_of_release  \\\n",
       "31                  call of duty: black ops 3      PS4             2015   \n",
       "42                         grand theft auto v      PS4             2014   \n",
       "47  pokemon omega ruby/pokemon alpha sapphire      3DS             2014   \n",
       "77                                    fifa 16      PS4             2015   \n",
       "87               star wars battlefront (2015)      PS4             2015   \n",
       "\n",
       "           genre  na_sales  eu_sales  jp_sales  other_sales  critic_score  \\\n",
       "31       shooter      6.03      5.86      0.36         2.38           NaN   \n",
       "42        action      3.96      6.31      0.38         1.97          97.0   \n",
       "47  role-playing      4.35      3.49      3.10         0.74           NaN   \n",
       "77        sports      1.12      6.12      0.06         1.28          82.0   \n",
       "87       shooter      2.99      3.49      0.22         1.28           NaN   \n",
       "\n",
       "    user_score     rating  total_sales  \n",
       "31         NaN  undefined        14.63  \n",
       "42         8.3          M        12.62  \n",
       "47         NaN  undefined        11.68  \n",
       "77         4.3          E         8.58  \n",
       "87         NaN  undefined         7.98  "
      ]
     },
     "execution_count": 101,
     "metadata": {},
     "output_type": "execute_result"
    }
   ],
   "source": [
    "data.head()"
   ]
  },
  {
   "cell_type": "markdown",
   "id": "7c0b1027",
   "metadata": {},
   "source": [
    "Проверим год релиза платформ. "
   ]
  },
  {
   "cell_type": "code",
   "execution_count": 102,
   "id": "6f217420",
   "metadata": {},
   "outputs": [
    {
     "data": {
      "text/html": [
       "<div>\n",
       "<style scoped>\n",
       "    .dataframe tbody tr th:only-of-type {\n",
       "        vertical-align: middle;\n",
       "    }\n",
       "\n",
       "    .dataframe tbody tr th {\n",
       "        vertical-align: top;\n",
       "    }\n",
       "\n",
       "    .dataframe thead th {\n",
       "        text-align: right;\n",
       "    }\n",
       "</style>\n",
       "<table border=\"1\" class=\"dataframe\">\n",
       "  <thead>\n",
       "    <tr style=\"text-align: right;\">\n",
       "      <th></th>\n",
       "      <th>Name</th>\n",
       "      <th>Platform</th>\n",
       "      <th>Year_of_Release</th>\n",
       "      <th>Genre</th>\n",
       "      <th>NA_sales</th>\n",
       "      <th>EU_sales</th>\n",
       "      <th>JP_sales</th>\n",
       "      <th>Other_sales</th>\n",
       "      <th>Critic_Score</th>\n",
       "      <th>User_Score</th>\n",
       "      <th>Rating</th>\n",
       "    </tr>\n",
       "  </thead>\n",
       "  <tbody>\n",
       "    <tr>\n",
       "      <th>6878</th>\n",
       "      <td>Zumba Fitness: World Party</td>\n",
       "      <td>XOne</td>\n",
       "      <td>2013.0</td>\n",
       "      <td>Misc</td>\n",
       "      <td>0.17</td>\n",
       "      <td>0.05</td>\n",
       "      <td>0.0</td>\n",
       "      <td>0.02</td>\n",
       "      <td>73.0</td>\n",
       "      <td>6.2</td>\n",
       "      <td>E</td>\n",
       "    </tr>\n",
       "    <tr>\n",
       "      <th>2280</th>\n",
       "      <td>NBA 2K14</td>\n",
       "      <td>XOne</td>\n",
       "      <td>2013.0</td>\n",
       "      <td>Sports</td>\n",
       "      <td>0.70</td>\n",
       "      <td>0.11</td>\n",
       "      <td>0.0</td>\n",
       "      <td>0.09</td>\n",
       "      <td>86.0</td>\n",
       "      <td>5.7</td>\n",
       "      <td>E</td>\n",
       "    </tr>\n",
       "    <tr>\n",
       "      <th>2956</th>\n",
       "      <td>Need for Speed Rivals</td>\n",
       "      <td>XOne</td>\n",
       "      <td>2013.0</td>\n",
       "      <td>Racing</td>\n",
       "      <td>0.46</td>\n",
       "      <td>0.17</td>\n",
       "      <td>0.0</td>\n",
       "      <td>0.07</td>\n",
       "      <td>75.0</td>\n",
       "      <td>5.8</td>\n",
       "      <td>E10+</td>\n",
       "    </tr>\n",
       "    <tr>\n",
       "      <th>11772</th>\n",
       "      <td>Killer Instinct (2013)</td>\n",
       "      <td>XOne</td>\n",
       "      <td>2013.0</td>\n",
       "      <td>Fighting</td>\n",
       "      <td>0.04</td>\n",
       "      <td>0.03</td>\n",
       "      <td>0.0</td>\n",
       "      <td>0.01</td>\n",
       "      <td>NaN</td>\n",
       "      <td>NaN</td>\n",
       "      <td>NaN</td>\n",
       "    </tr>\n",
       "    <tr>\n",
       "      <th>1959</th>\n",
       "      <td>LEGO Marvel Super Heroes</td>\n",
       "      <td>XOne</td>\n",
       "      <td>2013.0</td>\n",
       "      <td>Action</td>\n",
       "      <td>0.61</td>\n",
       "      <td>0.35</td>\n",
       "      <td>0.0</td>\n",
       "      <td>0.09</td>\n",
       "      <td>NaN</td>\n",
       "      <td>6.8</td>\n",
       "      <td>E10+</td>\n",
       "    </tr>\n",
       "    <tr>\n",
       "      <th>...</th>\n",
       "      <td>...</td>\n",
       "      <td>...</td>\n",
       "      <td>...</td>\n",
       "      <td>...</td>\n",
       "      <td>...</td>\n",
       "      <td>...</td>\n",
       "      <td>...</td>\n",
       "      <td>...</td>\n",
       "      <td>...</td>\n",
       "      <td>...</td>\n",
       "      <td>...</td>\n",
       "    </tr>\n",
       "    <tr>\n",
       "      <th>10821</th>\n",
       "      <td>Skylanders Imaginators</td>\n",
       "      <td>XOne</td>\n",
       "      <td>2016.0</td>\n",
       "      <td>Platform</td>\n",
       "      <td>0.05</td>\n",
       "      <td>0.04</td>\n",
       "      <td>0.0</td>\n",
       "      <td>0.01</td>\n",
       "      <td>78.0</td>\n",
       "      <td>6</td>\n",
       "      <td>E10+</td>\n",
       "    </tr>\n",
       "    <tr>\n",
       "      <th>2768</th>\n",
       "      <td>The Elder Scrolls V: Skyrim</td>\n",
       "      <td>XOne</td>\n",
       "      <td>2016.0</td>\n",
       "      <td>Role-Playing</td>\n",
       "      <td>0.41</td>\n",
       "      <td>0.27</td>\n",
       "      <td>0.0</td>\n",
       "      <td>0.07</td>\n",
       "      <td>NaN</td>\n",
       "      <td>NaN</td>\n",
       "      <td>NaN</td>\n",
       "    </tr>\n",
       "    <tr>\n",
       "      <th>10254</th>\n",
       "      <td>Batman: Return to Arkham</td>\n",
       "      <td>XOne</td>\n",
       "      <td>2016.0</td>\n",
       "      <td>Action</td>\n",
       "      <td>0.05</td>\n",
       "      <td>0.05</td>\n",
       "      <td>0.0</td>\n",
       "      <td>0.01</td>\n",
       "      <td>77.0</td>\n",
       "      <td>8.2</td>\n",
       "      <td>T</td>\n",
       "    </tr>\n",
       "    <tr>\n",
       "      <th>9813</th>\n",
       "      <td>Farming Simulator 17</td>\n",
       "      <td>XOne</td>\n",
       "      <td>2016.0</td>\n",
       "      <td>Simulation</td>\n",
       "      <td>0.04</td>\n",
       "      <td>0.07</td>\n",
       "      <td>0.0</td>\n",
       "      <td>0.01</td>\n",
       "      <td>65.0</td>\n",
       "      <td>tbd</td>\n",
       "      <td>E</td>\n",
       "    </tr>\n",
       "    <tr>\n",
       "      <th>16672</th>\n",
       "      <td>Metal Gear Solid V: The Definitive Experience</td>\n",
       "      <td>XOne</td>\n",
       "      <td>2016.0</td>\n",
       "      <td>Action</td>\n",
       "      <td>0.01</td>\n",
       "      <td>0.00</td>\n",
       "      <td>0.0</td>\n",
       "      <td>0.00</td>\n",
       "      <td>NaN</td>\n",
       "      <td>tbd</td>\n",
       "      <td>M</td>\n",
       "    </tr>\n",
       "  </tbody>\n",
       "</table>\n",
       "<p>247 rows × 11 columns</p>\n",
       "</div>"
      ],
      "text/plain": [
       "                                                Name Platform  \\\n",
       "6878                      Zumba Fitness: World Party     XOne   \n",
       "2280                                        NBA 2K14     XOne   \n",
       "2956                           Need for Speed Rivals     XOne   \n",
       "11772                         Killer Instinct (2013)     XOne   \n",
       "1959                        LEGO Marvel Super Heroes     XOne   \n",
       "...                                              ...      ...   \n",
       "10821                         Skylanders Imaginators     XOne   \n",
       "2768                     The Elder Scrolls V: Skyrim     XOne   \n",
       "10254                       Batman: Return to Arkham     XOne   \n",
       "9813                            Farming Simulator 17     XOne   \n",
       "16672  Metal Gear Solid V: The Definitive Experience     XOne   \n",
       "\n",
       "       Year_of_Release         Genre  NA_sales  EU_sales  JP_sales  \\\n",
       "6878            2013.0          Misc      0.17      0.05       0.0   \n",
       "2280            2013.0        Sports      0.70      0.11       0.0   \n",
       "2956            2013.0        Racing      0.46      0.17       0.0   \n",
       "11772           2013.0      Fighting      0.04      0.03       0.0   \n",
       "1959            2013.0        Action      0.61      0.35       0.0   \n",
       "...                ...           ...       ...       ...       ...   \n",
       "10821           2016.0      Platform      0.05      0.04       0.0   \n",
       "2768            2016.0  Role-Playing      0.41      0.27       0.0   \n",
       "10254           2016.0        Action      0.05      0.05       0.0   \n",
       "9813            2016.0    Simulation      0.04      0.07       0.0   \n",
       "16672           2016.0        Action      0.01      0.00       0.0   \n",
       "\n",
       "       Other_sales  Critic_Score User_Score Rating  \n",
       "6878          0.02          73.0        6.2      E  \n",
       "2280          0.09          86.0        5.7      E  \n",
       "2956          0.07          75.0        5.8   E10+  \n",
       "11772         0.01           NaN        NaN    NaN  \n",
       "1959          0.09           NaN        6.8   E10+  \n",
       "...            ...           ...        ...    ...  \n",
       "10821         0.01          78.0          6   E10+  \n",
       "2768          0.07           NaN        NaN    NaN  \n",
       "10254         0.01          77.0        8.2      T  \n",
       "9813          0.01          65.0        tbd      E  \n",
       "16672         0.00           NaN        tbd      M  \n",
       "\n",
       "[247 rows x 11 columns]"
      ]
     },
     "execution_count": 102,
     "metadata": {},
     "output_type": "execute_result"
    }
   ],
   "source": [
    "data_fresh[data_fresh['Platform'] == 'XOne'].sort_values(by='Year_of_Release')"
   ]
  },
  {
   "cell_type": "code",
   "execution_count": 103,
   "id": "ae68b772",
   "metadata": {
    "scrolled": false
   },
   "outputs": [
    {
     "data": {
      "text/html": [
       "<div>\n",
       "<style scoped>\n",
       "    .dataframe tbody tr th:only-of-type {\n",
       "        vertical-align: middle;\n",
       "    }\n",
       "\n",
       "    .dataframe tbody tr th {\n",
       "        vertical-align: top;\n",
       "    }\n",
       "\n",
       "    .dataframe thead th {\n",
       "        text-align: right;\n",
       "    }\n",
       "</style>\n",
       "<table border=\"1\" class=\"dataframe\">\n",
       "  <thead>\n",
       "    <tr style=\"text-align: right;\">\n",
       "      <th></th>\n",
       "      <th>Name</th>\n",
       "      <th>Platform</th>\n",
       "      <th>Year_of_Release</th>\n",
       "      <th>Genre</th>\n",
       "      <th>NA_sales</th>\n",
       "      <th>EU_sales</th>\n",
       "      <th>JP_sales</th>\n",
       "      <th>Other_sales</th>\n",
       "      <th>Critic_Score</th>\n",
       "      <th>User_Score</th>\n",
       "      <th>Rating</th>\n",
       "    </tr>\n",
       "  </thead>\n",
       "  <tbody>\n",
       "    <tr>\n",
       "      <th>14470</th>\n",
       "      <td>Alter Ego</td>\n",
       "      <td>PC</td>\n",
       "      <td>1985.0</td>\n",
       "      <td>Simulation</td>\n",
       "      <td>0.00</td>\n",
       "      <td>0.03</td>\n",
       "      <td>0.0</td>\n",
       "      <td>0.01</td>\n",
       "      <td>59.0</td>\n",
       "      <td>5.8</td>\n",
       "      <td>T</td>\n",
       "    </tr>\n",
       "    <tr>\n",
       "      <th>14621</th>\n",
       "      <td>SimCity</td>\n",
       "      <td>PC</td>\n",
       "      <td>1988.0</td>\n",
       "      <td>Simulation</td>\n",
       "      <td>0.00</td>\n",
       "      <td>0.02</td>\n",
       "      <td>0.0</td>\n",
       "      <td>0.01</td>\n",
       "      <td>64.0</td>\n",
       "      <td>2.2</td>\n",
       "      <td>E10+</td>\n",
       "    </tr>\n",
       "    <tr>\n",
       "      <th>769</th>\n",
       "      <td>SimCity 2000</td>\n",
       "      <td>PC</td>\n",
       "      <td>1992.0</td>\n",
       "      <td>Simulation</td>\n",
       "      <td>1.20</td>\n",
       "      <td>0.84</td>\n",
       "      <td>0.0</td>\n",
       "      <td>0.10</td>\n",
       "      <td>NaN</td>\n",
       "      <td>NaN</td>\n",
       "      <td>NaN</td>\n",
       "    </tr>\n",
       "    <tr>\n",
       "      <th>2612</th>\n",
       "      <td>The 7th Guest</td>\n",
       "      <td>PC</td>\n",
       "      <td>1992.0</td>\n",
       "      <td>Adventure</td>\n",
       "      <td>0.02</td>\n",
       "      <td>0.77</td>\n",
       "      <td>0.0</td>\n",
       "      <td>0.00</td>\n",
       "      <td>NaN</td>\n",
       "      <td>NaN</td>\n",
       "      <td>T</td>\n",
       "    </tr>\n",
       "    <tr>\n",
       "      <th>12650</th>\n",
       "      <td>Syndicate</td>\n",
       "      <td>PC</td>\n",
       "      <td>1992.0</td>\n",
       "      <td>Strategy</td>\n",
       "      <td>0.00</td>\n",
       "      <td>0.05</td>\n",
       "      <td>0.0</td>\n",
       "      <td>0.01</td>\n",
       "      <td>NaN</td>\n",
       "      <td>NaN</td>\n",
       "      <td>NaN</td>\n",
       "    </tr>\n",
       "    <tr>\n",
       "      <th>...</th>\n",
       "      <td>...</td>\n",
       "      <td>...</td>\n",
       "      <td>...</td>\n",
       "      <td>...</td>\n",
       "      <td>...</td>\n",
       "      <td>...</td>\n",
       "      <td>...</td>\n",
       "      <td>...</td>\n",
       "      <td>...</td>\n",
       "      <td>...</td>\n",
       "      <td>...</td>\n",
       "    </tr>\n",
       "    <tr>\n",
       "      <th>13781</th>\n",
       "      <td>GRID</td>\n",
       "      <td>PC</td>\n",
       "      <td>NaN</td>\n",
       "      <td>Racing</td>\n",
       "      <td>0.00</td>\n",
       "      <td>0.03</td>\n",
       "      <td>0.0</td>\n",
       "      <td>0.01</td>\n",
       "      <td>87.0</td>\n",
       "      <td>7.9</td>\n",
       "      <td>E</td>\n",
       "    </tr>\n",
       "    <tr>\n",
       "      <th>14746</th>\n",
       "      <td>Battle vs. Chess</td>\n",
       "      <td>PC</td>\n",
       "      <td>NaN</td>\n",
       "      <td>Misc</td>\n",
       "      <td>0.00</td>\n",
       "      <td>0.02</td>\n",
       "      <td>0.0</td>\n",
       "      <td>0.00</td>\n",
       "      <td>69.0</td>\n",
       "      <td>5.9</td>\n",
       "      <td>T</td>\n",
       "    </tr>\n",
       "    <tr>\n",
       "      <th>16180</th>\n",
       "      <td>WRC: FIA World Rally Championship</td>\n",
       "      <td>PC</td>\n",
       "      <td>NaN</td>\n",
       "      <td>Racing</td>\n",
       "      <td>0.00</td>\n",
       "      <td>0.01</td>\n",
       "      <td>0.0</td>\n",
       "      <td>0.00</td>\n",
       "      <td>65.0</td>\n",
       "      <td>NaN</td>\n",
       "      <td>RP</td>\n",
       "    </tr>\n",
       "    <tr>\n",
       "      <th>16277</th>\n",
       "      <td>Homeworld Remastered Collection</td>\n",
       "      <td>PC</td>\n",
       "      <td>NaN</td>\n",
       "      <td>Strategy</td>\n",
       "      <td>0.00</td>\n",
       "      <td>0.01</td>\n",
       "      <td>0.0</td>\n",
       "      <td>0.00</td>\n",
       "      <td>86.0</td>\n",
       "      <td>8.2</td>\n",
       "      <td>E10+</td>\n",
       "    </tr>\n",
       "    <tr>\n",
       "      <th>16448</th>\n",
       "      <td>Inversion</td>\n",
       "      <td>PC</td>\n",
       "      <td>NaN</td>\n",
       "      <td>Shooter</td>\n",
       "      <td>0.01</td>\n",
       "      <td>0.00</td>\n",
       "      <td>0.0</td>\n",
       "      <td>0.00</td>\n",
       "      <td>59.0</td>\n",
       "      <td>6.7</td>\n",
       "      <td>M</td>\n",
       "    </tr>\n",
       "  </tbody>\n",
       "</table>\n",
       "<p>974 rows × 11 columns</p>\n",
       "</div>"
      ],
      "text/plain": [
       "                                    Name Platform  Year_of_Release  \\\n",
       "14470                          Alter Ego       PC           1985.0   \n",
       "14621                            SimCity       PC           1988.0   \n",
       "769                         SimCity 2000       PC           1992.0   \n",
       "2612                       The 7th Guest       PC           1992.0   \n",
       "12650                          Syndicate       PC           1992.0   \n",
       "...                                  ...      ...              ...   \n",
       "13781                               GRID       PC              NaN   \n",
       "14746                   Battle vs. Chess       PC              NaN   \n",
       "16180  WRC: FIA World Rally Championship       PC              NaN   \n",
       "16277    Homeworld Remastered Collection       PC              NaN   \n",
       "16448                          Inversion       PC              NaN   \n",
       "\n",
       "            Genre  NA_sales  EU_sales  JP_sales  Other_sales  Critic_Score  \\\n",
       "14470  Simulation      0.00      0.03       0.0         0.01          59.0   \n",
       "14621  Simulation      0.00      0.02       0.0         0.01          64.0   \n",
       "769    Simulation      1.20      0.84       0.0         0.10           NaN   \n",
       "2612    Adventure      0.02      0.77       0.0         0.00           NaN   \n",
       "12650    Strategy      0.00      0.05       0.0         0.01           NaN   \n",
       "...           ...       ...       ...       ...          ...           ...   \n",
       "13781      Racing      0.00      0.03       0.0         0.01          87.0   \n",
       "14746        Misc      0.00      0.02       0.0         0.00          69.0   \n",
       "16180      Racing      0.00      0.01       0.0         0.00          65.0   \n",
       "16277    Strategy      0.00      0.01       0.0         0.00          86.0   \n",
       "16448     Shooter      0.01      0.00       0.0         0.00          59.0   \n",
       "\n",
       "      User_Score Rating  \n",
       "14470        5.8      T  \n",
       "14621        2.2   E10+  \n",
       "769          NaN    NaN  \n",
       "2612         NaN      T  \n",
       "12650        NaN    NaN  \n",
       "...          ...    ...  \n",
       "13781        7.9      E  \n",
       "14746        5.9      T  \n",
       "16180        NaN     RP  \n",
       "16277        8.2   E10+  \n",
       "16448        6.7      M  \n",
       "\n",
       "[974 rows x 11 columns]"
      ]
     },
     "execution_count": 103,
     "metadata": {},
     "output_type": "execute_result"
    }
   ],
   "source": [
    "data_fresh[data_fresh['Platform'] == 'PC'].sort_values(by='Year_of_Release', ascending=True)"
   ]
  },
  {
   "cell_type": "markdown",
   "id": "8553dbc3",
   "metadata": {},
   "source": [
    "XOne на рынке с 2013, тогда как PC c 1985. Но наш датасет ограничен 2014 годом, так что в данном случае обе платформы на рынке 3 года. "
   ]
  },
  {
   "cell_type": "code",
   "execution_count": 104,
   "id": "4f703e91",
   "metadata": {},
   "outputs": [
    {
     "data": {
      "text/plain": [
       "array(['PS4', '3DS', 'XOne', 'WiiU', 'PS3', 'X360', 'PC', 'Wii', 'PSV',\n",
       "       'PSP'], dtype=object)"
      ]
     },
     "execution_count": 104,
     "metadata": {},
     "output_type": "execute_result"
    }
   ],
   "source": [
    "data.platform.unique()"
   ]
  },
  {
   "cell_type": "code",
   "execution_count": 105,
   "id": "166b3ebc",
   "metadata": {},
   "outputs": [
    {
     "data": {
      "text/plain": [
       "165      7.9\n",
       "179      5.4\n",
       "242      6.4\n",
       "270      6.2\n",
       "373      4.1\n",
       "        ... \n",
       "16544    6.8\n",
       "16597    6.0\n",
       "16630    8.2\n",
       "16643    6.6\n",
       "16660    6.7\n",
       "Name: user_score, Length: 165, dtype: float64"
      ]
     },
     "execution_count": 105,
     "metadata": {},
     "output_type": "execute_result"
    }
   ],
   "source": [
    "xbox_score = data.query('platform == \"XOne\" and user_score.isna() == False')['user_score']\n",
    "xbox_score"
   ]
  },
  {
   "cell_type": "code",
   "execution_count": 106,
   "id": "ef6aa71a",
   "metadata": {},
   "outputs": [
    {
     "data": {
      "text/plain": [
       "458      3.9\n",
       "1530     5.4\n",
       "1730     7.9\n",
       "2303     5.7\n",
       "2784     5.9\n",
       "        ... \n",
       "16456    8.3\n",
       "16463    6.8\n",
       "16509    7.9\n",
       "16518    1.4\n",
       "16692    7.6\n",
       "Name: user_score, Length: 122, dtype: float64"
      ]
     },
     "execution_count": 106,
     "metadata": {},
     "output_type": "execute_result"
    }
   ],
   "source": [
    "pc_score = data.query('platform == \"PC\" and user_score.isna() == False')['user_score']\n",
    "pc_score"
   ]
  },
  {
   "cell_type": "markdown",
   "id": "437be98b",
   "metadata": {},
   "source": [
    "**Нулевая гипотеза** звучит так: \"Средние пользовательские рейтинги платформ Xbox One и PC равны\".    \n",
    "**Альтернативная гипотеза** звучит так: \"Средние пользовательские рейтинги платформ Xbox One и PC не одинаковые\". "
   ]
  },
  {
   "cell_type": "code",
   "execution_count": 107,
   "id": "e2bfe5e1",
   "metadata": {
    "scrolled": false
   },
   "outputs": [
    {
     "name": "stdout",
     "output_type": "stream",
     "text": [
      "p-значение: 0.11601398086668832\n",
      "Не получилось отвергнуть нулевую гипотезу\n"
     ]
    }
   ],
   "source": [
    "alpha = 0.05 # уровень статистической значимости\n",
    "# если p-value окажется меньше него, отвергнем гипотезу\n",
    "\n",
    "results = st.ttest_ind(xbox_score, pc_score, equal_var=False)\n",
    "\n",
    "print('p-значение:', results.pvalue)\n",
    "\n",
    "if results.pvalue < alpha:\n",
    "    print('Отвергаем нулевую гипотезу')\n",
    "else:\n",
    "    print('Не получилось отвергнуть нулевую гипотезу')"
   ]
  },
  {
   "cell_type": "markdown",
   "id": "36d8f320",
   "metadata": {},
   "source": [
    "P-value оказалост больше 5%, а именно - 12%, поэтому гипотезу мы не отвергаем. То есть, с вероятностью в 12% можно получить наблюдаемое значение или более удалённое от того, которое предположили в нулевой гипотезе. Другими словами, хотя средние пользовательские рейтинги платформ Xbox One и PC не одинаковые, с вероятностью в почти 12% такое или большее различие можно получить __случайно.__ "
   ]
  },
  {
   "cell_type": "code",
   "execution_count": 108,
   "id": "d34a41ba",
   "metadata": {},
   "outputs": [
    {
     "data": {
      "text/plain": [
       "6.594545454545456"
      ]
     },
     "execution_count": 108,
     "metadata": {},
     "output_type": "execute_result"
    }
   ],
   "source": [
    "xbox_score.mean()"
   ]
  },
  {
   "cell_type": "code",
   "execution_count": 109,
   "id": "a97bcf4f",
   "metadata": {},
   "outputs": [
    {
     "data": {
      "text/plain": [
       "6.298360655737705"
      ]
     },
     "execution_count": 109,
     "metadata": {},
     "output_type": "execute_result"
    }
   ],
   "source": [
    "pc_score.mean()"
   ]
  },
  {
   "cell_type": "markdown",
   "id": "ea32d3cc",
   "metadata": {},
   "source": [
    "Среднее значение по оценкам пользователей у Xbox One и PC не сильно различаются. "
   ]
  },
  {
   "cell_type": "markdown",
   "id": "5d69b7da",
   "metadata": {},
   "source": [
    "### - Средние пользовательские рейтинги жанров Action (англ. «действие», экшен-игры) и Sports (англ. «спортивные соревнования») разные.\n",
    "\n"
   ]
  },
  {
   "cell_type": "code",
   "execution_count": 110,
   "id": "fa75155f",
   "metadata": {},
   "outputs": [
    {
     "data": {
      "text/plain": [
       "array(['shooter', 'action', 'role-playing', 'sports', 'fighting',\n",
       "       'racing', 'misc', 'platform', 'simulation', 'adventure', 'puzzle',\n",
       "       'strategy'], dtype=object)"
      ]
     },
     "execution_count": 110,
     "metadata": {},
     "output_type": "execute_result"
    }
   ],
   "source": [
    "data.genre.unique()"
   ]
  },
  {
   "cell_type": "code",
   "execution_count": 111,
   "id": "07bf4338",
   "metadata": {},
   "outputs": [
    {
     "data": {
      "text/plain": [
       "42       8.3\n",
       "165      7.9\n",
       "231      8.1\n",
       "295      6.3\n",
       "304      4.9\n",
       "        ... \n",
       "16544    6.8\n",
       "16597    6.0\n",
       "16652    8.5\n",
       "16660    6.7\n",
       "16692    7.6\n",
       "Name: user_score, Length: 297, dtype: float64"
      ]
     },
     "execution_count": 111,
     "metadata": {},
     "output_type": "execute_result"
    }
   ],
   "source": [
    "action_score = data.query('genre == \"action\" and user_score.isna() == False')['user_score']\n",
    "action_score"
   ]
  },
  {
   "cell_type": "code",
   "execution_count": 112,
   "id": "8375d6d8",
   "metadata": {},
   "outputs": [
    {
     "data": {
      "text/plain": [
       "77       4.3\n",
       "94       5.0\n",
       "143      5.7\n",
       "264      4.5\n",
       "314      6.7\n",
       "        ... \n",
       "16120    6.3\n",
       "16142    8.8\n",
       "16146    6.9\n",
       "16518    1.4\n",
       "16643    6.6\n",
       "Name: user_score, Length: 127, dtype: float64"
      ]
     },
     "execution_count": 112,
     "metadata": {},
     "output_type": "execute_result"
    }
   ],
   "source": [
    "sports_score = data.query('genre == \"sports\" and user_score.isna() == False')['user_score']\n",
    "sports_score"
   ]
  },
  {
   "cell_type": "markdown",
   "id": "9728509f",
   "metadata": {},
   "source": [
    "**Нулевая гипотеза** звучит так: \"Средние пользовательские рейтинги жанров Action и Sports одинаковые.\" .    \n",
    "**Альтернативная гипотеза** звучит так: \"Средние пользовательские рейтинги жанров Action и Sports разные.\". "
   ]
  },
  {
   "cell_type": "code",
   "execution_count": 113,
   "id": "570daf36",
   "metadata": {},
   "outputs": [
    {
     "name": "stdout",
     "output_type": "stream",
     "text": [
      "p-значение: 1.1825550382644557e-14\n",
      "Отвергаем нулевую гипотезу\n"
     ]
    }
   ],
   "source": [
    "alpha = 0.05 # уровень статистической значимости\n",
    "# если p-value окажется меньше него, отвергнем гипотезу\n",
    "\n",
    "results = st.ttest_ind(action_score, sports_score, equal_var=False)\n",
    "\n",
    "print('p-значение:', results.pvalue)\n",
    "\n",
    "if results.pvalue < alpha:\n",
    "    print('Отвергаем нулевую гипотезу')\n",
    "else:\n",
    "    print('Не получилось отвергнуть нулевую гипотезу')"
   ]
  },
  {
   "cell_type": "markdown",
   "id": "0384a734",
   "metadata": {},
   "source": [
    "P-value оказалоось меньше 5%. То есть, с вероятностью меньше 5% можно получить наблюдаемое значение или более удалённое от того, которое предположили в нулевой гипотезе. Другими словами, средние пользовательские рейтинги жанров Action и Sports не одинаковые, вероятность получить равные или более удаленные значения случайно составляет менее 5%. "
   ]
  },
  {
   "cell_type": "code",
   "execution_count": 115,
   "id": "dad9355e",
   "metadata": {},
   "outputs": [
    {
     "data": {
      "text/plain": [
       "6.760606060606061"
      ]
     },
     "execution_count": 115,
     "metadata": {},
     "output_type": "execute_result"
    }
   ],
   "source": [
    "action_score.mean()"
   ]
  },
  {
   "cell_type": "code",
   "execution_count": 116,
   "id": "28161487",
   "metadata": {},
   "outputs": [
    {
     "data": {
      "text/plain": [
       "5.2251968503937"
      ]
     },
     "execution_count": 116,
     "metadata": {},
     "output_type": "execute_result"
    }
   ],
   "source": [
    "sports_score.mean()"
   ]
  },
  {
   "cell_type": "markdown",
   "id": "fb4f2c13",
   "metadata": {},
   "source": [
    "Средние оценки пользователей по спортивному жанру и экшн-жанру не равны. "
   ]
  },
  {
   "cell_type": "markdown",
   "id": "2787e1e0",
   "metadata": {},
   "source": [
    "В ходе данного этапа был использован t-критерий Стьюдента для независимых выборок, который применяется для сравнения средних значений двух независимых между собой выборок."
   ]
  },
  {
   "cell_type": "markdown",
   "id": "9ce47f80",
   "metadata": {},
   "source": [
    "## Шаг 6. Напишите общий вывод\n"
   ]
  },
  {
   "cell_type": "markdown",
   "id": "049df740",
   "metadata": {},
   "source": [
    "Рассмотрим каждый из шагов в данным проекте. \n",
    "\n",
    "##### Шаг 1 \n",
    "\n",
    "На данном этапе работы были получены общие сведения о данных. \n",
    "\n",
    "##### Шаг 2\n",
    "\n",
    "Следующий этап работы был посвящен предобработке данных, в результате чего: \n",
    "\n",
    "1. Названия столбцов были приведены к нижнему регистру для удобства проведения дальнейшего исследования. \n",
    "2. Данные в некоторых столбцах были преобразованы в нужный тип данных. Например, данные user_score были записаны в виде строк, поэтому были преобразованы в тип float. А годы релиза игр были преобразованы в int. \n",
    "3. Были обработаны пропущенные значения в данных. Некоторые строки с пропусками были удалены (название и жанр игр). В случае с user_score значение \"tbd\" было заменено на пропуск, так как подразмевает то же самое, что и пропуск. В некоторых столбцах (user_score и critic_score) пропущенные значения были оставлены, так как их удаление или приведение к медианному значению могло исказить дальнейший анализ данных. Пропуски в столбце rating были обработаны и заменены на \"undefined\".\n",
    "4. Столбцы с названием игры и жанром игр были приведены к нижнему регистру для поиска дубликатов. Явных дубликатов в датасете не найдено. \n",
    "5. Был добавлен новый столбец с суммарными продажами. \n",
    "    \n",
    "##### Шаг 3   \n",
    "\n",
    "В ходе третьего этапа работы был проведен исследовательский анализ данных, в результате чего было выяснено: \n",
    "\n",
    "1. Новые платформы для игр выходят примерно каждые 6-10 лет. \n",
    "2. Был замечен странный выброс у платформы DS, который был удален. \n",
    "3. Платформами с самыми большими суммарными продажами за весь период являются: DS, PS, GBA, PS2, PSP, X360, PS3, Wii, PS4. \n",
    "4. Тремя самыми прибыльными за все время платформами являются: PlayStation, Wii, и Xbox. Важно отметить, что у них не только самые высокие продажи, но также у PS И Xbox новые, улучшенные модели выходят довольно часто.\n",
    "\n",
    "В дальнейшем анализе данные были ограничены по 2014 год. \n",
    "\n",
    "4. У PS4, XOne, WiiU, X360 и Wii самое высокое медианное значение по суммарным продажам за последние три года. Однако здесь важно отметить, что X360 на рынке уже 11 лет, так что вряд ли ее можно выдвинуть в ряды многообещающих лидеров. У PS4 и XOne самый большой размах значений, причем датасет скошен вправо, то есть в сторону больших значений. В то же время у данных платформ крайне больших выбросов (в особенности у PS4). В итоге был сделан вывод о том, что наиболее прибыльной и выгодной платформой является PS4.\n",
    "5. У суммарных продаж и оценок пользователей сравнительно небольшой отрицательный коэффициент корреляции. То есть, чем больше выше пользовательская оценка, тем больше суммарные продажи, и наоборот. Зависимость суммарных продаж от оценки критиков немного выше. У большинства платформ корреляция суммарных продаж с оценками критиков становится тем сильнее, чем выше оценка.То есть высокие оценки вполне могут повлиять на продажи, но утверждать наверняка в данном случае нельзя. Если сравнивать популярные и не популярные платформы, то коэффициент корреляции у них отличается, но не настолько сильно, чтобы можно было выявить какую-либо значимую закономерность.\n",
    "6. Тремя самыми прибыльными жанрами является шутер, спортивный жанр и платформер. Было также отмечано, что, хотя у жанра экшн довольно маленьких межквартильный размах в сравнении с топ-3 жанрами, у этого жанра огромное количество выбросов больших значений. \n",
    "\n",
    "\n",
    "##### Шаг 4\n",
    "\n",
    "На данном этапе был составлен портрет пользователя каждого региона, в результате чего было сделано несколько выводов:\n",
    "\n",
    "1. Наиболее популярной платформой в Северной Америке и Европе является PS4. Лидеры платформ в Европе не сильно отличаются от лидеров в Северной Америке, но в Северной Америке X360 популярнее PS3. В Японии бесспорным лидером является 3DS, в отличие от СА и Европы, где лидером является PS4. Однако PS4 в Японии также довольно успешна. \n",
    "2. На Западе и в других регионах наиболее популярными жанрами являются: шутер, экшн, спортивный жанр, ролевой жанр. Лидеры по жанрам в Европе практически совпадают с лидерами в СА, однако в СА шутеры популярнее экшн, тогда как в Европе все наоборот. В Японии самым популярным жанром является ролевой жанр, практически вровень с ним идет жанр экшн.\n",
    "3. Наибольшая доля продаж в СА и Европе приходится на игры с рейтингом 17+. В обеих регионах также довольно много игр было продано с неопределенным рейтингом. В Японии совсем другая картина. Тут большая доля продаж приходится на игры без рейтинга, так как в Японии своя система оценок от Computer Entertainment Rating Organization (CERO).\n",
    "\n",
    "##### Шаг 5\n",
    "\n",
    "В ходе последнего этапа были проверены две гипотезы. \n",
    "\n",
    "1. Средние пользовательские рейтинги платформ Xbox One и PC одинаковые.\n",
    "2. Средние пользовательские рейтинги жанров Action и Sports одинаковые.\n",
    "\n",
    "В результате проверки гипотез было выяснено:\n",
    "\n",
    "1. Первая гипотеза отвергнута не была, так как с вероятностью в 12% можно получить наблюдаемое значение или более удалённое от того, которое предположили в нулевой гипотезе. Другими словами, хотя средние пользовательские рейтинги платформ Xbox One и PC не одинаковые, с вероятностью в почти 12% такое или большее различие можно получить случайно.\n",
    "2. Вторая гипотеза была отвергнута, так как с вероятностью меньше 5% можно получить наблюдаемое значение или более удалённое от того, которое предположили в нулевой гипотезе. Другими словами, средние пользовательские рейтинги жанров Action и Sports не одинаковые, вероятность получить равные или более удаленные значения случайно составляет менее 5%."
   ]
  }
 ],
 "metadata": {
  "ExecuteTimeLog": [
   {
    "duration": 56,
    "start_time": "2023-03-22T17:46:44.542Z"
   },
   {
    "duration": 8,
    "start_time": "2023-03-22T18:13:16.175Z"
   },
   {
    "duration": 1350,
    "start_time": "2023-03-22T18:13:20.192Z"
   },
   {
    "duration": 99,
    "start_time": "2023-03-22T18:13:21.784Z"
   },
   {
    "duration": 4,
    "start_time": "2023-03-22T18:13:22.375Z"
   },
   {
    "duration": 19,
    "start_time": "2023-03-22T18:13:25.773Z"
   },
   {
    "duration": 1269,
    "start_time": "2023-03-22T18:23:27.727Z"
   },
   {
    "duration": 115,
    "start_time": "2023-03-22T18:23:28.998Z"
   },
   {
    "duration": 5,
    "start_time": "2023-03-22T18:23:29.115Z"
   },
   {
    "duration": 32,
    "start_time": "2023-03-22T18:23:29.121Z"
   },
   {
    "duration": 4,
    "start_time": "2023-03-22T18:23:29.155Z"
   },
   {
    "duration": 22,
    "start_time": "2023-03-22T18:23:29.161Z"
   },
   {
    "duration": 22,
    "start_time": "2023-03-22T18:23:29.185Z"
   },
   {
    "duration": 9,
    "start_time": "2023-03-22T18:23:29.210Z"
   },
   {
    "duration": 7,
    "start_time": "2023-03-22T18:23:29.220Z"
   },
   {
    "duration": 8,
    "start_time": "2023-03-22T18:23:29.229Z"
   },
   {
    "duration": 8,
    "start_time": "2023-03-22T18:23:29.238Z"
   },
   {
    "duration": 5,
    "start_time": "2023-03-22T18:23:29.247Z"
   },
   {
    "duration": 10,
    "start_time": "2023-03-22T18:23:29.253Z"
   },
   {
    "duration": 10,
    "start_time": "2023-03-22T18:23:29.299Z"
   },
   {
    "duration": 11,
    "start_time": "2023-03-22T18:23:29.310Z"
   },
   {
    "duration": 6,
    "start_time": "2023-03-22T18:23:29.323Z"
   },
   {
    "duration": 13,
    "start_time": "2023-03-22T18:23:29.331Z"
   },
   {
    "duration": 18,
    "start_time": "2023-03-22T18:23:29.346Z"
   },
   {
    "duration": 5,
    "start_time": "2023-03-22T18:23:29.366Z"
   },
   {
    "duration": 218,
    "start_time": "2023-03-22T18:23:29.398Z"
   },
   {
    "duration": 8,
    "start_time": "2023-03-22T18:23:29.619Z"
   },
   {
    "duration": 16,
    "start_time": "2023-03-22T18:23:29.629Z"
   },
   {
    "duration": 4,
    "start_time": "2023-03-22T18:23:29.647Z"
   },
   {
    "duration": 23,
    "start_time": "2023-03-22T18:23:29.653Z"
   },
   {
    "duration": 22,
    "start_time": "2023-03-22T18:23:29.678Z"
   },
   {
    "duration": 20,
    "start_time": "2023-03-22T18:23:29.702Z"
   },
   {
    "duration": 5,
    "start_time": "2023-03-22T18:23:29.724Z"
   },
   {
    "duration": 27,
    "start_time": "2023-03-22T18:23:29.731Z"
   },
   {
    "duration": 7,
    "start_time": "2023-03-22T18:23:29.760Z"
   },
   {
    "duration": 9,
    "start_time": "2023-03-22T18:23:29.769Z"
   },
   {
    "duration": 35,
    "start_time": "2023-03-22T18:23:29.780Z"
   },
   {
    "duration": 20,
    "start_time": "2023-03-22T18:23:29.817Z"
   },
   {
    "duration": 12,
    "start_time": "2023-03-22T18:23:29.839Z"
   },
   {
    "duration": 16,
    "start_time": "2023-03-22T18:23:29.852Z"
   },
   {
    "duration": 56,
    "start_time": "2023-03-22T18:23:29.870Z"
   },
   {
    "duration": 5,
    "start_time": "2023-03-22T18:23:29.928Z"
   },
   {
    "duration": 26,
    "start_time": "2023-03-22T18:23:29.934Z"
   },
   {
    "duration": 13,
    "start_time": "2023-03-22T18:23:29.962Z"
   },
   {
    "duration": 10,
    "start_time": "2023-03-22T18:23:29.999Z"
   },
   {
    "duration": 32,
    "start_time": "2023-03-22T18:23:30.012Z"
   },
   {
    "duration": 14,
    "start_time": "2023-03-22T18:23:30.049Z"
   },
   {
    "duration": 22,
    "start_time": "2023-03-22T18:23:30.065Z"
   },
   {
    "duration": 20,
    "start_time": "2023-03-22T18:23:30.089Z"
   },
   {
    "duration": 20,
    "start_time": "2023-03-22T18:23:30.112Z"
   },
   {
    "duration": 27,
    "start_time": "2023-03-22T18:23:30.134Z"
   },
   {
    "duration": 29,
    "start_time": "2023-03-22T18:23:30.163Z"
   },
   {
    "duration": 48,
    "start_time": "2023-03-22T18:23:30.194Z"
   },
   {
    "duration": 41,
    "start_time": "2023-03-22T18:23:30.244Z"
   },
   {
    "duration": 393,
    "start_time": "2023-03-22T18:23:30.286Z"
   },
   {
    "duration": 2,
    "start_time": "2023-03-22T18:23:30.681Z"
   },
   {
    "duration": 456,
    "start_time": "2023-03-22T18:23:30.685Z"
   },
   {
    "duration": 57,
    "start_time": "2023-03-22T18:23:31.144Z"
   },
   {
    "duration": 30,
    "start_time": "2023-03-22T18:23:31.204Z"
   },
   {
    "duration": 3676,
    "start_time": "2023-03-22T18:23:31.236Z"
   },
   {
    "duration": 7,
    "start_time": "2023-03-22T18:23:34.914Z"
   },
   {
    "duration": 4,
    "start_time": "2023-03-22T18:23:34.923Z"
   },
   {
    "duration": 86,
    "start_time": "2023-03-22T18:23:34.929Z"
   },
   {
    "duration": 1565,
    "start_time": "2023-03-22T18:23:35.017Z"
   },
   {
    "duration": 15,
    "start_time": "2023-03-22T18:23:36.584Z"
   },
   {
    "duration": 21,
    "start_time": "2023-03-22T18:23:36.601Z"
   },
   {
    "duration": 19,
    "start_time": "2023-03-22T18:23:36.624Z"
   },
   {
    "duration": 8,
    "start_time": "2023-03-22T18:23:36.644Z"
   },
   {
    "duration": 262,
    "start_time": "2023-03-22T18:23:36.654Z"
   },
   {
    "duration": 137,
    "start_time": "2023-03-22T18:23:36.919Z"
   },
   {
    "duration": 139,
    "start_time": "2023-03-22T18:23:37.058Z"
   },
   {
    "duration": 159,
    "start_time": "2023-03-22T18:23:37.200Z"
   },
   {
    "duration": 15,
    "start_time": "2023-03-22T18:23:37.362Z"
   },
   {
    "duration": 188,
    "start_time": "2023-03-22T18:23:37.380Z"
   },
   {
    "duration": 147,
    "start_time": "2023-03-22T18:23:37.569Z"
   },
   {
    "duration": 145,
    "start_time": "2023-03-22T18:23:37.718Z"
   },
   {
    "duration": 134,
    "start_time": "2023-03-22T18:23:37.864Z"
   },
   {
    "duration": 134,
    "start_time": "2023-03-22T18:23:38.001Z"
   },
   {
    "duration": 137,
    "start_time": "2023-03-22T18:23:38.137Z"
   },
   {
    "duration": 170,
    "start_time": "2023-03-22T18:23:38.276Z"
   },
   {
    "duration": 135,
    "start_time": "2023-03-22T18:23:38.448Z"
   },
   {
    "duration": 29,
    "start_time": "2023-03-22T18:23:38.585Z"
   },
   {
    "duration": 20,
    "start_time": "2023-03-22T18:23:38.617Z"
   },
   {
    "duration": 15,
    "start_time": "2023-03-22T18:23:38.639Z"
   },
   {
    "duration": 12,
    "start_time": "2023-03-22T18:23:38.656Z"
   },
   {
    "duration": 18,
    "start_time": "2023-03-22T18:23:38.670Z"
   },
   {
    "duration": 19,
    "start_time": "2023-03-22T18:23:38.690Z"
   },
   {
    "duration": 21,
    "start_time": "2023-03-22T18:23:38.711Z"
   },
   {
    "duration": 12,
    "start_time": "2023-03-22T18:23:38.734Z"
   },
   {
    "duration": 25,
    "start_time": "2023-03-22T18:23:38.748Z"
   },
   {
    "duration": 106,
    "start_time": "2023-03-22T18:23:38.775Z"
   },
   {
    "duration": 6,
    "start_time": "2023-03-22T18:23:38.883Z"
   },
   {
    "duration": 11,
    "start_time": "2023-03-22T18:23:38.898Z"
   },
   {
    "duration": 11,
    "start_time": "2023-03-22T18:23:38.911Z"
   },
   {
    "duration": 6,
    "start_time": "2023-03-22T18:23:38.923Z"
   },
   {
    "duration": 144,
    "start_time": "2023-03-22T18:35:18.583Z"
   },
   {
    "duration": 257,
    "start_time": "2023-03-22T18:35:27.068Z"
   },
   {
    "duration": 232,
    "start_time": "2023-03-22T18:36:37.188Z"
   },
   {
    "duration": 134,
    "start_time": "2023-03-22T18:36:42.341Z"
   },
   {
    "duration": 248,
    "start_time": "2023-03-22T18:36:45.699Z"
   },
   {
    "duration": 219,
    "start_time": "2023-03-22T18:37:12.026Z"
   },
   {
    "duration": 304,
    "start_time": "2023-03-22T18:37:41.843Z"
   },
   {
    "duration": 144,
    "start_time": "2023-03-22T18:38:02.565Z"
   },
   {
    "duration": 144,
    "start_time": "2023-03-22T18:38:16.226Z"
   },
   {
    "duration": 158,
    "start_time": "2023-03-22T18:38:19.580Z"
   },
   {
    "duration": 308,
    "start_time": "2023-03-22T18:38:31.539Z"
   },
   {
    "duration": 215,
    "start_time": "2023-03-22T18:38:36.526Z"
   },
   {
    "duration": 349,
    "start_time": "2023-03-22T18:38:46.094Z"
   },
   {
    "duration": 123,
    "start_time": "2023-03-22T18:38:54.952Z"
   },
   {
    "duration": 270,
    "start_time": "2023-03-22T18:41:23.170Z"
   },
   {
    "duration": 263,
    "start_time": "2023-03-22T18:41:27.060Z"
   },
   {
    "duration": 220,
    "start_time": "2023-03-22T18:41:39.716Z"
   },
   {
    "duration": 277,
    "start_time": "2023-03-22T18:41:44.935Z"
   },
   {
    "duration": 267,
    "start_time": "2023-03-22T18:41:48.835Z"
   },
   {
    "duration": 263,
    "start_time": "2023-03-22T18:41:57.344Z"
   },
   {
    "duration": 230,
    "start_time": "2023-03-22T18:42:10.519Z"
   },
   {
    "duration": 245,
    "start_time": "2023-03-22T18:42:28.198Z"
   },
   {
    "duration": 284,
    "start_time": "2023-03-22T18:42:39.740Z"
   },
   {
    "duration": 134,
    "start_time": "2023-03-22T18:45:49.751Z"
   },
   {
    "duration": 133,
    "start_time": "2023-03-22T18:45:54.943Z"
   },
   {
    "duration": 136,
    "start_time": "2023-03-22T18:46:51.832Z"
   },
   {
    "duration": 238,
    "start_time": "2023-03-22T18:47:27.944Z"
   },
   {
    "duration": 129,
    "start_time": "2023-03-22T18:47:44.668Z"
   },
   {
    "duration": 139,
    "start_time": "2023-03-22T18:47:49.432Z"
   },
   {
    "duration": 143,
    "start_time": "2023-03-22T18:48:07.836Z"
   },
   {
    "duration": 7,
    "start_time": "2023-03-22T18:49:20.625Z"
   },
   {
    "duration": 7,
    "start_time": "2023-03-22T18:49:24.863Z"
   },
   {
    "duration": 8,
    "start_time": "2023-03-22T18:50:58.957Z"
   },
   {
    "duration": 8,
    "start_time": "2023-03-22T18:51:14.651Z"
   },
   {
    "duration": 13,
    "start_time": "2023-03-22T18:56:31.054Z"
   },
   {
    "duration": 1385,
    "start_time": "2023-03-22T18:57:29.641Z"
   },
   {
    "duration": 109,
    "start_time": "2023-03-22T18:57:31.029Z"
   },
   {
    "duration": 5,
    "start_time": "2023-03-22T18:57:31.140Z"
   },
   {
    "duration": 67,
    "start_time": "2023-03-22T18:57:31.148Z"
   },
   {
    "duration": 23,
    "start_time": "2023-03-22T18:57:31.218Z"
   },
   {
    "duration": 38,
    "start_time": "2023-03-22T18:57:31.243Z"
   },
   {
    "duration": 44,
    "start_time": "2023-03-22T18:57:31.283Z"
   },
   {
    "duration": 39,
    "start_time": "2023-03-22T18:57:31.329Z"
   },
   {
    "duration": 44,
    "start_time": "2023-03-22T18:57:31.370Z"
   },
   {
    "duration": 38,
    "start_time": "2023-03-22T18:57:31.417Z"
   },
   {
    "duration": 49,
    "start_time": "2023-03-22T18:57:31.457Z"
   },
   {
    "duration": 22,
    "start_time": "2023-03-22T18:57:31.509Z"
   },
   {
    "duration": 20,
    "start_time": "2023-03-22T18:57:31.533Z"
   },
   {
    "duration": 31,
    "start_time": "2023-03-22T18:57:31.554Z"
   },
   {
    "duration": 32,
    "start_time": "2023-03-22T18:57:31.586Z"
   },
   {
    "duration": 20,
    "start_time": "2023-03-22T18:57:31.620Z"
   },
   {
    "duration": 17,
    "start_time": "2023-03-22T18:57:31.642Z"
   },
   {
    "duration": 11,
    "start_time": "2023-03-22T18:57:31.661Z"
   },
   {
    "duration": 10,
    "start_time": "2023-03-22T18:57:31.673Z"
   },
   {
    "duration": 206,
    "start_time": "2023-03-22T18:57:31.684Z"
   },
   {
    "duration": 15,
    "start_time": "2023-03-22T18:57:31.898Z"
   },
   {
    "duration": 24,
    "start_time": "2023-03-22T18:57:31.915Z"
   },
   {
    "duration": 24,
    "start_time": "2023-03-22T18:57:31.941Z"
   },
   {
    "duration": 44,
    "start_time": "2023-03-22T18:57:31.967Z"
   },
   {
    "duration": 6,
    "start_time": "2023-03-22T18:57:32.013Z"
   },
   {
    "duration": 19,
    "start_time": "2023-03-22T18:57:32.020Z"
   },
   {
    "duration": 6,
    "start_time": "2023-03-22T18:57:32.041Z"
   },
   {
    "duration": 23,
    "start_time": "2023-03-22T18:57:32.053Z"
   },
   {
    "duration": 24,
    "start_time": "2023-03-22T18:57:32.078Z"
   },
   {
    "duration": 17,
    "start_time": "2023-03-22T18:57:32.105Z"
   },
   {
    "duration": 14,
    "start_time": "2023-03-22T18:57:32.124Z"
   },
   {
    "duration": 19,
    "start_time": "2023-03-22T18:57:32.140Z"
   },
   {
    "duration": 11,
    "start_time": "2023-03-22T18:57:32.161Z"
   },
   {
    "duration": 43,
    "start_time": "2023-03-22T18:57:32.174Z"
   },
   {
    "duration": 25,
    "start_time": "2023-03-22T18:57:32.219Z"
   },
   {
    "duration": 5,
    "start_time": "2023-03-22T18:57:32.246Z"
   },
   {
    "duration": 21,
    "start_time": "2023-03-22T18:57:32.252Z"
   },
   {
    "duration": 19,
    "start_time": "2023-03-22T18:57:32.297Z"
   },
   {
    "duration": 11,
    "start_time": "2023-03-22T18:57:32.318Z"
   },
   {
    "duration": 11,
    "start_time": "2023-03-22T18:57:32.330Z"
   },
   {
    "duration": 5,
    "start_time": "2023-03-22T18:57:32.342Z"
   },
   {
    "duration": 7,
    "start_time": "2023-03-22T18:57:32.349Z"
   },
   {
    "duration": 12,
    "start_time": "2023-03-22T18:57:32.357Z"
   },
   {
    "duration": 32,
    "start_time": "2023-03-22T18:57:32.371Z"
   },
   {
    "duration": 16,
    "start_time": "2023-03-22T18:57:32.405Z"
   },
   {
    "duration": 24,
    "start_time": "2023-03-22T18:57:32.423Z"
   },
   {
    "duration": 11,
    "start_time": "2023-03-22T18:57:32.449Z"
   },
   {
    "duration": 8,
    "start_time": "2023-03-22T18:57:32.462Z"
   },
   {
    "duration": 29,
    "start_time": "2023-03-22T18:57:32.471Z"
   },
   {
    "duration": 321,
    "start_time": "2023-03-22T18:57:32.503Z"
   },
   {
    "duration": 3,
    "start_time": "2023-03-22T18:57:32.826Z"
   },
   {
    "duration": 240,
    "start_time": "2023-03-22T18:57:32.831Z"
   },
   {
    "duration": 5,
    "start_time": "2023-03-22T18:57:33.073Z"
   },
   {
    "duration": 6,
    "start_time": "2023-03-22T18:57:33.097Z"
   },
   {
    "duration": 2738,
    "start_time": "2023-03-22T18:57:33.105Z"
   },
   {
    "duration": 5,
    "start_time": "2023-03-22T18:57:35.845Z"
   },
   {
    "duration": 6,
    "start_time": "2023-03-22T18:57:35.852Z"
   },
   {
    "duration": 81,
    "start_time": "2023-03-22T18:57:35.860Z"
   },
   {
    "duration": 1490,
    "start_time": "2023-03-22T18:57:35.943Z"
   },
   {
    "duration": 7,
    "start_time": "2023-03-22T18:57:37.435Z"
   },
   {
    "duration": 37,
    "start_time": "2023-03-22T18:57:37.444Z"
   },
   {
    "duration": 30,
    "start_time": "2023-03-22T18:57:37.482Z"
   },
   {
    "duration": 50,
    "start_time": "2023-03-22T18:57:37.514Z"
   },
   {
    "duration": 230,
    "start_time": "2023-03-22T18:57:37.566Z"
   },
   {
    "duration": 140,
    "start_time": "2023-03-22T18:57:37.800Z"
   },
   {
    "duration": 133,
    "start_time": "2023-03-22T18:57:37.942Z"
   },
   {
    "duration": 139,
    "start_time": "2023-03-22T18:57:38.076Z"
   },
   {
    "duration": 16,
    "start_time": "2023-03-22T18:57:38.217Z"
   },
   {
    "duration": 144,
    "start_time": "2023-03-22T18:57:38.234Z"
   },
   {
    "duration": 148,
    "start_time": "2023-03-22T18:57:38.380Z"
   },
   {
    "duration": 141,
    "start_time": "2023-03-22T18:57:38.531Z"
   },
   {
    "duration": 142,
    "start_time": "2023-03-22T18:57:38.674Z"
   },
   {
    "duration": 138,
    "start_time": "2023-03-22T18:57:38.818Z"
   },
   {
    "duration": 11,
    "start_time": "2023-03-22T18:57:38.957Z"
   },
   {
    "duration": 7,
    "start_time": "2023-03-22T18:57:38.970Z"
   },
   {
    "duration": 18,
    "start_time": "2023-03-22T18:57:38.998Z"
   },
   {
    "duration": 140,
    "start_time": "2023-03-22T18:57:39.020Z"
   },
   {
    "duration": 119,
    "start_time": "2023-03-22T18:57:39.162Z"
   },
   {
    "duration": 151,
    "start_time": "2023-03-22T18:57:39.283Z"
   },
   {
    "duration": 245,
    "start_time": "2023-03-22T18:57:39.436Z"
   },
   {
    "duration": 29,
    "start_time": "2023-03-22T18:57:39.683Z"
   },
   {
    "duration": 10,
    "start_time": "2023-03-22T18:57:39.720Z"
   },
   {
    "duration": 13,
    "start_time": "2023-03-22T18:57:39.731Z"
   },
   {
    "duration": 11,
    "start_time": "2023-03-22T18:57:39.747Z"
   },
   {
    "duration": 7,
    "start_time": "2023-03-22T18:57:39.759Z"
   },
   {
    "duration": 10,
    "start_time": "2023-03-22T18:57:39.797Z"
   },
   {
    "duration": 22,
    "start_time": "2023-03-22T18:57:39.809Z"
   },
   {
    "duration": 10,
    "start_time": "2023-03-22T18:57:39.833Z"
   },
   {
    "duration": 13,
    "start_time": "2023-03-22T18:57:39.846Z"
   },
   {
    "duration": 15,
    "start_time": "2023-03-22T18:57:39.861Z"
   },
   {
    "duration": 25,
    "start_time": "2023-03-22T18:57:39.878Z"
   },
   {
    "duration": 28,
    "start_time": "2023-03-22T18:57:39.905Z"
   },
   {
    "duration": 27,
    "start_time": "2023-03-22T18:57:39.935Z"
   },
   {
    "duration": 18,
    "start_time": "2023-03-22T18:57:39.966Z"
   },
   {
    "duration": 1408,
    "start_time": "2023-03-24T15:26:04.612Z"
   },
   {
    "duration": 100,
    "start_time": "2023-03-24T15:26:06.022Z"
   },
   {
    "duration": 5,
    "start_time": "2023-03-24T15:26:06.125Z"
   },
   {
    "duration": 37,
    "start_time": "2023-03-24T15:26:06.131Z"
   },
   {
    "duration": 3,
    "start_time": "2023-03-24T15:26:06.171Z"
   },
   {
    "duration": 34,
    "start_time": "2023-03-24T15:26:06.175Z"
   },
   {
    "duration": 22,
    "start_time": "2023-03-24T15:26:06.211Z"
   },
   {
    "duration": 6,
    "start_time": "2023-03-24T15:26:06.235Z"
   },
   {
    "duration": 14,
    "start_time": "2023-03-24T15:26:06.242Z"
   },
   {
    "duration": 11,
    "start_time": "2023-03-24T15:26:06.258Z"
   },
   {
    "duration": 30,
    "start_time": "2023-03-24T15:26:06.270Z"
   },
   {
    "duration": 18,
    "start_time": "2023-03-24T15:26:06.302Z"
   },
   {
    "duration": 18,
    "start_time": "2023-03-24T15:26:06.322Z"
   },
   {
    "duration": 10,
    "start_time": "2023-03-24T15:26:06.343Z"
   },
   {
    "duration": 10,
    "start_time": "2023-03-24T15:26:06.355Z"
   },
   {
    "duration": 11,
    "start_time": "2023-03-24T15:26:06.366Z"
   },
   {
    "duration": 47,
    "start_time": "2023-03-24T15:26:06.378Z"
   },
   {
    "duration": 19,
    "start_time": "2023-03-24T15:26:06.428Z"
   },
   {
    "duration": 12,
    "start_time": "2023-03-24T15:26:06.450Z"
   },
   {
    "duration": 212,
    "start_time": "2023-03-24T15:26:06.464Z"
   },
   {
    "duration": 17,
    "start_time": "2023-03-24T15:26:06.678Z"
   },
   {
    "duration": 32,
    "start_time": "2023-03-24T15:26:06.697Z"
   },
   {
    "duration": 20,
    "start_time": "2023-03-24T15:26:06.731Z"
   },
   {
    "duration": 7,
    "start_time": "2023-03-24T15:26:06.753Z"
   },
   {
    "duration": 28,
    "start_time": "2023-03-24T15:26:06.761Z"
   },
   {
    "duration": 8,
    "start_time": "2023-03-24T15:26:06.791Z"
   },
   {
    "duration": 24,
    "start_time": "2023-03-24T15:26:06.801Z"
   },
   {
    "duration": 12,
    "start_time": "2023-03-24T15:26:06.827Z"
   },
   {
    "duration": 28,
    "start_time": "2023-03-24T15:26:06.841Z"
   },
   {
    "duration": 8,
    "start_time": "2023-03-24T15:26:06.871Z"
   },
   {
    "duration": 12,
    "start_time": "2023-03-24T15:26:06.881Z"
   },
   {
    "duration": 30,
    "start_time": "2023-03-24T15:26:06.895Z"
   },
   {
    "duration": 22,
    "start_time": "2023-03-24T15:26:06.927Z"
   },
   {
    "duration": 10,
    "start_time": "2023-03-24T15:26:06.950Z"
   },
   {
    "duration": 15,
    "start_time": "2023-03-24T15:26:06.962Z"
   },
   {
    "duration": 54,
    "start_time": "2023-03-24T15:26:06.988Z"
   },
   {
    "duration": 4,
    "start_time": "2023-03-24T15:26:07.044Z"
   },
   {
    "duration": 19,
    "start_time": "2023-03-24T15:26:07.049Z"
   },
   {
    "duration": 28,
    "start_time": "2023-03-24T15:26:07.070Z"
   },
   {
    "duration": 11,
    "start_time": "2023-03-24T15:26:07.106Z"
   },
   {
    "duration": 5,
    "start_time": "2023-03-24T15:26:07.123Z"
   },
   {
    "duration": 8,
    "start_time": "2023-03-24T15:26:07.130Z"
   },
   {
    "duration": 13,
    "start_time": "2023-03-24T15:26:07.140Z"
   },
   {
    "duration": 17,
    "start_time": "2023-03-24T15:26:07.155Z"
   },
   {
    "duration": 32,
    "start_time": "2023-03-24T15:26:07.174Z"
   },
   {
    "duration": 14,
    "start_time": "2023-03-24T15:26:07.208Z"
   },
   {
    "duration": 7,
    "start_time": "2023-03-24T15:26:07.224Z"
   },
   {
    "duration": 171,
    "start_time": "2023-03-24T15:26:07.233Z"
   },
   {
    "duration": 8,
    "start_time": "2023-03-24T15:26:07.406Z"
   },
   {
    "duration": 7,
    "start_time": "2023-03-24T15:26:07.416Z"
   },
   {
    "duration": 8,
    "start_time": "2023-03-24T15:26:07.425Z"
   },
   {
    "duration": 12,
    "start_time": "2023-03-24T15:26:07.435Z"
   },
   {
    "duration": 9,
    "start_time": "2023-03-24T15:26:07.448Z"
   },
   {
    "duration": 36,
    "start_time": "2023-03-24T15:26:07.458Z"
   },
   {
    "duration": 35,
    "start_time": "2023-03-24T15:26:07.496Z"
   },
   {
    "duration": 11,
    "start_time": "2023-03-24T15:26:07.533Z"
   },
   {
    "duration": 9,
    "start_time": "2023-03-24T15:26:07.546Z"
   },
   {
    "duration": 13,
    "start_time": "2023-03-24T15:26:07.556Z"
   },
   {
    "duration": 332,
    "start_time": "2023-03-24T15:26:07.587Z"
   },
   {
    "duration": 13,
    "start_time": "2023-03-24T15:26:07.921Z"
   },
   {
    "duration": 21,
    "start_time": "2023-03-24T15:26:07.935Z"
   },
   {
    "duration": 58,
    "start_time": "2023-03-24T15:26:07.958Z"
   },
   {
    "duration": 9,
    "start_time": "2023-03-24T15:26:08.020Z"
   },
   {
    "duration": 3,
    "start_time": "2023-03-24T15:26:08.031Z"
   },
   {
    "duration": 16,
    "start_time": "2023-03-24T15:26:08.036Z"
   },
   {
    "duration": 318,
    "start_time": "2023-03-24T15:26:08.054Z"
   },
   {
    "duration": 5,
    "start_time": "2023-03-24T15:26:08.373Z"
   },
   {
    "duration": 9,
    "start_time": "2023-03-24T15:26:08.379Z"
   },
   {
    "duration": 25,
    "start_time": "2023-03-24T15:26:08.390Z"
   },
   {
    "duration": 291,
    "start_time": "2023-03-24T15:26:08.417Z"
   },
   {
    "duration": 604,
    "start_time": "2023-03-24T15:26:08.710Z"
   },
   {
    "duration": 6,
    "start_time": "2023-03-24T15:26:09.316Z"
   },
   {
    "duration": 11,
    "start_time": "2023-03-24T15:26:09.324Z"
   },
   {
    "duration": 69,
    "start_time": "2023-03-24T15:26:09.337Z"
   },
   {
    "duration": 3146,
    "start_time": "2023-03-24T15:26:09.409Z"
   },
   {
    "duration": 6,
    "start_time": "2023-03-24T15:26:12.557Z"
   },
   {
    "duration": 14,
    "start_time": "2023-03-24T15:26:12.565Z"
   },
   {
    "duration": 23,
    "start_time": "2023-03-24T15:26:12.581Z"
   },
   {
    "duration": 406,
    "start_time": "2023-03-24T15:26:12.606Z"
   },
   {
    "duration": 560,
    "start_time": "2023-03-24T15:26:13.014Z"
   },
   {
    "duration": 23,
    "start_time": "2023-03-24T15:26:13.576Z"
   },
   {
    "duration": 21,
    "start_time": "2023-03-24T15:26:13.601Z"
   },
   {
    "duration": 20,
    "start_time": "2023-03-24T15:26:13.624Z"
   },
   {
    "duration": 457,
    "start_time": "2023-03-24T15:26:13.645Z"
   },
   {
    "duration": 153,
    "start_time": "2023-03-24T15:26:14.105Z"
   },
   {
    "duration": 9,
    "start_time": "2023-03-24T15:26:14.259Z"
   },
   {
    "duration": 29,
    "start_time": "2023-03-24T15:26:14.270Z"
   },
   {
    "duration": 16,
    "start_time": "2023-03-24T15:26:14.302Z"
   },
   {
    "duration": 398,
    "start_time": "2023-03-24T15:26:14.320Z"
   },
   {
    "duration": 154,
    "start_time": "2023-03-24T15:26:14.720Z"
   },
   {
    "duration": 159,
    "start_time": "2023-03-24T15:26:14.876Z"
   },
   {
    "duration": 9,
    "start_time": "2023-03-24T15:26:15.037Z"
   },
   {
    "duration": 15,
    "start_time": "2023-03-24T15:26:15.048Z"
   },
   {
    "duration": 27,
    "start_time": "2023-03-24T15:26:15.065Z"
   },
   {
    "duration": 21,
    "start_time": "2023-03-24T15:26:15.094Z"
   },
   {
    "duration": 7,
    "start_time": "2023-03-24T15:26:15.117Z"
   },
   {
    "duration": 9,
    "start_time": "2023-03-24T15:26:15.126Z"
   },
   {
    "duration": 342,
    "start_time": "2023-03-24T15:26:15.137Z"
   },
   {
    "duration": 138,
    "start_time": "2023-03-24T15:26:15.480Z"
   },
   {
    "duration": 17,
    "start_time": "2023-03-24T15:26:15.619Z"
   },
   {
    "duration": 26,
    "start_time": "2023-03-24T15:26:15.638Z"
   },
   {
    "duration": 53,
    "start_time": "2023-03-24T15:26:15.666Z"
   },
   {
    "duration": 8,
    "start_time": "2023-03-24T15:26:15.721Z"
   },
   {
    "duration": 38,
    "start_time": "2023-03-24T15:26:15.731Z"
   },
   {
    "duration": 11,
    "start_time": "2023-03-24T15:26:15.771Z"
   },
   {
    "duration": 44,
    "start_time": "2023-03-24T15:26:15.783Z"
   },
   {
    "duration": 13,
    "start_time": "2023-03-24T15:26:15.829Z"
   },
   {
    "duration": 8,
    "start_time": "2023-03-24T15:26:15.844Z"
   },
   {
    "duration": 6,
    "start_time": "2023-03-24T15:26:15.853Z"
   },
   {
    "duration": 13,
    "start_time": "2023-03-24T15:26:15.860Z"
   },
   {
    "duration": 10,
    "start_time": "2023-03-24T15:26:15.875Z"
   },
   {
    "duration": 20,
    "start_time": "2023-03-24T15:26:15.893Z"
   },
   {
    "duration": 9,
    "start_time": "2023-03-24T15:26:15.915Z"
   },
   {
    "duration": 10,
    "start_time": "2023-03-24T15:26:15.925Z"
   },
   {
    "duration": 6,
    "start_time": "2023-03-24T15:26:15.937Z"
   },
   {
    "duration": 536,
    "start_time": "2023-03-24T16:52:32.467Z"
   },
   {
    "duration": 588,
    "start_time": "2023-03-24T16:52:45.843Z"
   },
   {
    "duration": 501,
    "start_time": "2023-03-24T16:52:58.516Z"
   },
   {
    "duration": 496,
    "start_time": "2023-03-24T16:53:03.325Z"
   },
   {
    "duration": 500,
    "start_time": "2023-03-24T16:53:09.821Z"
   },
   {
    "duration": 528,
    "start_time": "2023-03-24T16:53:18.779Z"
   },
   {
    "duration": 615,
    "start_time": "2023-03-24T16:53:35.582Z"
   },
   {
    "duration": 420,
    "start_time": "2023-03-24T16:55:08.207Z"
   },
   {
    "duration": 325,
    "start_time": "2023-03-24T16:55:18.657Z"
   },
   {
    "duration": 294,
    "start_time": "2023-03-24T16:55:31.738Z"
   },
   {
    "duration": 545,
    "start_time": "2023-03-24T16:57:46.880Z"
   },
   {
    "duration": 343,
    "start_time": "2023-03-24T16:58:37.785Z"
   },
   {
    "duration": 478,
    "start_time": "2023-03-24T16:58:44.441Z"
   },
   {
    "duration": 595,
    "start_time": "2023-03-24T16:58:53.721Z"
   },
   {
    "duration": 1333,
    "start_time": "2023-03-24T17:02:58.087Z"
   },
   {
    "duration": 100,
    "start_time": "2023-03-24T17:02:59.422Z"
   },
   {
    "duration": 5,
    "start_time": "2023-03-24T17:02:59.524Z"
   },
   {
    "duration": 21,
    "start_time": "2023-03-24T17:02:59.531Z"
   },
   {
    "duration": 4,
    "start_time": "2023-03-24T17:02:59.554Z"
   },
   {
    "duration": 37,
    "start_time": "2023-03-24T17:02:59.559Z"
   },
   {
    "duration": 16,
    "start_time": "2023-03-24T17:02:59.598Z"
   },
   {
    "duration": 6,
    "start_time": "2023-03-24T17:02:59.616Z"
   },
   {
    "duration": 7,
    "start_time": "2023-03-24T17:02:59.624Z"
   },
   {
    "duration": 8,
    "start_time": "2023-03-24T17:02:59.634Z"
   },
   {
    "duration": 47,
    "start_time": "2023-03-24T17:02:59.644Z"
   },
   {
    "duration": 5,
    "start_time": "2023-03-24T17:02:59.692Z"
   },
   {
    "duration": 7,
    "start_time": "2023-03-24T17:02:59.698Z"
   },
   {
    "duration": 9,
    "start_time": "2023-03-24T17:02:59.707Z"
   },
   {
    "duration": 9,
    "start_time": "2023-03-24T17:02:59.718Z"
   },
   {
    "duration": 7,
    "start_time": "2023-03-24T17:02:59.728Z"
   },
   {
    "duration": 17,
    "start_time": "2023-03-24T17:02:59.736Z"
   },
   {
    "duration": 9,
    "start_time": "2023-03-24T17:02:59.788Z"
   },
   {
    "duration": 5,
    "start_time": "2023-03-24T17:02:59.799Z"
   },
   {
    "duration": 193,
    "start_time": "2023-03-24T17:02:59.805Z"
   },
   {
    "duration": 8,
    "start_time": "2023-03-24T17:03:00.000Z"
   },
   {
    "duration": 21,
    "start_time": "2023-03-24T17:03:00.010Z"
   },
   {
    "duration": 13,
    "start_time": "2023-03-24T17:03:00.033Z"
   },
   {
    "duration": 16,
    "start_time": "2023-03-24T17:03:00.047Z"
   },
   {
    "duration": 39,
    "start_time": "2023-03-24T17:03:00.065Z"
   },
   {
    "duration": 5,
    "start_time": "2023-03-24T17:03:00.105Z"
   },
   {
    "duration": 10,
    "start_time": "2023-03-24T17:03:00.111Z"
   },
   {
    "duration": 19,
    "start_time": "2023-03-24T17:03:00.126Z"
   },
   {
    "duration": 29,
    "start_time": "2023-03-24T17:03:00.149Z"
   },
   {
    "duration": 17,
    "start_time": "2023-03-24T17:03:00.180Z"
   },
   {
    "duration": 50,
    "start_time": "2023-03-24T17:03:00.198Z"
   },
   {
    "duration": 20,
    "start_time": "2023-03-24T17:03:00.250Z"
   },
   {
    "duration": 31,
    "start_time": "2023-03-24T17:03:00.272Z"
   },
   {
    "duration": 22,
    "start_time": "2023-03-24T17:03:00.305Z"
   },
   {
    "duration": 35,
    "start_time": "2023-03-24T17:03:00.329Z"
   },
   {
    "duration": 45,
    "start_time": "2023-03-24T17:03:00.366Z"
   },
   {
    "duration": 7,
    "start_time": "2023-03-24T17:03:00.413Z"
   },
   {
    "duration": 35,
    "start_time": "2023-03-24T17:03:00.422Z"
   },
   {
    "duration": 40,
    "start_time": "2023-03-24T17:03:00.459Z"
   },
   {
    "duration": 32,
    "start_time": "2023-03-24T17:03:00.501Z"
   },
   {
    "duration": 33,
    "start_time": "2023-03-24T17:03:00.535Z"
   },
   {
    "duration": 20,
    "start_time": "2023-03-24T17:03:00.570Z"
   },
   {
    "duration": 37,
    "start_time": "2023-03-24T17:03:00.592Z"
   },
   {
    "duration": 44,
    "start_time": "2023-03-24T17:03:00.631Z"
   },
   {
    "duration": 36,
    "start_time": "2023-03-24T17:03:00.678Z"
   },
   {
    "duration": 15,
    "start_time": "2023-03-24T17:03:00.717Z"
   },
   {
    "duration": 31,
    "start_time": "2023-03-24T17:03:00.735Z"
   },
   {
    "duration": 179,
    "start_time": "2023-03-24T17:03:00.768Z"
   },
   {
    "duration": 6,
    "start_time": "2023-03-24T17:03:00.949Z"
   },
   {
    "duration": 27,
    "start_time": "2023-03-24T17:03:00.956Z"
   },
   {
    "duration": 59,
    "start_time": "2023-03-24T17:03:00.984Z"
   },
   {
    "duration": 48,
    "start_time": "2023-03-24T17:03:01.044Z"
   },
   {
    "duration": 41,
    "start_time": "2023-03-24T17:03:01.094Z"
   },
   {
    "duration": 46,
    "start_time": "2023-03-24T17:03:01.137Z"
   },
   {
    "duration": 56,
    "start_time": "2023-03-24T17:03:01.184Z"
   },
   {
    "duration": 38,
    "start_time": "2023-03-24T17:03:01.242Z"
   },
   {
    "duration": 48,
    "start_time": "2023-03-24T17:03:01.283Z"
   },
   {
    "duration": 49,
    "start_time": "2023-03-24T17:03:01.333Z"
   },
   {
    "duration": 354,
    "start_time": "2023-03-24T17:03:01.383Z"
   },
   {
    "duration": 10,
    "start_time": "2023-03-24T17:03:01.739Z"
   },
   {
    "duration": 50,
    "start_time": "2023-03-24T17:03:01.751Z"
   },
   {
    "duration": 61,
    "start_time": "2023-03-24T17:03:01.804Z"
   },
   {
    "duration": 10,
    "start_time": "2023-03-24T17:03:01.867Z"
   },
   {
    "duration": 37,
    "start_time": "2023-03-24T17:03:01.879Z"
   },
   {
    "duration": 60,
    "start_time": "2023-03-24T17:03:01.918Z"
   },
   {
    "duration": 255,
    "start_time": "2023-03-24T17:03:01.980Z"
   },
   {
    "duration": 4,
    "start_time": "2023-03-24T17:03:02.237Z"
   },
   {
    "duration": 23,
    "start_time": "2023-03-24T17:03:02.244Z"
   },
   {
    "duration": 6,
    "start_time": "2023-03-24T17:03:02.269Z"
   },
   {
    "duration": 363,
    "start_time": "2023-03-24T17:03:02.277Z"
   },
   {
    "duration": 449,
    "start_time": "2023-03-24T17:03:02.642Z"
   },
   {
    "duration": 5,
    "start_time": "2023-03-24T17:03:03.094Z"
   },
   {
    "duration": 51,
    "start_time": "2023-03-24T17:03:03.101Z"
   },
   {
    "duration": 62,
    "start_time": "2023-03-24T17:03:03.154Z"
   },
   {
    "duration": 1421,
    "start_time": "2023-03-24T17:03:03.218Z"
   },
   {
    "duration": 8,
    "start_time": "2023-03-24T17:03:04.641Z"
   },
   {
    "duration": 19,
    "start_time": "2023-03-24T17:03:04.651Z"
   },
   {
    "duration": 21,
    "start_time": "2023-03-24T17:03:04.687Z"
   },
   {
    "duration": 299,
    "start_time": "2023-03-24T17:03:04.710Z"
   },
   {
    "duration": 321,
    "start_time": "2023-03-24T17:03:05.011Z"
   },
   {
    "duration": 9,
    "start_time": "2023-03-24T17:03:05.334Z"
   },
   {
    "duration": 8,
    "start_time": "2023-03-24T17:03:05.349Z"
   },
   {
    "duration": 30,
    "start_time": "2023-03-24T17:03:05.359Z"
   },
   {
    "duration": 419,
    "start_time": "2023-03-24T17:03:05.391Z"
   },
   {
    "duration": 134,
    "start_time": "2023-03-24T17:03:05.812Z"
   },
   {
    "duration": 11,
    "start_time": "2023-03-24T17:03:05.947Z"
   },
   {
    "duration": 29,
    "start_time": "2023-03-24T17:03:05.961Z"
   },
   {
    "duration": 32,
    "start_time": "2023-03-24T17:03:05.992Z"
   },
   {
    "duration": 336,
    "start_time": "2023-03-24T17:03:06.026Z"
   },
   {
    "duration": 139,
    "start_time": "2023-03-24T17:03:06.363Z"
   },
   {
    "duration": 523,
    "start_time": "2023-03-24T17:03:06.504Z"
   },
   {
    "duration": 147,
    "start_time": "2023-03-24T17:03:07.029Z"
   },
   {
    "duration": 16,
    "start_time": "2023-03-24T17:03:07.179Z"
   },
   {
    "duration": 23,
    "start_time": "2023-03-24T17:03:07.197Z"
   },
   {
    "duration": 16,
    "start_time": "2023-03-24T17:03:07.222Z"
   },
   {
    "duration": 13,
    "start_time": "2023-03-24T17:03:07.240Z"
   },
   {
    "duration": 7,
    "start_time": "2023-03-24T17:03:07.255Z"
   },
   {
    "duration": 11,
    "start_time": "2023-03-24T17:03:07.263Z"
   },
   {
    "duration": 333,
    "start_time": "2023-03-24T17:03:07.276Z"
   },
   {
    "duration": 121,
    "start_time": "2023-03-24T17:03:07.610Z"
   },
   {
    "duration": 16,
    "start_time": "2023-03-24T17:03:07.732Z"
   },
   {
    "duration": 45,
    "start_time": "2023-03-24T17:03:07.749Z"
   },
   {
    "duration": 30,
    "start_time": "2023-03-24T17:03:07.796Z"
   },
   {
    "duration": 5,
    "start_time": "2023-03-24T17:03:07.828Z"
   },
   {
    "duration": 12,
    "start_time": "2023-03-24T17:03:07.835Z"
   },
   {
    "duration": 16,
    "start_time": "2023-03-24T17:03:07.849Z"
   },
   {
    "duration": 23,
    "start_time": "2023-03-24T17:03:07.867Z"
   },
   {
    "duration": 8,
    "start_time": "2023-03-24T17:03:07.892Z"
   },
   {
    "duration": 11,
    "start_time": "2023-03-24T17:03:07.901Z"
   },
   {
    "duration": 10,
    "start_time": "2023-03-24T17:03:07.914Z"
   },
   {
    "duration": 116,
    "start_time": "2023-03-24T17:03:07.926Z"
   },
   {
    "duration": 17,
    "start_time": "2023-03-24T17:03:08.044Z"
   },
   {
    "duration": 13,
    "start_time": "2023-03-24T17:03:08.062Z"
   },
   {
    "duration": 22,
    "start_time": "2023-03-24T17:03:08.077Z"
   },
   {
    "duration": 11,
    "start_time": "2023-03-24T17:03:08.101Z"
   },
   {
    "duration": 6,
    "start_time": "2023-03-24T17:03:08.114Z"
   },
   {
    "duration": 54,
    "start_time": "2023-03-24T17:03:08.122Z"
   },
   {
    "duration": 3,
    "start_time": "2023-03-24T17:03:08.179Z"
   },
   {
    "duration": 13,
    "start_time": "2023-03-24T17:03:08.183Z"
   },
   {
    "duration": 7,
    "start_time": "2023-03-24T17:03:08.197Z"
   },
   {
    "duration": 7,
    "start_time": "2023-03-24T17:03:08.205Z"
   },
   {
    "duration": 7,
    "start_time": "2023-03-24T17:03:08.214Z"
   },
   {
    "duration": 7,
    "start_time": "2023-03-24T17:03:08.223Z"
   },
   {
    "duration": 668,
    "start_time": "2023-03-24T17:03:08.232Z"
   },
   {
    "duration": 646,
    "start_time": "2023-03-24T17:03:08.902Z"
   },
   {
    "duration": 630,
    "start_time": "2023-03-24T17:03:09.550Z"
   },
   {
    "duration": 697,
    "start_time": "2023-03-24T17:03:10.187Z"
   },
   {
    "duration": 1209,
    "start_time": "2023-03-25T15:06:53.209Z"
   },
   {
    "duration": 105,
    "start_time": "2023-03-25T15:06:54.419Z"
   },
   {
    "duration": 4,
    "start_time": "2023-03-25T15:06:54.525Z"
   },
   {
    "duration": 20,
    "start_time": "2023-03-25T15:06:54.531Z"
   },
   {
    "duration": 3,
    "start_time": "2023-03-25T15:06:54.553Z"
   },
   {
    "duration": 15,
    "start_time": "2023-03-25T15:06:54.557Z"
   },
   {
    "duration": 18,
    "start_time": "2023-03-25T15:06:54.573Z"
   },
   {
    "duration": 9,
    "start_time": "2023-03-25T15:06:54.592Z"
   },
   {
    "duration": 6,
    "start_time": "2023-03-25T15:06:54.602Z"
   },
   {
    "duration": 7,
    "start_time": "2023-03-25T15:06:54.611Z"
   },
   {
    "duration": 12,
    "start_time": "2023-03-25T15:06:54.619Z"
   },
   {
    "duration": 4,
    "start_time": "2023-03-25T15:06:54.633Z"
   },
   {
    "duration": 25,
    "start_time": "2023-03-25T15:06:54.638Z"
   },
   {
    "duration": 7,
    "start_time": "2023-03-25T15:06:54.664Z"
   },
   {
    "duration": 11,
    "start_time": "2023-03-25T15:06:54.672Z"
   },
   {
    "duration": 6,
    "start_time": "2023-03-25T15:06:54.685Z"
   },
   {
    "duration": 14,
    "start_time": "2023-03-25T15:06:54.692Z"
   },
   {
    "duration": 10,
    "start_time": "2023-03-25T15:06:54.708Z"
   },
   {
    "duration": 42,
    "start_time": "2023-03-25T15:06:54.720Z"
   },
   {
    "duration": 183,
    "start_time": "2023-03-25T15:06:54.764Z"
   },
   {
    "duration": 8,
    "start_time": "2023-03-25T15:06:54.961Z"
   },
   {
    "duration": 26,
    "start_time": "2023-03-25T15:06:54.971Z"
   },
   {
    "duration": 8,
    "start_time": "2023-03-25T15:06:54.999Z"
   },
   {
    "duration": 4,
    "start_time": "2023-03-25T15:06:55.008Z"
   },
   {
    "duration": 24,
    "start_time": "2023-03-25T15:06:55.014Z"
   },
   {
    "duration": 24,
    "start_time": "2023-03-25T15:06:55.040Z"
   },
   {
    "duration": 10,
    "start_time": "2023-03-25T15:06:55.066Z"
   },
   {
    "duration": 6,
    "start_time": "2023-03-25T15:06:55.081Z"
   },
   {
    "duration": 24,
    "start_time": "2023-03-25T15:06:55.088Z"
   },
   {
    "duration": 9,
    "start_time": "2023-03-25T15:06:55.113Z"
   },
   {
    "duration": 7,
    "start_time": "2023-03-25T15:06:55.123Z"
   },
   {
    "duration": 15,
    "start_time": "2023-03-25T15:06:55.161Z"
   },
   {
    "duration": 15,
    "start_time": "2023-03-25T15:06:55.177Z"
   },
   {
    "duration": 10,
    "start_time": "2023-03-25T15:06:55.194Z"
   },
   {
    "duration": 16,
    "start_time": "2023-03-25T15:06:55.206Z"
   },
   {
    "duration": 58,
    "start_time": "2023-03-25T15:06:55.224Z"
   },
   {
    "duration": 5,
    "start_time": "2023-03-25T15:06:55.283Z"
   },
   {
    "duration": 16,
    "start_time": "2023-03-25T15:06:55.290Z"
   },
   {
    "duration": 6,
    "start_time": "2023-03-25T15:06:55.308Z"
   },
   {
    "duration": 5,
    "start_time": "2023-03-25T15:06:55.316Z"
   },
   {
    "duration": 5,
    "start_time": "2023-03-25T15:06:55.323Z"
   },
   {
    "duration": 6,
    "start_time": "2023-03-25T15:06:55.362Z"
   },
   {
    "duration": 10,
    "start_time": "2023-03-25T15:06:55.369Z"
   },
   {
    "duration": 10,
    "start_time": "2023-03-25T15:06:55.381Z"
   },
   {
    "duration": 28,
    "start_time": "2023-03-25T15:06:55.393Z"
   },
   {
    "duration": 17,
    "start_time": "2023-03-25T15:06:55.422Z"
   },
   {
    "duration": 9,
    "start_time": "2023-03-25T15:06:55.462Z"
   },
   {
    "duration": 152,
    "start_time": "2023-03-25T15:06:55.472Z"
   },
   {
    "duration": 6,
    "start_time": "2023-03-25T15:06:55.626Z"
   },
   {
    "duration": 4,
    "start_time": "2023-03-25T15:06:55.633Z"
   },
   {
    "duration": 6,
    "start_time": "2023-03-25T15:06:55.638Z"
   },
   {
    "duration": 11,
    "start_time": "2023-03-25T15:06:55.662Z"
   },
   {
    "duration": 10,
    "start_time": "2023-03-25T15:06:55.675Z"
   },
   {
    "duration": 7,
    "start_time": "2023-03-25T15:06:55.687Z"
   },
   {
    "duration": 15,
    "start_time": "2023-03-25T15:06:55.695Z"
   },
   {
    "duration": 12,
    "start_time": "2023-03-25T15:06:55.712Z"
   },
   {
    "duration": 8,
    "start_time": "2023-03-25T15:06:55.761Z"
   },
   {
    "duration": 15,
    "start_time": "2023-03-25T15:06:55.770Z"
   },
   {
    "duration": 315,
    "start_time": "2023-03-25T15:06:55.787Z"
   },
   {
    "duration": 9,
    "start_time": "2023-03-25T15:06:56.104Z"
   },
   {
    "duration": 15,
    "start_time": "2023-03-25T15:06:56.115Z"
   },
   {
    "duration": 46,
    "start_time": "2023-03-25T15:06:56.132Z"
   },
   {
    "duration": 8,
    "start_time": "2023-03-25T15:06:56.179Z"
   },
   {
    "duration": 3,
    "start_time": "2023-03-25T15:06:56.189Z"
   },
   {
    "duration": 6,
    "start_time": "2023-03-25T15:06:56.193Z"
   },
   {
    "duration": 247,
    "start_time": "2023-03-25T15:06:56.201Z"
   },
   {
    "duration": 4,
    "start_time": "2023-03-25T15:06:56.450Z"
   },
   {
    "duration": 3,
    "start_time": "2023-03-25T15:06:56.462Z"
   },
   {
    "duration": 6,
    "start_time": "2023-03-25T15:06:56.467Z"
   },
   {
    "duration": 250,
    "start_time": "2023-03-25T15:06:56.475Z"
   },
   {
    "duration": 326,
    "start_time": "2023-03-25T15:06:56.727Z"
   },
   {
    "duration": 8,
    "start_time": "2023-03-25T15:06:57.054Z"
   },
   {
    "duration": 3,
    "start_time": "2023-03-25T15:06:57.064Z"
   },
   {
    "duration": 46,
    "start_time": "2023-03-25T15:06:57.068Z"
   },
   {
    "duration": 1352,
    "start_time": "2023-03-25T15:06:57.115Z"
   },
   {
    "duration": 7,
    "start_time": "2023-03-25T15:06:58.468Z"
   },
   {
    "duration": 13,
    "start_time": "2023-03-25T15:06:58.477Z"
   },
   {
    "duration": 18,
    "start_time": "2023-03-25T15:06:58.491Z"
   },
   {
    "duration": 295,
    "start_time": "2023-03-25T15:06:58.511Z"
   },
   {
    "duration": 290,
    "start_time": "2023-03-25T15:06:58.808Z"
   },
   {
    "duration": 8,
    "start_time": "2023-03-25T15:06:59.100Z"
   },
   {
    "duration": 7,
    "start_time": "2023-03-25T15:06:59.115Z"
   },
   {
    "duration": 10,
    "start_time": "2023-03-25T15:06:59.124Z"
   },
   {
    "duration": 442,
    "start_time": "2023-03-25T15:06:59.136Z"
   },
   {
    "duration": 134,
    "start_time": "2023-03-25T15:06:59.579Z"
   },
   {
    "duration": 9,
    "start_time": "2023-03-25T15:06:59.715Z"
   },
   {
    "duration": 9,
    "start_time": "2023-03-25T15:06:59.726Z"
   },
   {
    "duration": 32,
    "start_time": "2023-03-25T15:06:59.737Z"
   },
   {
    "duration": 354,
    "start_time": "2023-03-25T15:06:59.772Z"
   },
   {
    "duration": 135,
    "start_time": "2023-03-25T15:07:00.128Z"
   },
   {
    "duration": 538,
    "start_time": "2023-03-25T15:07:00.265Z"
   },
   {
    "duration": 147,
    "start_time": "2023-03-25T15:07:00.805Z"
   },
   {
    "duration": 9,
    "start_time": "2023-03-25T15:07:00.961Z"
   },
   {
    "duration": 44,
    "start_time": "2023-03-25T15:07:00.972Z"
   },
   {
    "duration": 34,
    "start_time": "2023-03-25T15:07:01.018Z"
   },
   {
    "duration": 45,
    "start_time": "2023-03-25T15:07:01.054Z"
   },
   {
    "duration": 38,
    "start_time": "2023-03-25T15:07:01.101Z"
   },
   {
    "duration": 39,
    "start_time": "2023-03-25T15:07:01.141Z"
   },
   {
    "duration": 344,
    "start_time": "2023-03-25T15:07:01.182Z"
   },
   {
    "duration": 123,
    "start_time": "2023-03-25T15:07:01.528Z"
   },
   {
    "duration": 20,
    "start_time": "2023-03-25T15:07:01.653Z"
   },
   {
    "duration": 47,
    "start_time": "2023-03-25T15:07:01.674Z"
   },
   {
    "duration": 45,
    "start_time": "2023-03-25T15:07:01.723Z"
   },
   {
    "duration": 5,
    "start_time": "2023-03-25T15:07:01.770Z"
   },
   {
    "duration": 23,
    "start_time": "2023-03-25T15:07:01.778Z"
   },
   {
    "duration": 34,
    "start_time": "2023-03-25T15:07:01.803Z"
   },
   {
    "duration": 23,
    "start_time": "2023-03-25T15:07:01.839Z"
   },
   {
    "duration": 14,
    "start_time": "2023-03-25T15:07:01.863Z"
   },
   {
    "duration": 25,
    "start_time": "2023-03-25T15:07:01.878Z"
   },
   {
    "duration": 18,
    "start_time": "2023-03-25T15:07:01.905Z"
   },
   {
    "duration": 118,
    "start_time": "2023-03-25T15:07:01.924Z"
   },
   {
    "duration": 29,
    "start_time": "2023-03-25T15:07:02.044Z"
   },
   {
    "duration": 30,
    "start_time": "2023-03-25T15:07:02.075Z"
   },
   {
    "duration": 30,
    "start_time": "2023-03-25T15:07:02.106Z"
   },
   {
    "duration": 20,
    "start_time": "2023-03-25T15:07:02.138Z"
   },
   {
    "duration": 23,
    "start_time": "2023-03-25T15:07:02.159Z"
   },
   {
    "duration": 170,
    "start_time": "2023-03-25T15:07:02.184Z"
   },
   {
    "duration": 0,
    "start_time": "2023-03-25T15:07:02.356Z"
   },
   {
    "duration": 0,
    "start_time": "2023-03-25T15:07:02.357Z"
   },
   {
    "duration": 0,
    "start_time": "2023-03-25T15:07:02.358Z"
   },
   {
    "duration": 0,
    "start_time": "2023-03-25T15:07:02.359Z"
   },
   {
    "duration": 0,
    "start_time": "2023-03-25T15:07:02.361Z"
   },
   {
    "duration": 0,
    "start_time": "2023-03-25T15:07:02.362Z"
   },
   {
    "duration": 0,
    "start_time": "2023-03-25T15:07:02.363Z"
   },
   {
    "duration": 0,
    "start_time": "2023-03-25T15:07:02.364Z"
   },
   {
    "duration": 0,
    "start_time": "2023-03-25T15:07:02.365Z"
   },
   {
    "duration": 0,
    "start_time": "2023-03-25T15:07:02.366Z"
   }
  ],
  "kernelspec": {
   "display_name": "Python 3 (ipykernel)",
   "language": "python",
   "name": "python3"
  },
  "language_info": {
   "codemirror_mode": {
    "name": "ipython",
    "version": 3
   },
   "file_extension": ".py",
   "mimetype": "text/x-python",
   "name": "python",
   "nbconvert_exporter": "python",
   "pygments_lexer": "ipython3",
   "version": "3.9.13"
  },
  "toc": {
   "base_numbering": 1,
   "nav_menu": {},
   "number_sections": true,
   "sideBar": true,
   "skip_h1_title": true,
   "title_cell": "Table of Contents",
   "title_sidebar": "Contents",
   "toc_cell": false,
   "toc_position": {
    "height": "486px",
    "left": "248px",
    "top": "153px",
    "width": "165px"
   },
   "toc_section_display": true,
   "toc_window_display": true
  }
 },
 "nbformat": 4,
 "nbformat_minor": 5
}
